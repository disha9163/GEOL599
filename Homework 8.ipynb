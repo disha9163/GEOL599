{
 "cells": [
  {
   "cell_type": "code",
   "execution_count": 1,
   "id": "88c4ba56-d307-4c84-be92-1fbdf175f847",
   "metadata": {
    "tags": []
   },
   "outputs": [],
   "source": [
    "# importing libraries\n",
    "import pandas as pd\n",
    "import numpy as np\n",
    "from matplotlib import pyplot as plt\n",
    "import seaborn as sns\n",
    "from sklearn import linear_model\n",
    "from sklearn.tree import DecisionTreeRegressor\n",
    "from sklearn.ensemble import RandomForestRegressor\n",
    "from sklearn.datasets import make_regression\n",
    "# Mean squared error \n",
    "from sklearn.metrics import mean_squared_error"
   ]
  },
  {
   "cell_type": "code",
   "execution_count": 2,
   "id": "2b738692-b8f2-4b9d-9ca1-43e62ee28ff4",
   "metadata": {
    "tags": []
   },
   "outputs": [
    {
     "data": {
      "text/html": [
       "<div>\n",
       "<style scoped>\n",
       "    .dataframe tbody tr th:only-of-type {\n",
       "        vertical-align: middle;\n",
       "    }\n",
       "\n",
       "    .dataframe tbody tr th {\n",
       "        vertical-align: top;\n",
       "    }\n",
       "\n",
       "    .dataframe thead th {\n",
       "        text-align: right;\n",
       "    }\n",
       "</style>\n",
       "<table border=\"1\" class=\"dataframe\">\n",
       "  <thead>\n",
       "    <tr style=\"text-align: right;\">\n",
       "      <th></th>\n",
       "      <th>YY</th>\n",
       "      <th>MM</th>\n",
       "      <th>DD</th>\n",
       "      <th>hh</th>\n",
       "      <th>mm</th>\n",
       "      <th>WDIR</th>\n",
       "      <th>WSPD</th>\n",
       "      <th>GST</th>\n",
       "      <th>WVHT</th>\n",
       "      <th>DPD</th>\n",
       "      <th>APD</th>\n",
       "      <th>MWD</th>\n",
       "      <th>PRES</th>\n",
       "      <th>ATMP</th>\n",
       "      <th>WTMP</th>\n",
       "      <th>DEWP</th>\n",
       "      <th>VIS</th>\n",
       "      <th>TIDE</th>\n",
       "    </tr>\n",
       "  </thead>\n",
       "  <tbody>\n",
       "    <tr>\n",
       "      <th>0</th>\n",
       "      <td>2023</td>\n",
       "      <td>1</td>\n",
       "      <td>1</td>\n",
       "      <td>0</td>\n",
       "      <td>26</td>\n",
       "      <td>999</td>\n",
       "      <td>99.0</td>\n",
       "      <td>99.0</td>\n",
       "      <td>1.12</td>\n",
       "      <td>12.50</td>\n",
       "      <td>7.69</td>\n",
       "      <td>269</td>\n",
       "      <td>9999.0</td>\n",
       "      <td>999.0</td>\n",
       "      <td>15.3</td>\n",
       "      <td>999.0</td>\n",
       "      <td>99.0</td>\n",
       "      <td>99.0</td>\n",
       "    </tr>\n",
       "    <tr>\n",
       "      <th>1</th>\n",
       "      <td>2023</td>\n",
       "      <td>1</td>\n",
       "      <td>1</td>\n",
       "      <td>0</td>\n",
       "      <td>56</td>\n",
       "      <td>999</td>\n",
       "      <td>99.0</td>\n",
       "      <td>99.0</td>\n",
       "      <td>1.16</td>\n",
       "      <td>11.76</td>\n",
       "      <td>7.34</td>\n",
       "      <td>272</td>\n",
       "      <td>9999.0</td>\n",
       "      <td>999.0</td>\n",
       "      <td>15.3</td>\n",
       "      <td>999.0</td>\n",
       "      <td>99.0</td>\n",
       "      <td>99.0</td>\n",
       "    </tr>\n",
       "    <tr>\n",
       "      <th>2</th>\n",
       "      <td>2023</td>\n",
       "      <td>1</td>\n",
       "      <td>1</td>\n",
       "      <td>1</td>\n",
       "      <td>26</td>\n",
       "      <td>999</td>\n",
       "      <td>99.0</td>\n",
       "      <td>99.0</td>\n",
       "      <td>1.20</td>\n",
       "      <td>12.50</td>\n",
       "      <td>7.08</td>\n",
       "      <td>268</td>\n",
       "      <td>9999.0</td>\n",
       "      <td>999.0</td>\n",
       "      <td>15.3</td>\n",
       "      <td>999.0</td>\n",
       "      <td>99.0</td>\n",
       "      <td>99.0</td>\n",
       "    </tr>\n",
       "    <tr>\n",
       "      <th>3</th>\n",
       "      <td>2023</td>\n",
       "      <td>1</td>\n",
       "      <td>1</td>\n",
       "      <td>1</td>\n",
       "      <td>56</td>\n",
       "      <td>999</td>\n",
       "      <td>99.0</td>\n",
       "      <td>99.0</td>\n",
       "      <td>1.25</td>\n",
       "      <td>10.53</td>\n",
       "      <td>7.33</td>\n",
       "      <td>268</td>\n",
       "      <td>9999.0</td>\n",
       "      <td>999.0</td>\n",
       "      <td>15.4</td>\n",
       "      <td>999.0</td>\n",
       "      <td>99.0</td>\n",
       "      <td>99.0</td>\n",
       "    </tr>\n",
       "    <tr>\n",
       "      <th>4</th>\n",
       "      <td>2023</td>\n",
       "      <td>1</td>\n",
       "      <td>1</td>\n",
       "      <td>2</td>\n",
       "      <td>26</td>\n",
       "      <td>999</td>\n",
       "      <td>99.0</td>\n",
       "      <td>99.0</td>\n",
       "      <td>1.27</td>\n",
       "      <td>10.53</td>\n",
       "      <td>7.57</td>\n",
       "      <td>268</td>\n",
       "      <td>9999.0</td>\n",
       "      <td>999.0</td>\n",
       "      <td>15.5</td>\n",
       "      <td>999.0</td>\n",
       "      <td>99.0</td>\n",
       "      <td>99.0</td>\n",
       "    </tr>\n",
       "  </tbody>\n",
       "</table>\n",
       "</div>"
      ],
      "text/plain": [
       "     YY  MM  DD  hh  mm  WDIR  WSPD   GST  WVHT    DPD   APD  MWD    PRES  \\\n",
       "0  2023   1   1   0  26   999  99.0  99.0  1.12  12.50  7.69  269  9999.0   \n",
       "1  2023   1   1   0  56   999  99.0  99.0  1.16  11.76  7.34  272  9999.0   \n",
       "2  2023   1   1   1  26   999  99.0  99.0  1.20  12.50  7.08  268  9999.0   \n",
       "3  2023   1   1   1  56   999  99.0  99.0  1.25  10.53  7.33  268  9999.0   \n",
       "4  2023   1   1   2  26   999  99.0  99.0  1.27  10.53  7.57  268  9999.0   \n",
       "\n",
       "    ATMP  WTMP   DEWP   VIS  TIDE  \n",
       "0  999.0  15.3  999.0  99.0  99.0  \n",
       "1  999.0  15.3  999.0  99.0  99.0  \n",
       "2  999.0  15.3  999.0  99.0  99.0  \n",
       "3  999.0  15.4  999.0  99.0  99.0  \n",
       "4  999.0  15.5  999.0  99.0  99.0  "
      ]
     },
     "execution_count": 2,
     "metadata": {},
     "output_type": "execute_result"
    }
   ],
   "source": [
    "fileName = \"xid-92685698_2.txt\" \n",
    "df = pd.read_csv(fileName, delim_whitespace=True) \n",
    "df.head()"
   ]
  },
  {
   "cell_type": "code",
   "execution_count": 3,
   "id": "67e2ff75-1d29-4439-b37e-ff5c95234fa0",
   "metadata": {
    "tags": []
   },
   "outputs": [
    {
     "data": {
      "text/plain": [
       "(17285, 18)"
      ]
     },
     "execution_count": 3,
     "metadata": {},
     "output_type": "execute_result"
    }
   ],
   "source": [
    "df.shape"
   ]
  },
  {
   "cell_type": "code",
   "execution_count": 4,
   "id": "5999ced8-d986-4836-9e02-94e90e9304bb",
   "metadata": {
    "tags": []
   },
   "outputs": [
    {
     "data": {
      "text/html": [
       "<div>\n",
       "<style scoped>\n",
       "    .dataframe tbody tr th:only-of-type {\n",
       "        vertical-align: middle;\n",
       "    }\n",
       "\n",
       "    .dataframe tbody tr th {\n",
       "        vertical-align: top;\n",
       "    }\n",
       "\n",
       "    .dataframe thead th {\n",
       "        text-align: right;\n",
       "    }\n",
       "</style>\n",
       "<table border=\"1\" class=\"dataframe\">\n",
       "  <thead>\n",
       "    <tr style=\"text-align: right;\">\n",
       "      <th></th>\n",
       "      <th>DPD</th>\n",
       "      <th>APD</th>\n",
       "      <th>MWD</th>\n",
       "      <th>WTMP</th>\n",
       "      <th>WVHT</th>\n",
       "    </tr>\n",
       "  </thead>\n",
       "  <tbody>\n",
       "    <tr>\n",
       "      <th>0</th>\n",
       "      <td>12.50</td>\n",
       "      <td>7.69</td>\n",
       "      <td>269</td>\n",
       "      <td>15.3</td>\n",
       "      <td>1.12</td>\n",
       "    </tr>\n",
       "    <tr>\n",
       "      <th>1</th>\n",
       "      <td>11.76</td>\n",
       "      <td>7.34</td>\n",
       "      <td>272</td>\n",
       "      <td>15.3</td>\n",
       "      <td>1.16</td>\n",
       "    </tr>\n",
       "    <tr>\n",
       "      <th>2</th>\n",
       "      <td>12.50</td>\n",
       "      <td>7.08</td>\n",
       "      <td>268</td>\n",
       "      <td>15.3</td>\n",
       "      <td>1.20</td>\n",
       "    </tr>\n",
       "    <tr>\n",
       "      <th>3</th>\n",
       "      <td>10.53</td>\n",
       "      <td>7.33</td>\n",
       "      <td>268</td>\n",
       "      <td>15.4</td>\n",
       "      <td>1.25</td>\n",
       "    </tr>\n",
       "    <tr>\n",
       "      <th>4</th>\n",
       "      <td>10.53</td>\n",
       "      <td>7.57</td>\n",
       "      <td>268</td>\n",
       "      <td>15.5</td>\n",
       "      <td>1.27</td>\n",
       "    </tr>\n",
       "  </tbody>\n",
       "</table>\n",
       "</div>"
      ],
      "text/plain": [
       "     DPD   APD  MWD  WTMP  WVHT\n",
       "0  12.50  7.69  269  15.3  1.12\n",
       "1  11.76  7.34  272  15.3  1.16\n",
       "2  12.50  7.08  268  15.3  1.20\n",
       "3  10.53  7.33  268  15.4  1.25\n",
       "4  10.53  7.57  268  15.5  1.27"
      ]
     },
     "execution_count": 4,
     "metadata": {},
     "output_type": "execute_result"
    }
   ],
   "source": [
    "df_w = df[[\"DPD\",\"APD\",\"MWD\",\"WTMP\",\"WVHT\"]]\n",
    "df_w.head()"
   ]
  },
  {
   "cell_type": "code",
   "execution_count": 5,
   "id": "f211ae04-d211-4ca8-9c1c-d4cf2c3e6097",
   "metadata": {
    "tags": []
   },
   "outputs": [],
   "source": [
    "xVal = df_w[['DPD','APD','WTMP','MWD']].to_numpy()\n",
    "yVal = np.array(df_w['WVHT'])"
   ]
  },
  {
   "cell_type": "code",
   "execution_count": 6,
   "id": "6158b0ba-b44f-4d72-a03f-9f67ed9cc64b",
   "metadata": {
    "tags": []
   },
   "outputs": [],
   "source": [
    "from sklearn.model_selection import train_test_split\n",
    "X_train_temp, X_temp, y_train_temp, y_temp = train_test_split(xVal, yVal, test_size=0.2)\n",
    "X_val, X_test, y_val, y_test = train_test_split(X_temp, y_temp, test_size=0.5)"
   ]
  },
  {
   "cell_type": "markdown",
   "id": "0c4aa989-9c5e-41b9-9fc7-d69eabcc6faf",
   "metadata": {},
   "source": [
    "# Baseline linear model"
   ]
  },
  {
   "cell_type": "code",
   "execution_count": 7,
   "id": "bd85ad76-368e-43ab-bde7-cd44d0102ac4",
   "metadata": {
    "tags": []
   },
   "outputs": [
    {
     "name": "stdout",
     "output_type": "stream",
     "text": [
      "1.694412020877801\n",
      "2.774359592268051\n",
      "1.903864058753195\n"
     ]
    }
   ],
   "source": [
    "lm= linear_model.LinearRegression()\n",
    "lm.fit(X_train_temp,y_train_temp)\n",
    "lm_y1 = lm.predict(X_train_temp)\n",
    "lm_y2 = lm.predict(X_test)\n",
    "lm_y3 = lm.predict(X_val)\n",
    "lm_err = mean_squared_error(lm_y1,y_train_temp)\n",
    "print(mean_squared_error(lm_y1,y_train_temp))\n",
    "print(mean_squared_error(lm_y2,y_test))\n",
    "print(mean_squared_error(lm_y3,y_val))\n",
    "#print(lm.score(X_train_temp, y_train_temp))"
   ]
  },
  {
   "cell_type": "markdown",
   "id": "a42f31ec-9c3d-42da-a705-048e2ca4b29a",
   "metadata": {},
   "source": [
    "# Decision Tree regressor\n"
   ]
  },
  {
   "cell_type": "code",
   "execution_count": 8,
   "id": "3a148197-05b0-448f-81d4-5042286eed61",
   "metadata": {
    "tags": []
   },
   "outputs": [
    {
     "name": "stdout",
     "output_type": "stream",
     "text": [
      "3.684553080705814e-05 | score -  0.9999917114288527\n"
     ]
    }
   ],
   "source": [
    "dtr = DecisionTreeRegressor(criterion = 'squared_error')\n",
    "dtr.fit(X_train_temp, y_train_temp)\n",
    "ypred = dtr.predict(X_train_temp)\n",
    "score = dtr.score(X_train_temp,y_train_temp)\n",
    "\n",
    "print(mean_squared_error(y_train_temp,ypred), \"| score - \", score)"
   ]
  },
  {
   "cell_type": "code",
   "execution_count": 9,
   "id": "95c22f76-ef54-4665-a0dd-997f5cbd81da",
   "metadata": {
    "tags": []
   },
   "outputs": [
    {
     "name": "stdout",
     "output_type": "stream",
     "text": [
      "0.135715008675535 | score -  0.9880455519701898\n"
     ]
    }
   ],
   "source": [
    "dtr = DecisionTreeRegressor(criterion = 'squared_error')\n",
    "dtr.fit(X_train_temp, y_train_temp)\n",
    "ypred = dtr.predict(X_test)\n",
    "score = dtr.score(X_test,y_test)\n",
    "print(mean_squared_error(y_test,ypred), \"| score - \", score)"
   ]
  },
  {
   "cell_type": "code",
   "execution_count": 10,
   "id": "a3e929dc-9786-4824-b995-c818688becfb",
   "metadata": {
    "tags": []
   },
   "outputs": [
    {
     "name": "stdout",
     "output_type": "stream",
     "text": [
      "0.15219597800925924 | score -  0.9737448195909166\n"
     ]
    }
   ],
   "source": [
    "dtr = DecisionTreeRegressor(criterion = 'squared_error')\n",
    "dtr.fit(X_train_temp, y_train_temp)\n",
    "ypred = dtr.predict(X_val)\n",
    "score = dtr.score(X_val,y_val)\n",
    "print(mean_squared_error(y_val,ypred), \"| score - \", score)"
   ]
  },
  {
   "cell_type": "markdown",
   "id": "9ff633b6-9d76-4589-95a0-26a1aceb4e19",
   "metadata": {},
   "source": [
    "# Random forest regressor"
   ]
  },
  {
   "cell_type": "code",
   "execution_count": 51,
   "id": "c7ea9b6a-37cb-480f-8292-12378089b5be",
   "metadata": {
    "tags": []
   },
   "outputs": [
    {
     "name": "stdout",
     "output_type": "stream",
     "text": [
      "0.01239699311320952 | score -  0.9972112395402761\n"
     ]
    }
   ],
   "source": [
    "rfr = RandomForestRegressor(n_estimators = 25, random_state=0)\n",
    "rfr.fit(X_train_temp, y_train_temp)\n",
    "ypred = rfr.predict(X_train_temp)\n",
    "score = rfr.score(X_train_temp,y_train_temp)\n",
    "print(mean_squared_error(y_train_temp,ypred), \"| score - \", score) "
   ]
  },
  {
   "cell_type": "code",
   "execution_count": 52,
   "id": "d3d3cd0b-e47a-425f-bcba-82dcbffd3bed",
   "metadata": {
    "tags": []
   },
   "outputs": [
    {
     "name": "stdout",
     "output_type": "stream",
     "text": [
      "0.07505916097078594 | score -  0.9933884185121217\n"
     ]
    }
   ],
   "source": [
    "rfr = RandomForestRegressor(n_estimators = 25, random_state=0)\n",
    "rfr.fit(X_train_temp, y_train_temp)\n",
    "ypred = rfr.predict(X_test)\n",
    "score = rfr.score(X_test,y_test)\n",
    "print(mean_squared_error(y_test,ypred), \"| score - \", score) "
   ]
  },
  {
   "cell_type": "code",
   "execution_count": 46,
   "id": "939bc518-6ead-4aa3-aef7-dc64bdf73b6c",
   "metadata": {
    "tags": []
   },
   "outputs": [
    {
     "name": "stdout",
     "output_type": "stream",
     "text": [
      "0.08554942931693225 | score -  0.9852419510029791\n"
     ]
    }
   ],
   "source": [
    "rfr = RandomForestRegressor(n_estimators = 25, random_state=0)\n",
    "rfr.fit(X_train_temp, y_train_temp)\n",
    "ypred = rfr.predict(X_val)\n",
    "score = rfr.score(X_val,y_val)\n",
    "print(mean_squared_error(y_val,ypred), \"| score - \", score) "
   ]
  },
  {
   "cell_type": "markdown",
   "id": "ec31e6b3-45ea-45c4-a5b2-16de799407ff",
   "metadata": {},
   "source": [
    "1. Fit a decision tree regressor and random forest regressor with 25 trees. Compare with a baseline linear model of your choice. Which model performs best? Report performance on the training, validation, and test dataset.\n",
    " - For the training set, decision tree regressor worked the best but for validation and test set, random forest model performed the best."
   ]
  },
  {
   "cell_type": "markdown",
   "id": "1f4a8bce-3137-41e7-80b0-a5d55841331d",
   "metadata": {},
   "source": [
    "2. What cost function are you using for each model?\n",
    "- For the baseline linear model, the cost function is the root mean squaured\n",
    "- For the decision tree model, the cost function is the squared error.\n",
    "- For the random forest model, the cost function is the gini impurity. "
   ]
  },
  {
   "cell_type": "markdown",
   "id": "0e356e97-448e-4ffa-84a8-e336fb726461",
   "metadata": {},
   "source": [
    "3. What(if any)hyperparameters did you optimize?\n",
    "- when I changed the cost function while fitting the test dataset to 'absolute_error' in decision tree regressor model, the mean squared error between the predicted and the y values in the test dataset increased."
   ]
  },
  {
   "cell_type": "code",
   "execution_count": 56,
   "id": "00f38cb9-ec4d-4dfe-b92c-9925eba61d73",
   "metadata": {
    "tags": []
   },
   "outputs": [
    {
     "name": "stdout",
     "output_type": "stream",
     "text": [
      "0.14534561631944445 | score -  0.9749265688354507\n"
     ]
    }
   ],
   "source": [
    "dtr = DecisionTreeRegressor(criterion = 'absolute_error')\n",
    "dtr.fit(X_train_temp, y_train_temp)\n",
    "ypred = dtr.predict(X_val)\n",
    "score = dtr.score(X_val,y_val)\n",
    "print(mean_squared_error(y_val,ypred), \"| score - \", score)"
   ]
  },
  {
   "cell_type": "markdown",
   "id": "1c4c55e1-d69a-477e-aa13-2942a7dddc76",
   "metadata": {},
   "source": [
    "4. If you redo your train/validation splits, do you get the same answers?\n",
    "- yes, I get the same answers when I redo my train/validation splits."
   ]
  },
  {
   "cell_type": "markdown",
   "id": "ea64ddb3-f0b0-4378-a1ca-7561ca16217c",
   "metadata": {},
   "source": [
    "5. Train a random forest model on this prediction task with a 2, 10, 25, 50, 100, 250, 500, & 1,000 trees. Plot the training and validation error as a function of number of trees."
   ]
  },
  {
   "cell_type": "code",
   "execution_count": 39,
   "id": "824fb6e7-f911-4805-b320-ad7175806854",
   "metadata": {
    "tags": []
   },
   "outputs": [
    {
     "name": "stdout",
     "output_type": "stream",
     "text": [
      "0.033228148845538846 | score -  0.9925251755160275\n",
      "0.014850332206272299 | score -  0.9966593496590325\n",
      "0.01239699311320952 | score -  0.9972112395402761\n",
      "0.011335379872627787 | score -  0.9974500543078425\n",
      "0.010835707179337444 | score -  0.997562457971951\n",
      "0.010638198320094971 | score -  0.9976068884957136\n",
      "0.010558458836090062 | score -  0.9976248262583662\n",
      "0.010519811130225418 | score -  0.9976335202370585\n"
     ]
    }
   ],
   "source": [
    "trees = [2,10,25,50,100,250,500,1000]\n",
    "for i in trees:             \n",
    "    rfr = RandomForestRegressor(n_estimators=i, random_state=0)\n",
    "    rfr.fit(X_train_temp, y_train_temp)\n",
    "    ypred1 = rfr.predict(X_train_temp)\n",
    "    score = rfr.score(X_train_temp,y_train_temp)\n",
    "    print(mean_squared_error(y_train_temp,ypred1), \"| score - \", score)    "
   ]
  },
  {
   "cell_type": "code",
   "execution_count": 18,
   "id": "d15e1d54-a824-4d9c-82d7-cba70f37594d",
   "metadata": {
    "tags": []
   },
   "outputs": [],
   "source": [
    "trees = [2,10,25,50,100,250,500,1000]\n",
    "error1 =[]\n",
    "for i in trees:             \n",
    "    rfr = RandomForestRegressor(n_estimators=i, random_state=0)\n",
    "    rfr.fit(X_train_temp, y_train_temp)\n",
    "    ypred = rfr.predict(X_train_temp)\n",
    "    score = rfr.score(X_train_temp,y_train_temp)\n",
    "    err = (mean_squared_error(y_train_temp,ypred))\n",
    "    error1.append(err)\n"
   ]
  },
  {
   "cell_type": "code",
   "execution_count": 19,
   "id": "0124a743-c8a0-44a4-9420-0c99bf975e99",
   "metadata": {
    "tags": []
   },
   "outputs": [
    {
     "data": {
      "text/plain": [
       "<Axes: >"
      ]
     },
     "execution_count": 19,
     "metadata": {},
     "output_type": "execute_result"
    },
    {
     "data": {
      "image/png": "[encoded data removed]",
      "text/plain": [
       "<Figure size 640x480 with 1 Axes>"
      ]
     },
     "metadata": {},
     "output_type": "display_data"
    }
   ],
   "source": [
    "sns.scatterplot(x = trees, y = error1)"
   ]
  },
  {
   "cell_type": "code",
   "execution_count": 20,
   "id": "6115ae3e-5b42-4d45-913b-4cf3bd026bf5",
   "metadata": {
    "tags": []
   },
   "outputs": [
    {
     "name": "stdout",
     "output_type": "stream",
     "text": [
      "0.19241791318774726 | score -  0.9668061726021677\n",
      "0.09855251830882866 | score -  0.9829988007448504\n",
      "0.08293772882610889 | score -  0.9856924929191188\n",
      "0.0827312588199406 | score -  0.9857281108594345\n",
      "0.0827312588199406 | score -  0.9857281108594345\n",
      "0.0827312588199406 | score -  0.9857281108594345\n",
      "0.0827312588199406 | score -  0.9857281108594345\n",
      "0.0827312588199406 | score -  0.9857281108594345\n"
     ]
    }
   ],
   "source": [
    "trees = [2,10,25,50,100,250,500,1000]\n",
    "for i in trees:             \n",
    "    rfr = RandomForestRegressor(max_depth=i, random_state=0)\n",
    "    rfr.fit(X_train_temp, y_train_temp)\n",
    "    ypred2 = rfr.predict(X_val)\n",
    "    score = rfr.score(X_val,y_val)\n",
    "    print(mean_squared_error(y_val,ypred2), \"| score - \", score) "
   ]
  },
  {
   "cell_type": "code",
   "execution_count": 21,
   "id": "d316fc26-24db-4745-88bf-4f8cb7ff1a06",
   "metadata": {
    "tags": []
   },
   "outputs": [],
   "source": [
    "trees = [2,10,25,50,100,250,500,1000]\n",
    "error2 =[]\n",
    "for i in trees:             \n",
    "    rfr = RandomForestRegressor(n_estimators=i, random_state=0)\n",
    "    rfr.fit(X_train_temp, y_train_temp)\n",
    "    ypred = rfr.predict(X_val)\n",
    "    score = rfr.score(X_val,y_val)\n",
    "    err = (mean_squared_error(y_val,ypred))\n",
    "    error2.append(err)\n"
   ]
  },
  {
   "cell_type": "code",
   "execution_count": 22,
   "id": "6d2e76dc-9cba-41a8-b5a3-78561540e289",
   "metadata": {
    "tags": []
   },
   "outputs": [
    {
     "data": {
      "text/plain": [
       "<Axes: >"
      ]
     },
     "execution_count": 22,
     "metadata": {},
     "output_type": "execute_result"
    },
    {
     "data": {
      "image/png": "[encoded data removed]",
      "text/plain": [
       "<Figure size 640x480 with 1 Axes>"
      ]
     },
     "metadata": {},
     "output_type": "display_data"
    }
   ],
   "source": [
    "sns.scatterplot(x = trees, y = error2)"
   ]
  },
  {
   "cell_type": "code",
   "execution_count": 23,
   "id": "461fc952-6e26-457d-affa-5a21ea0353be",
   "metadata": {
    "tags": []
   },
   "outputs": [
    {
     "name": "stdout",
     "output_type": "stream",
     "text": [
      "0.20007564380412163 | score -  0.9823763494603206\n",
      "0.08829908444141922 | score -  0.9922221806833583\n",
      "0.07321429607694536 | score -  0.993550923320622\n",
      "0.07287887158664125 | score -  0.9935804691658192\n",
      "0.07287887158664125 | score -  0.9935804691658192\n",
      "0.07287887158664125 | score -  0.9935804691658192\n",
      "0.07287887158664125 | score -  0.9935804691658192\n",
      "0.07287887158664125 | score -  0.9935804691658192\n"
     ]
    }
   ],
   "source": [
    "trees = [2,10,25,50,100,250,500,1000]\n",
    "for i in trees:             \n",
    "    rfr = RandomForestRegressor(max_depth=i, random_state=0)\n",
    "    rfr.fit(X_train_temp, y_train_temp)\n",
    "    ypred3 = rfr.predict(X_test)\n",
    "    score = rfr.score(X_test,y_test)\n",
    "    print(mean_squared_error(y_test,ypred3), \"| score - \", score) "
   ]
  },
  {
   "cell_type": "code",
   "execution_count": 24,
   "id": "a3843a3b-0879-4455-9413-06e8864c322b",
   "metadata": {},
   "outputs": [],
   "source": [
    "trees = [2,10,25,50,100,250,500,1000]\n",
    "error3 =[]\n",
    "for i in trees:             \n",
    "    rfr = RandomForestRegressor(n_estimators=i, random_state=0)\n",
    "    rfr.fit(X_train_temp, y_train_temp)\n",
    "    ypred = rfr.predict(X_test)\n",
    "    score = rfr.score(X_test,y_test)\n",
    "    err = (mean_squared_error(y_test,ypred))\n",
    "    error3.append(err)"
   ]
  },
  {
   "cell_type": "code",
   "execution_count": 25,
   "id": "b2fea259-1bd1-4292-9ca5-7ed3c5325bf1",
   "metadata": {},
   "outputs": [
    {
     "data": {
      "text/plain": [
       "<Axes: >"
      ]
     },
     "execution_count": 25,
     "metadata": {},
     "output_type": "execute_result"
    },
    {
     "data": {
      "image/png": "[encoded data removed]",
      "text/plain": [
       "<Figure size 640x480 with 1 Axes>"
      ]
     },
     "metadata": {},
     "output_type": "display_data"
    }
   ],
   "source": [
    "sns.scatterplot(x = trees, y = error3)"
   ]
  },
  {
   "cell_type": "code",
   "execution_count": 58,
   "id": "f79e6466-16e8-433d-894f-fc4ead098c10",
   "metadata": {
    "tags": []
   },
   "outputs": [
    {
     "data": {
      "image/png": "[encoded data removed]",
      "text/plain": [
       "<Figure size 640x480 with 1 Axes>"
      ]
     },
     "metadata": {},
     "output_type": "display_data"
    }
   ],
   "source": [
    "plt.plot(trees, error1, \"-r\", label=\"Training error\")\n",
    "plt.plot(trees, error2, \"-b\", label=\"Validation error\" )\n",
    "plt.legend(loc=\"upper left\")\n",
    "plt.show()"
   ]
  },
  {
   "cell_type": "markdown",
   "id": "2489bdcd-476f-4dcd-8eaa-dbb1c157e15f",
   "metadata": {},
   "source": [
    "6. Do you have evidence of overfitting to the training dataset with 1,000 trees?\n",
    "- The above plot shows evidence of overfitting to the training dataset. Low training error with high validation error. "
   ]
  }
 ],
 "metadata": {
  "kernelspec": {
   "display_name": "pyleo",
   "language": "python",
   "name": "pyleo"
  },
  "language_info": {
   "codemirror_mode": {
    "name": "ipython",
    "version": 3
   },
   "file_extension": ".py",
   "mimetype": "text/x-python",
   "name": "python",
   "nbconvert_exporter": "python",
   "pygments_lexer": "ipython3",
   "version": "3.10.13"
  }
 },
 "nbformat": 4,
 "nbformat_minor": 5
}
