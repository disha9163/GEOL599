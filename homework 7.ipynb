{
 "cells": [
  {
   "cell_type": "code",
   "execution_count": 1,
   "id": "f7b96a41",
   "metadata": {
    "tags": []
   },
   "outputs": [],
   "source": [
    "# importing libraries\n",
    "import pandas as pd\n",
    "import numpy as np\n",
    "from matplotlib import pyplot as plt\n",
    "import seaborn as sns\n",
    "from sklearn import linear_model\n",
    "from sklearn.linear_model import RidgeClassifier\n",
    "from sklearn.linear_model import LogisticRegression"
   ]
  },
  {
   "cell_type": "code",
   "execution_count": 2,
   "id": "cab79a77",
   "metadata": {
    "tags": []
   },
   "outputs": [],
   "source": [
    "fileName = \"LA_AQS_2023.csv\" \n",
    "df = pd.read_csv(fileName) "
   ]
  },
  {
   "cell_type": "code",
   "execution_count": 3,
   "id": "8ede6e72",
   "metadata": {
    "tags": []
   },
   "outputs": [
    {
     "data": {
      "text/html": [
       "<div>\n",
       "<style scoped>\n",
       "    .dataframe tbody tr th:only-of-type {\n",
       "        vertical-align: middle;\n",
       "    }\n",
       "\n",
       "    .dataframe tbody tr th {\n",
       "        vertical-align: top;\n",
       "    }\n",
       "\n",
       "    .dataframe thead th {\n",
       "        text-align: right;\n",
       "    }\n",
       "</style>\n",
       "<table border=\"1\" class=\"dataframe\">\n",
       "  <thead>\n",
       "    <tr style=\"text-align: right;\">\n",
       "      <th></th>\n",
       "      <th>O3</th>\n",
       "    </tr>\n",
       "  </thead>\n",
       "  <tbody>\n",
       "    <tr>\n",
       "      <th>count</th>\n",
       "      <td>273.000000</td>\n",
       "    </tr>\n",
       "    <tr>\n",
       "      <th>mean</th>\n",
       "      <td>0.027899</td>\n",
       "    </tr>\n",
       "    <tr>\n",
       "      <th>std</th>\n",
       "      <td>0.007559</td>\n",
       "    </tr>\n",
       "    <tr>\n",
       "      <th>min</th>\n",
       "      <td>0.008333</td>\n",
       "    </tr>\n",
       "    <tr>\n",
       "      <th>25%</th>\n",
       "      <td>0.023958</td>\n",
       "    </tr>\n",
       "    <tr>\n",
       "      <th>50%</th>\n",
       "      <td>0.028458</td>\n",
       "    </tr>\n",
       "    <tr>\n",
       "      <th>75%</th>\n",
       "      <td>0.032958</td>\n",
       "    </tr>\n",
       "    <tr>\n",
       "      <th>max</th>\n",
       "      <td>0.045750</td>\n",
       "    </tr>\n",
       "  </tbody>\n",
       "</table>\n",
       "</div>"
      ],
      "text/plain": [
       "               O3\n",
       "count  273.000000\n",
       "mean     0.027899\n",
       "std      0.007559\n",
       "min      0.008333\n",
       "25%      0.023958\n",
       "50%      0.028458\n",
       "75%      0.032958\n",
       "max      0.045750"
      ]
     },
     "execution_count": 3,
     "metadata": {},
     "output_type": "execute_result"
    }
   ],
   "source": [
    "# Create an \"ozone only\" data frame\n",
    "df_O3 = df[(df['Parameter Name']=='Ozone') & (df['Duration Description']=='1 HOUR')]\n",
    "df_O3.head()\n",
    "o3V = df_O3[\"Arithmetic Mean\"]\n",
    "df_O3 = pd.DataFrame(data = {\"O3\" : o3V, 'date' : df_O3[\"Date (Local)\"]})\n",
    "df_O3.describe()"
   ]
  },
  {
   "cell_type": "code",
   "execution_count": 4,
   "id": "0135e773-d5a4-4137-8e16-1e0f90ba70a8",
   "metadata": {
    "tags": []
   },
   "outputs": [],
   "source": [
    "# Let's make sure 'date' is actually a date in pandas\n",
    "df_O3[\"Date (Local)\"] = pd.to_datetime(df_O3[\"date\"])"
   ]
  },
  {
   "cell_type": "code",
   "execution_count": 5,
   "id": "13ba77b7-bf1b-4c45-a3b6-6beee8dead71",
   "metadata": {
    "tags": []
   },
   "outputs": [
    {
     "data": {
      "text/html": [
       "<div>\n",
       "<style scoped>\n",
       "    .dataframe tbody tr th:only-of-type {\n",
       "        vertical-align: middle;\n",
       "    }\n",
       "\n",
       "    .dataframe tbody tr th {\n",
       "        vertical-align: top;\n",
       "    }\n",
       "\n",
       "    .dataframe thead th {\n",
       "        text-align: right;\n",
       "    }\n",
       "</style>\n",
       "<table border=\"1\" class=\"dataframe\">\n",
       "  <thead>\n",
       "    <tr style=\"text-align: right;\">\n",
       "      <th></th>\n",
       "      <th>NO2</th>\n",
       "    </tr>\n",
       "  </thead>\n",
       "  <tbody>\n",
       "    <tr>\n",
       "      <th>count</th>\n",
       "      <td>1092.000000</td>\n",
       "    </tr>\n",
       "    <tr>\n",
       "      <th>mean</th>\n",
       "      <td>13.350240</td>\n",
       "    </tr>\n",
       "    <tr>\n",
       "      <th>std</th>\n",
       "      <td>6.208615</td>\n",
       "    </tr>\n",
       "    <tr>\n",
       "      <th>min</th>\n",
       "      <td>3.458333</td>\n",
       "    </tr>\n",
       "    <tr>\n",
       "      <th>25%</th>\n",
       "      <td>8.804167</td>\n",
       "    </tr>\n",
       "    <tr>\n",
       "      <th>50%</th>\n",
       "      <td>11.672917</td>\n",
       "    </tr>\n",
       "    <tr>\n",
       "      <th>75%</th>\n",
       "      <td>16.725000</td>\n",
       "    </tr>\n",
       "    <tr>\n",
       "      <th>max</th>\n",
       "      <td>33.466667</td>\n",
       "    </tr>\n",
       "  </tbody>\n",
       "</table>\n",
       "</div>"
      ],
      "text/plain": [
       "               NO2\n",
       "count  1092.000000\n",
       "mean     13.350240\n",
       "std       6.208615\n",
       "min       3.458333\n",
       "25%       8.804167\n",
       "50%      11.672917\n",
       "75%      16.725000\n",
       "max      33.466667"
      ]
     },
     "execution_count": 5,
     "metadata": {},
     "output_type": "execute_result"
    }
   ],
   "source": [
    "#dataframe for NO2\n",
    "df_NO2 = df[(df[\"Parameter Name\"]==\"Nitrogen dioxide (NO2)\") & (df['Duration Description']==\"1 HOUR\")]\n",
    "df_NO2.head()\n",
    "NO2V = df_NO2[\"Arithmetic Mean\"]\n",
    "df_NO2 = pd.DataFrame(data = {\"NO2\" : NO2V, 'date' :df_NO2[\"Date (Local)\"]})\n",
    "df_NO2.describe()"
   ]
  },
  {
   "cell_type": "code",
   "execution_count": 6,
   "id": "c52653ba-ff62-4cf8-bda6-6232ca83140d",
   "metadata": {
    "tags": []
   },
   "outputs": [],
   "source": [
    "# Let's make sure 'date' is actually a date in pandas\n",
    "df_NO2[\"Date (Local)\"] = pd.to_datetime(df_NO2[\"date\"])\n"
   ]
  },
  {
   "cell_type": "code",
   "execution_count": 7,
   "id": "35adef68-0383-400c-ad18-0bf14f0395a8",
   "metadata": {
    "tags": []
   },
   "outputs": [
    {
     "data": {
      "text/html": [
       "<div>\n",
       "<style scoped>\n",
       "    .dataframe tbody tr th:only-of-type {\n",
       "        vertical-align: middle;\n",
       "    }\n",
       "\n",
       "    .dataframe tbody tr th {\n",
       "        vertical-align: top;\n",
       "    }\n",
       "\n",
       "    .dataframe thead th {\n",
       "        text-align: right;\n",
       "    }\n",
       "</style>\n",
       "<table border=\"1\" class=\"dataframe\">\n",
       "  <thead>\n",
       "    <tr style=\"text-align: right;\">\n",
       "      <th></th>\n",
       "      <th>PM25</th>\n",
       "    </tr>\n",
       "  </thead>\n",
       "  <tbody>\n",
       "    <tr>\n",
       "      <th>count</th>\n",
       "      <td>271.000000</td>\n",
       "    </tr>\n",
       "    <tr>\n",
       "      <th>mean</th>\n",
       "      <td>11.936013</td>\n",
       "    </tr>\n",
       "    <tr>\n",
       "      <th>std</th>\n",
       "      <td>5.106624</td>\n",
       "    </tr>\n",
       "    <tr>\n",
       "      <th>min</th>\n",
       "      <td>3.250000</td>\n",
       "    </tr>\n",
       "    <tr>\n",
       "      <th>25%</th>\n",
       "      <td>8.158333</td>\n",
       "    </tr>\n",
       "    <tr>\n",
       "      <th>50%</th>\n",
       "      <td>10.912500</td>\n",
       "    </tr>\n",
       "    <tr>\n",
       "      <th>75%</th>\n",
       "      <td>15.145833</td>\n",
       "    </tr>\n",
       "    <tr>\n",
       "      <th>max</th>\n",
       "      <td>31.979167</td>\n",
       "    </tr>\n",
       "  </tbody>\n",
       "</table>\n",
       "</div>"
      ],
      "text/plain": [
       "             PM25\n",
       "count  271.000000\n",
       "mean    11.936013\n",
       "std      5.106624\n",
       "min      3.250000\n",
       "25%      8.158333\n",
       "50%     10.912500\n",
       "75%     15.145833\n",
       "max     31.979167"
      ]
     },
     "execution_count": 7,
     "metadata": {},
     "output_type": "execute_result"
    }
   ],
   "source": [
    "#dataframe for PM2.5\n",
    "df_PM25 = df[(df[\"Parameter Name\"]==\"PM2.5 - Local Conditions\") & (df['Duration Description']==\"1 HOUR\")]\n",
    "df_PM25.head()\n",
    "PM25v = df_PM25[\"Arithmetic Mean\"]\n",
    "df_PM25 = pd.DataFrame(data = {\"PM25\" : PM25v, 'date' :df_PM25[\"Date (Local)\"]})\n",
    "df_PM25.describe()"
   ]
  },
  {
   "cell_type": "code",
   "execution_count": 8,
   "id": "6154bf91-4a1f-449f-965c-534cd1ad6b69",
   "metadata": {
    "tags": []
   },
   "outputs": [],
   "source": [
    "# Let's make sure 'date' is actually a date in pandas\n",
    "df_PM25[\"Date (Local)\"] = pd.to_datetime(df_NO2[\"date\"])\n"
   ]
  },
  {
   "cell_type": "code",
   "execution_count": 9,
   "id": "22d28424-7879-4623-84a7-287be278ec04",
   "metadata": {
    "tags": []
   },
   "outputs": [
    {
     "data": {
      "text/html": [
       "<div>\n",
       "<style scoped>\n",
       "    .dataframe tbody tr th:only-of-type {\n",
       "        vertical-align: middle;\n",
       "    }\n",
       "\n",
       "    .dataframe tbody tr th {\n",
       "        vertical-align: top;\n",
       "    }\n",
       "\n",
       "    .dataframe thead th {\n",
       "        text-align: right;\n",
       "    }\n",
       "</style>\n",
       "<table border=\"1\" class=\"dataframe\">\n",
       "  <thead>\n",
       "    <tr style=\"text-align: right;\">\n",
       "      <th></th>\n",
       "      <th>NO2</th>\n",
       "      <th>Date</th>\n",
       "      <th>O3</th>\n",
       "    </tr>\n",
       "  </thead>\n",
       "  <tbody>\n",
       "    <tr>\n",
       "      <th>0</th>\n",
       "      <td>4.816667</td>\n",
       "      <td>2023-01-01</td>\n",
       "      <td>0.031708</td>\n",
       "    </tr>\n",
       "    <tr>\n",
       "      <th>1</th>\n",
       "      <td>4.550000</td>\n",
       "      <td>2023-01-01</td>\n",
       "      <td>0.031708</td>\n",
       "    </tr>\n",
       "    <tr>\n",
       "      <th>2</th>\n",
       "      <td>4.550000</td>\n",
       "      <td>2023-01-01</td>\n",
       "      <td>0.031708</td>\n",
       "    </tr>\n",
       "    <tr>\n",
       "      <th>3</th>\n",
       "      <td>4.816667</td>\n",
       "      <td>2023-01-01</td>\n",
       "      <td>0.031708</td>\n",
       "    </tr>\n",
       "    <tr>\n",
       "      <th>4</th>\n",
       "      <td>14.720833</td>\n",
       "      <td>2023-01-02</td>\n",
       "      <td>0.015792</td>\n",
       "    </tr>\n",
       "  </tbody>\n",
       "</table>\n",
       "</div>"
      ],
      "text/plain": [
       "         NO2        Date        O3\n",
       "0   4.816667  2023-01-01  0.031708\n",
       "1   4.550000  2023-01-01  0.031708\n",
       "2   4.550000  2023-01-01  0.031708\n",
       "3   4.816667  2023-01-01  0.031708\n",
       "4  14.720833  2023-01-02  0.015792"
      ]
     },
     "execution_count": 9,
     "metadata": {},
     "output_type": "execute_result"
    }
   ],
   "source": [
    "df_1 = pd.DataFrame(data = {\"NO2\" : df_NO2[\"NO2\"], 'Date' : df_NO2['date']})\n",
    "df_2 = pd.DataFrame(data = {\"O3\" : df_O3[\"O3\"], 'Date' : df_O3['date']})\n",
    "df_all = df_1.merge(df_2, on=['Date'])\n",
    "df_all.head()"
   ]
  },
  {
   "cell_type": "code",
   "execution_count": 10,
   "id": "9c140d4f-84e5-4226-b89d-34b30238357b",
   "metadata": {
    "tags": []
   },
   "outputs": [
    {
     "data": {
      "text/html": [
       "<div>\n",
       "<style scoped>\n",
       "    .dataframe tbody tr th:only-of-type {\n",
       "        vertical-align: middle;\n",
       "    }\n",
       "\n",
       "    .dataframe tbody tr th {\n",
       "        vertical-align: top;\n",
       "    }\n",
       "\n",
       "    .dataframe thead th {\n",
       "        text-align: right;\n",
       "    }\n",
       "</style>\n",
       "<table border=\"1\" class=\"dataframe\">\n",
       "  <thead>\n",
       "    <tr style=\"text-align: right;\">\n",
       "      <th></th>\n",
       "      <th>NO2</th>\n",
       "      <th>Date</th>\n",
       "      <th>O3</th>\n",
       "      <th>PM25</th>\n",
       "    </tr>\n",
       "  </thead>\n",
       "  <tbody>\n",
       "    <tr>\n",
       "      <th>0</th>\n",
       "      <td>4.816667</td>\n",
       "      <td>2023-01-01</td>\n",
       "      <td>0.031708</td>\n",
       "      <td>5.0875</td>\n",
       "    </tr>\n",
       "    <tr>\n",
       "      <th>1</th>\n",
       "      <td>4.550000</td>\n",
       "      <td>2023-01-01</td>\n",
       "      <td>0.031708</td>\n",
       "      <td>5.0875</td>\n",
       "    </tr>\n",
       "    <tr>\n",
       "      <th>2</th>\n",
       "      <td>4.550000</td>\n",
       "      <td>2023-01-01</td>\n",
       "      <td>0.031708</td>\n",
       "      <td>5.0875</td>\n",
       "    </tr>\n",
       "    <tr>\n",
       "      <th>3</th>\n",
       "      <td>4.816667</td>\n",
       "      <td>2023-01-01</td>\n",
       "      <td>0.031708</td>\n",
       "      <td>5.0875</td>\n",
       "    </tr>\n",
       "    <tr>\n",
       "      <th>4</th>\n",
       "      <td>14.720833</td>\n",
       "      <td>2023-01-02</td>\n",
       "      <td>0.015792</td>\n",
       "      <td>9.1875</td>\n",
       "    </tr>\n",
       "  </tbody>\n",
       "</table>\n",
       "</div>"
      ],
      "text/plain": [
       "         NO2        Date        O3    PM25\n",
       "0   4.816667  2023-01-01  0.031708  5.0875\n",
       "1   4.550000  2023-01-01  0.031708  5.0875\n",
       "2   4.550000  2023-01-01  0.031708  5.0875\n",
       "3   4.816667  2023-01-01  0.031708  5.0875\n",
       "4  14.720833  2023-01-02  0.015792  9.1875"
      ]
     },
     "execution_count": 10,
     "metadata": {},
     "output_type": "execute_result"
    }
   ],
   "source": [
    "#merging everything into a single dataframe\n",
    "df_11 = pd.DataFrame(data = {\"PM25\" : df_PM25[\"PM25\"], 'Date' : df_PM25['date']})\n",
    "\n",
    "df_all_all = df_all.merge(df_11, on=['Date'])\n",
    "df_all_all.head()"
   ]
  },
  {
   "cell_type": "code",
   "execution_count": 11,
   "id": "a3bc340c-da09-4ec8-8aa2-19154aaaaf24",
   "metadata": {
    "tags": []
   },
   "outputs": [
    {
     "data": {
      "text/plain": [
       "<Axes: xlabel='PM25', ylabel='O3'>"
      ]
     },
     "execution_count": 11,
     "metadata": {},
     "output_type": "execute_result"
    },
    {
     "data": {
      "image/png": "[encoded data removed]",
      "text/plain": [
       "<Figure size 640x480 with 1 Axes>"
      ]
     },
     "metadata": {},
     "output_type": "display_data"
    }
   ],
   "source": [
    "# Make a scatterplot for PM2.5 and O3\n",
    "sns.scatterplot(data=df_all_all, x=df_all_all[\"PM25\"], y=df_all_all[\"O3\"])"
   ]
  },
  {
   "cell_type": "code",
   "execution_count": 12,
   "id": "f82440e7-aea8-4700-b706-69d46e7e72b8",
   "metadata": {
    "tags": []
   },
   "outputs": [
    {
     "data": {
      "text/plain": [
       "<Axes: xlabel='NO2', ylabel='O3'>"
      ]
     },
     "execution_count": 12,
     "metadata": {},
     "output_type": "execute_result"
    },
    {
     "data": {
      "image/png": "[encoded data removed]",
      "text/plain": [
       "<Figure size 640x480 with 1 Axes>"
      ]
     },
     "metadata": {},
     "output_type": "display_data"
    }
   ],
   "source": [
    "# Make a scatterplot for O3 and NO2\n",
    "sns.scatterplot(data=df_all, x=df_all_all[\"NO2\"], y=df_all_all[\"O3\"], color = 'violet')"
   ]
  },
  {
   "cell_type": "code",
   "execution_count": 13,
   "id": "3f2ea51a",
   "metadata": {
    "tags": []
   },
   "outputs": [
    {
     "data": {
      "text/plain": [
       "array([1, 1, 1, ..., 9, 9, 9], dtype=int32)"
      ]
     },
     "execution_count": 13,
     "metadata": {},
     "output_type": "execute_result"
    }
   ],
   "source": [
    "sumMonths = pd.DatetimeIndex(df_all_all['Date']).month.values\n",
    "sumMonths"
   ]
  },
  {
   "cell_type": "code",
   "execution_count": 14,
   "id": "786bcd7c",
   "metadata": {
    "tags": []
   },
   "outputs": [
    {
     "name": "stdout",
     "output_type": "stream",
     "text": [
      "[0 0 0 ... 0 0 0]\n"
     ]
    }
   ],
   "source": [
    "sIdx = sumMonths - sumMonths #Set values (including winter) to zero\n",
    "print(sIdx)"
   ]
  },
  {
   "cell_type": "code",
   "execution_count": 15,
   "id": "a6a40b94-a7c3-4264-9c80-e23f360be21d",
   "metadata": {
    "tags": []
   },
   "outputs": [],
   "source": [
    "sIdx[sumMonths == 6] = 1 #Set summer to 1\n",
    "sIdx[sumMonths == 7] = 1\n",
    "sIdx[sumMonths == 8] = 1\n",
    "\n",
    "sIdx[sumMonths == 1] = 0 #Set winter to 0\n",
    "sIdx[sumMonths == 2] = 0\n",
    "sIdx[sumMonths == 3] = 0\n",
    "\n",
    "sIdx[sumMonths == 4] = -1\n",
    "sIdx[sumMonths == 5] = -1\n",
    "sIdx[sumMonths == 9] = -1 #Set others to -1\n"
   ]
  },
  {
   "cell_type": "code",
   "execution_count": 16,
   "id": "1f36491f",
   "metadata": {
    "tags": []
   },
   "outputs": [
    {
     "data": {
      "text/html": [
       "<div>\n",
       "<style scoped>\n",
       "    .dataframe tbody tr th:only-of-type {\n",
       "        vertical-align: middle;\n",
       "    }\n",
       "\n",
       "    .dataframe tbody tr th {\n",
       "        vertical-align: top;\n",
       "    }\n",
       "\n",
       "    .dataframe thead th {\n",
       "        text-align: right;\n",
       "    }\n",
       "</style>\n",
       "<table border=\"1\" class=\"dataframe\">\n",
       "  <thead>\n",
       "    <tr style=\"text-align: right;\">\n",
       "      <th></th>\n",
       "      <th>NO2</th>\n",
       "      <th>O3</th>\n",
       "      <th>PM25</th>\n",
       "      <th>summer/winter</th>\n",
       "    </tr>\n",
       "  </thead>\n",
       "  <tbody>\n",
       "    <tr>\n",
       "      <th>count</th>\n",
       "      <td>1084.000000</td>\n",
       "      <td>1084.000000</td>\n",
       "      <td>1084.000000</td>\n",
       "      <td>1084.000000</td>\n",
       "    </tr>\n",
       "    <tr>\n",
       "      <th>mean</th>\n",
       "      <td>13.306238</td>\n",
       "      <td>0.027882</td>\n",
       "      <td>11.936013</td>\n",
       "      <td>0.011070</td>\n",
       "    </tr>\n",
       "    <tr>\n",
       "      <th>std</th>\n",
       "      <td>6.205608</td>\n",
       "      <td>0.007571</td>\n",
       "      <td>5.099546</td>\n",
       "      <td>0.817552</td>\n",
       "    </tr>\n",
       "    <tr>\n",
       "      <th>min</th>\n",
       "      <td>3.458333</td>\n",
       "      <td>0.008333</td>\n",
       "      <td>3.250000</td>\n",
       "      <td>-1.000000</td>\n",
       "    </tr>\n",
       "    <tr>\n",
       "      <th>25%</th>\n",
       "      <td>8.780952</td>\n",
       "      <td>0.023833</td>\n",
       "      <td>8.145833</td>\n",
       "      <td>-1.000000</td>\n",
       "    </tr>\n",
       "    <tr>\n",
       "      <th>50%</th>\n",
       "      <td>11.618750</td>\n",
       "      <td>0.028458</td>\n",
       "      <td>10.912500</td>\n",
       "      <td>0.000000</td>\n",
       "    </tr>\n",
       "    <tr>\n",
       "      <th>75%</th>\n",
       "      <td>16.641667</td>\n",
       "      <td>0.032958</td>\n",
       "      <td>15.154167</td>\n",
       "      <td>1.000000</td>\n",
       "    </tr>\n",
       "    <tr>\n",
       "      <th>max</th>\n",
       "      <td>33.466667</td>\n",
       "      <td>0.045750</td>\n",
       "      <td>31.979167</td>\n",
       "      <td>1.000000</td>\n",
       "    </tr>\n",
       "  </tbody>\n",
       "</table>\n",
       "</div>"
      ],
      "text/plain": [
       "               NO2           O3         PM25  summer/winter\n",
       "count  1084.000000  1084.000000  1084.000000    1084.000000\n",
       "mean     13.306238     0.027882    11.936013       0.011070\n",
       "std       6.205608     0.007571     5.099546       0.817552\n",
       "min       3.458333     0.008333     3.250000      -1.000000\n",
       "25%       8.780952     0.023833     8.145833      -1.000000\n",
       "50%      11.618750     0.028458    10.912500       0.000000\n",
       "75%      16.641667     0.032958    15.154167       1.000000\n",
       "max      33.466667     0.045750    31.979167       1.000000"
      ]
     },
     "execution_count": 16,
     "metadata": {},
     "output_type": "execute_result"
    }
   ],
   "source": [
    "df_all_all['summer/winter'] = sIdx\n",
    "df_all_all.describe()"
   ]
  },
  {
   "cell_type": "code",
   "execution_count": 17,
   "id": "0baea80b",
   "metadata": {
    "tags": []
   },
   "outputs": [
    {
     "data": {
      "text/html": [
       "<div>\n",
       "<style scoped>\n",
       "    .dataframe tbody tr th:only-of-type {\n",
       "        vertical-align: middle;\n",
       "    }\n",
       "\n",
       "    .dataframe tbody tr th {\n",
       "        vertical-align: top;\n",
       "    }\n",
       "\n",
       "    .dataframe thead th {\n",
       "        text-align: right;\n",
       "    }\n",
       "</style>\n",
       "<table border=\"1\" class=\"dataframe\">\n",
       "  <thead>\n",
       "    <tr style=\"text-align: right;\">\n",
       "      <th></th>\n",
       "      <th>NO2</th>\n",
       "      <th>O3</th>\n",
       "      <th>PM25</th>\n",
       "      <th>summer/winter</th>\n",
       "    </tr>\n",
       "  </thead>\n",
       "  <tbody>\n",
       "    <tr>\n",
       "      <th>count</th>\n",
       "      <td>728.000000</td>\n",
       "      <td>728.000000</td>\n",
       "      <td>728.000000</td>\n",
       "      <td>728.000000</td>\n",
       "    </tr>\n",
       "    <tr>\n",
       "      <th>mean</th>\n",
       "      <td>14.480153</td>\n",
       "      <td>0.026001</td>\n",
       "      <td>11.432142</td>\n",
       "      <td>0.505495</td>\n",
       "    </tr>\n",
       "    <tr>\n",
       "      <th>std</th>\n",
       "      <td>6.569484</td>\n",
       "      <td>0.007628</td>\n",
       "      <td>4.724513</td>\n",
       "      <td>0.500314</td>\n",
       "    </tr>\n",
       "    <tr>\n",
       "      <th>min</th>\n",
       "      <td>3.791667</td>\n",
       "      <td>0.008333</td>\n",
       "      <td>3.250000</td>\n",
       "      <td>0.000000</td>\n",
       "    </tr>\n",
       "    <tr>\n",
       "      <th>25%</th>\n",
       "      <td>9.615625</td>\n",
       "      <td>0.022667</td>\n",
       "      <td>8.100000</td>\n",
       "      <td>0.000000</td>\n",
       "    </tr>\n",
       "    <tr>\n",
       "      <th>50%</th>\n",
       "      <td>13.147917</td>\n",
       "      <td>0.026687</td>\n",
       "      <td>10.722917</td>\n",
       "      <td>1.000000</td>\n",
       "    </tr>\n",
       "    <tr>\n",
       "      <th>75%</th>\n",
       "      <td>17.832292</td>\n",
       "      <td>0.031875</td>\n",
       "      <td>13.887500</td>\n",
       "      <td>1.000000</td>\n",
       "    </tr>\n",
       "    <tr>\n",
       "      <th>max</th>\n",
       "      <td>33.466667</td>\n",
       "      <td>0.042917</td>\n",
       "      <td>31.979167</td>\n",
       "      <td>1.000000</td>\n",
       "    </tr>\n",
       "  </tbody>\n",
       "</table>\n",
       "</div>"
      ],
      "text/plain": [
       "              NO2          O3        PM25  summer/winter\n",
       "count  728.000000  728.000000  728.000000     728.000000\n",
       "mean    14.480153    0.026001   11.432142       0.505495\n",
       "std      6.569484    0.007628    4.724513       0.500314\n",
       "min      3.791667    0.008333    3.250000       0.000000\n",
       "25%      9.615625    0.022667    8.100000       0.000000\n",
       "50%     13.147917    0.026687   10.722917       1.000000\n",
       "75%     17.832292    0.031875   13.887500       1.000000\n",
       "max     33.466667    0.042917   31.979167       1.000000"
      ]
     },
     "execution_count": 17,
     "metadata": {},
     "output_type": "execute_result"
    }
   ],
   "source": [
    "df_all_all = df_all_all[df_all_all['summer/winter'] > -1]\n",
    "df_all_all.describe()"
   ]
  },
  {
   "cell_type": "code",
   "execution_count": 18,
   "id": "c1b93631-4225-4707-8b14-2135f575dee1",
   "metadata": {},
   "outputs": [],
   "source": [
    "# Make them arrays by uisng np.array\n",
    "xVal = df_all_all[['NO2','O3','PM25']].to_numpy()\n",
    "yVal = np.array(df_all_all['summer/winter'])\n"
   ]
  },
  {
   "cell_type": "markdown",
   "id": "849aeb5e-a4a6-4319-8905-7a243d27fe7d",
   "metadata": {},
   "source": [
    "1. Using these data as input, train a ridge classifier to predict if the measurements come from summer or winter."
   ]
  },
  {
   "cell_type": "code",
   "execution_count": 19,
   "id": "f53e5031-000c-45fe-b0de-99910d7e287f",
   "metadata": {
    "tags": []
   },
   "outputs": [],
   "source": [
    "from sklearn.model_selection import train_test_split\n",
    "X_train_temp, X_temp, y_train_temp, y_temp = train_test_split(xVal, yVal, test_size=0.2)\n",
    "X_val, X_test, y_val, y_test = train_test_split(X_temp, y_temp, test_size=0.5)"
   ]
  },
  {
   "cell_type": "markdown",
   "id": "0dd42082-f5d6-481c-a267-f266e12c3295",
   "metadata": {},
   "source": [
    "# Ridge Classifier"
   ]
  },
  {
   "cell_type": "code",
   "execution_count": 20,
   "id": "89a09a85-9aab-469e-ac74-3312968c9d02",
   "metadata": {
    "tags": []
   },
   "outputs": [
    {
     "name": "stdout",
     "output_type": "stream",
     "text": [
      "0.8127147766323024 for aplha 0.0\n",
      "0.7903780068728522 for aplha 0.05\n",
      "0.7920962199312714 for aplha 0.1\n",
      "0.7955326460481099 for aplha 0.15000000000000002\n",
      "0.7955326460481099 for aplha 0.2\n",
      "0.7955326460481099 for aplha 0.25\n",
      "0.7955326460481099 for aplha 0.30000000000000004\n",
      "0.7955326460481099 for aplha 0.35000000000000003\n",
      "0.7955326460481099 for aplha 0.4\n",
      "0.7955326460481099 for aplha 0.45\n",
      "0.7955326460481099 for aplha 0.5\n",
      "0.7955326460481099 for aplha 0.55\n",
      "0.7955326460481099 for aplha 0.6000000000000001\n",
      "0.7955326460481099 for aplha 0.65\n",
      "0.7955326460481099 for aplha 0.7000000000000001\n",
      "0.7955326460481099 for aplha 0.75\n",
      "0.7955326460481099 for aplha 0.8\n",
      "0.7955326460481099 for aplha 0.8500000000000001\n",
      "0.7955326460481099 for aplha 0.9\n",
      "0.7955326460481099 for aplha 0.9500000000000001\n"
     ]
    }
   ],
   "source": [
    "for alpha in np.arange(0,1,0.05):\n",
    "    rclass = RidgeClassifier(alpha)\n",
    "    rclass.fit(X_train_temp,y_train_temp)\n",
    "    score = rclass.score(X_train_temp,y_train_temp)\n",
    "    print(score, \"for aplha\", alpha) #score when the test set is the the training set"
   ]
  },
  {
   "cell_type": "code",
   "execution_count": 21,
   "id": "eaee7b08-365c-4a8a-8ba1-5ca1622eeb24",
   "metadata": {},
   "outputs": [
    {
     "name": "stdout",
     "output_type": "stream",
     "text": [
      "0.7123287671232876 for aplha 0.0\n",
      "0.684931506849315 for aplha 0.05\n",
      "0.684931506849315 for aplha 0.1\n",
      "0.684931506849315 for aplha 0.15000000000000002\n",
      "0.684931506849315 for aplha 0.2\n",
      "0.684931506849315 for aplha 0.25\n",
      "0.684931506849315 for aplha 0.30000000000000004\n",
      "0.684931506849315 for aplha 0.35000000000000003\n",
      "0.684931506849315 for aplha 0.4\n",
      "0.684931506849315 for aplha 0.45\n",
      "0.684931506849315 for aplha 0.5\n",
      "0.684931506849315 for aplha 0.55\n",
      "0.684931506849315 for aplha 0.6000000000000001\n",
      "0.684931506849315 for aplha 0.65\n",
      "0.684931506849315 for aplha 0.7000000000000001\n",
      "0.684931506849315 for aplha 0.75\n",
      "0.684931506849315 for aplha 0.8\n",
      "0.684931506849315 for aplha 0.8500000000000001\n",
      "0.684931506849315 for aplha 0.9\n",
      "0.684931506849315 for aplha 0.9500000000000001\n"
     ]
    }
   ],
   "source": [
    "for alpha in np.arange(0,1,0.05):\n",
    "    rclass = RidgeClassifier(alpha)\n",
    "    rclass.fit(X_train_temp,y_train_temp)\n",
    "    score = rclass.score(X_test,y_test)\n",
    "    print(score, \"for aplha\", alpha) # score for test set trained with training set"
   ]
  },
  {
   "cell_type": "code",
   "execution_count": 22,
   "id": "0c1875e7-325f-42ac-90c4-f271729a6f00",
   "metadata": {},
   "outputs": [
    {
     "name": "stdout",
     "output_type": "stream",
     "text": [
      "0.6986301369863014 for aplha 0.0\n",
      "0.7123287671232876 for aplha 0.05\n",
      "0.6986301369863014 for aplha 0.1\n",
      "0.6986301369863014 for aplha 0.15000000000000002\n",
      "0.6986301369863014 for aplha 0.2\n",
      "0.6986301369863014 for aplha 0.25\n",
      "0.6986301369863014 for aplha 0.30000000000000004\n",
      "0.6986301369863014 for aplha 0.35000000000000003\n",
      "0.6986301369863014 for aplha 0.4\n",
      "0.6986301369863014 for aplha 0.45\n",
      "0.6986301369863014 for aplha 0.5\n",
      "0.6986301369863014 for aplha 0.55\n",
      "0.6986301369863014 for aplha 0.6000000000000001\n",
      "0.6986301369863014 for aplha 0.65\n",
      "0.6986301369863014 for aplha 0.7000000000000001\n",
      "0.6986301369863014 for aplha 0.75\n",
      "0.6986301369863014 for aplha 0.8\n",
      "0.6986301369863014 for aplha 0.8500000000000001\n",
      "0.6986301369863014 for aplha 0.9\n",
      "0.6986301369863014 for aplha 0.9500000000000001\n"
     ]
    }
   ],
   "source": [
    "for alpha in np.arange(0,1,0.05):\n",
    "    rclass = RidgeClassifier(alpha)\n",
    "    rclass.fit(X_train_temp,y_train_temp)\n",
    "    score = rclass.score(X_val,y_val)\n",
    "    print(score, \"for aplha\", alpha) # score for test set is the validating set "
   ]
  },
  {
   "cell_type": "code",
   "execution_count": 23,
   "id": "158adb6d-5193-43f1-9f74-bb589cea5d18",
   "metadata": {
    "tags": []
   },
   "outputs": [],
   "source": [
    "# Mean squared error \n",
    "from sklearn.metrics import mean_squared_error"
   ]
  },
  {
   "cell_type": "code",
   "execution_count": 24,
   "id": "b0f0a744-6e96-4fde-8a1f-d584522b7e33",
   "metadata": {
    "tags": []
   },
   "outputs": [
    {
     "data": {
      "text/plain": [
       "0.3150684931506849"
      ]
     },
     "execution_count": 24,
     "metadata": {},
     "output_type": "execute_result"
    }
   ],
   "source": [
    "rclass = RidgeClassifier(0.9)\n",
    "rclass.fit(X_train_temp,y_train_temp)\n",
    "ypred = rclass.predict(X_test)\n",
    "mean_squared_error(y_test,ypred)"
   ]
  },
  {
   "cell_type": "markdown",
   "id": "e6b9bae0-ab54-46d0-88ca-11322e0c15c6",
   "metadata": {},
   "source": [
    "# Logistic regression"
   ]
  },
  {
   "cell_type": "code",
   "execution_count": 25,
   "id": "25a86e70-767f-4c75-a0c0-1361981d9fae",
   "metadata": {},
   "outputs": [
    {
     "data": {
      "text/plain": [
       "0.7955326460481099"
      ]
     },
     "execution_count": 25,
     "metadata": {},
     "output_type": "execute_result"
    }
   ],
   "source": [
    "\n",
    "clf = LogisticRegression().fit(X_train_temp, y_train_temp)\n",
    "clf.predict(X_train_temp)\n",
    "clf.predict_proba(X_train_temp)\n",
    "clf.score(X_train_temp, y_train_temp) #score for training set"
   ]
  },
  {
   "cell_type": "code",
   "execution_count": 26,
   "id": "333f7dbf-9913-4ea5-a240-9182426d407f",
   "metadata": {
    "tags": []
   },
   "outputs": [
    {
     "data": {
      "text/plain": [
       "0.6712328767123288"
      ]
     },
     "execution_count": 26,
     "metadata": {},
     "output_type": "execute_result"
    }
   ],
   "source": [
    "clf.predict(X_test)\n",
    "clf.predict_proba(X_test)\n",
    "clf.score(X_test, y_test) #score for testing set"
   ]
  },
  {
   "cell_type": "code",
   "execution_count": 27,
   "id": "bb4847bc-39eb-492a-a228-3b14a7a93d7c",
   "metadata": {
    "tags": []
   },
   "outputs": [
    {
     "data": {
      "text/plain": [
       "0.684931506849315"
      ]
     },
     "execution_count": 27,
     "metadata": {},
     "output_type": "execute_result"
    }
   ],
   "source": [
    "clf.predict(X_val)\n",
    "clf.predict_proba(X_val)\n",
    "clf.score(X_val, y_val) #score for validating set"
   ]
  },
  {
   "cell_type": "markdown",
   "id": "56c5b364-d61c-4feb-bd8b-366aedf1e55e",
   "metadata": {},
   "source": [
    "2. What cost function are you using?\n",
    "\n",
    "- The cost function that I am using is Penalized Regression"
   ]
  },
  {
   "cell_type": "markdown",
   "id": "f07cb62a-c3e0-4b19-808e-cf64160566a8",
   "metadata": {},
   "source": [
    "3. What is the optimal ridge penalty parameter based on your training data?\n",
    "\n",
    "- The optimal ridge penalty parameter based on my training data could be anything from 0.2 to 0.95."
   ]
  },
  {
   "cell_type": "markdown",
   "id": "41a49e62-b4ce-41f8-b0dc-ee5e1fce9447",
   "metadata": {},
   "source": [
    "4. What is the optimal ridge penalty parameter on your validation data?\n",
    "\n",
    "- The optimal ridge penalty paramter on my validation data is 0.0."
   ]
  },
  {
   "cell_type": "markdown",
   "id": "dd5dbe69-504a-4965-bdf7-d9af0a24819c",
   "metadata": {},
   "source": [
    "5. What is your final model error?(Be sure to report the most honest error assessment).\n",
    "\n",
    "- The final model error is 0.1780821917808219."
   ]
  },
  {
   "cell_type": "markdown",
   "id": "3fc17545-b231-48e3-ae6b-f0815a27679e",
   "metadata": {},
   "source": [
    "6. If you redo your train/validation splits, do you get the same answers?\n",
    "\n",
    "- Redoing the train/validation splits give the same results."
   ]
  },
  {
   "cell_type": "markdown",
   "id": "fae2e3d8-44f7-4f73-b569-193d90a72fe2",
   "metadata": {},
   "source": [
    "7. Compare the ridge classifier with a logistic regression model. Which one performs the best?\n",
    "\n",
    "- For this particular dataset, the ridge classifier compared with a logistic regression model performs the same."
   ]
  },
  {
   "cell_type": "markdown",
   "id": "c1456d3b-97a4-4bb3-a448-c3536af93ad7",
   "metadata": {},
   "source": []
  }
 ],
 "metadata": {
  "kernelspec": {
   "display_name": "pyleo",
   "language": "python",
   "name": "pyleo"
  },
  "language_info": {
   "codemirror_mode": {
    "name": "ipython",
    "version": 3
   },
   "file_extension": ".py",
   "mimetype": "text/x-python",
   "name": "python",
   "nbconvert_exporter": "python",
   "pygments_lexer": "ipython3",
   "version": "3.10.13"
  }
 },
 "nbformat": 4,
 "nbformat_minor": 5
}
