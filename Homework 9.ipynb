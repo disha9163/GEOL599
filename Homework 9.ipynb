{
 "cells": [
  {
   "cell_type": "code",
   "execution_count": 1,
   "id": "7e5505ad-df69-4c3c-bd8c-9b48ba6aabdf",
   "metadata": {
    "tags": []
   },
   "outputs": [],
   "source": [
    "# importing libraries\n",
    "import pandas as pd\n",
    "import numpy as np\n",
    "from matplotlib import pyplot as plt\n",
    "import seaborn as sns\n",
    "from sklearn import linear_model\n",
    "from sklearn.datasets import make_regression\n",
    "# Mean squared error \n",
    "from sklearn.metrics import mean_squared_error"
   ]
  },
  {
   "cell_type": "code",
   "execution_count": 2,
   "id": "51478431-4f3f-4d0f-991b-3946622d2c0d",
   "metadata": {
    "tags": []
   },
   "outputs": [
    {
     "data": {
      "text/html": [
       "<div>\n",
       "<style scoped>\n",
       "    .dataframe tbody tr th:only-of-type {\n",
       "        vertical-align: middle;\n",
       "    }\n",
       "\n",
       "    .dataframe tbody tr th {\n",
       "        vertical-align: top;\n",
       "    }\n",
       "\n",
       "    .dataframe thead th {\n",
       "        text-align: right;\n",
       "    }\n",
       "</style>\n",
       "<table border=\"1\" class=\"dataframe\">\n",
       "  <thead>\n",
       "    <tr style=\"text-align: right;\">\n",
       "      <th></th>\n",
       "      <th>YY</th>\n",
       "      <th>MM</th>\n",
       "      <th>DD</th>\n",
       "      <th>hh</th>\n",
       "      <th>mm</th>\n",
       "      <th>WDIR</th>\n",
       "      <th>WSPD</th>\n",
       "      <th>GST</th>\n",
       "      <th>WVHT</th>\n",
       "      <th>DPD</th>\n",
       "      <th>APD</th>\n",
       "      <th>MWD</th>\n",
       "      <th>PRES</th>\n",
       "      <th>ATMP</th>\n",
       "      <th>WTMP</th>\n",
       "      <th>DEWP</th>\n",
       "      <th>VIS</th>\n",
       "      <th>TIDE</th>\n",
       "    </tr>\n",
       "  </thead>\n",
       "  <tbody>\n",
       "    <tr>\n",
       "      <th>0</th>\n",
       "      <td>2023</td>\n",
       "      <td>1</td>\n",
       "      <td>1</td>\n",
       "      <td>0</td>\n",
       "      <td>26</td>\n",
       "      <td>999</td>\n",
       "      <td>99.0</td>\n",
       "      <td>99.0</td>\n",
       "      <td>1.12</td>\n",
       "      <td>12.50</td>\n",
       "      <td>7.69</td>\n",
       "      <td>269</td>\n",
       "      <td>9999.0</td>\n",
       "      <td>999.0</td>\n",
       "      <td>15.3</td>\n",
       "      <td>999.0</td>\n",
       "      <td>99.0</td>\n",
       "      <td>99.0</td>\n",
       "    </tr>\n",
       "    <tr>\n",
       "      <th>1</th>\n",
       "      <td>2023</td>\n",
       "      <td>1</td>\n",
       "      <td>1</td>\n",
       "      <td>0</td>\n",
       "      <td>56</td>\n",
       "      <td>999</td>\n",
       "      <td>99.0</td>\n",
       "      <td>99.0</td>\n",
       "      <td>1.16</td>\n",
       "      <td>11.76</td>\n",
       "      <td>7.34</td>\n",
       "      <td>272</td>\n",
       "      <td>9999.0</td>\n",
       "      <td>999.0</td>\n",
       "      <td>15.3</td>\n",
       "      <td>999.0</td>\n",
       "      <td>99.0</td>\n",
       "      <td>99.0</td>\n",
       "    </tr>\n",
       "    <tr>\n",
       "      <th>2</th>\n",
       "      <td>2023</td>\n",
       "      <td>1</td>\n",
       "      <td>1</td>\n",
       "      <td>1</td>\n",
       "      <td>26</td>\n",
       "      <td>999</td>\n",
       "      <td>99.0</td>\n",
       "      <td>99.0</td>\n",
       "      <td>1.20</td>\n",
       "      <td>12.50</td>\n",
       "      <td>7.08</td>\n",
       "      <td>268</td>\n",
       "      <td>9999.0</td>\n",
       "      <td>999.0</td>\n",
       "      <td>15.3</td>\n",
       "      <td>999.0</td>\n",
       "      <td>99.0</td>\n",
       "      <td>99.0</td>\n",
       "    </tr>\n",
       "    <tr>\n",
       "      <th>3</th>\n",
       "      <td>2023</td>\n",
       "      <td>1</td>\n",
       "      <td>1</td>\n",
       "      <td>1</td>\n",
       "      <td>56</td>\n",
       "      <td>999</td>\n",
       "      <td>99.0</td>\n",
       "      <td>99.0</td>\n",
       "      <td>1.25</td>\n",
       "      <td>10.53</td>\n",
       "      <td>7.33</td>\n",
       "      <td>268</td>\n",
       "      <td>9999.0</td>\n",
       "      <td>999.0</td>\n",
       "      <td>15.4</td>\n",
       "      <td>999.0</td>\n",
       "      <td>99.0</td>\n",
       "      <td>99.0</td>\n",
       "    </tr>\n",
       "    <tr>\n",
       "      <th>4</th>\n",
       "      <td>2023</td>\n",
       "      <td>1</td>\n",
       "      <td>1</td>\n",
       "      <td>2</td>\n",
       "      <td>26</td>\n",
       "      <td>999</td>\n",
       "      <td>99.0</td>\n",
       "      <td>99.0</td>\n",
       "      <td>1.27</td>\n",
       "      <td>10.53</td>\n",
       "      <td>7.57</td>\n",
       "      <td>268</td>\n",
       "      <td>9999.0</td>\n",
       "      <td>999.0</td>\n",
       "      <td>15.5</td>\n",
       "      <td>999.0</td>\n",
       "      <td>99.0</td>\n",
       "      <td>99.0</td>\n",
       "    </tr>\n",
       "  </tbody>\n",
       "</table>\n",
       "</div>"
      ],
      "text/plain": [
       "     YY  MM  DD  hh  mm  WDIR  WSPD   GST  WVHT    DPD   APD  MWD    PRES  \\\n",
       "0  2023   1   1   0  26   999  99.0  99.0  1.12  12.50  7.69  269  9999.0   \n",
       "1  2023   1   1   0  56   999  99.0  99.0  1.16  11.76  7.34  272  9999.0   \n",
       "2  2023   1   1   1  26   999  99.0  99.0  1.20  12.50  7.08  268  9999.0   \n",
       "3  2023   1   1   1  56   999  99.0  99.0  1.25  10.53  7.33  268  9999.0   \n",
       "4  2023   1   1   2  26   999  99.0  99.0  1.27  10.53  7.57  268  9999.0   \n",
       "\n",
       "    ATMP  WTMP   DEWP   VIS  TIDE  \n",
       "0  999.0  15.3  999.0  99.0  99.0  \n",
       "1  999.0  15.3  999.0  99.0  99.0  \n",
       "2  999.0  15.3  999.0  99.0  99.0  \n",
       "3  999.0  15.4  999.0  99.0  99.0  \n",
       "4  999.0  15.5  999.0  99.0  99.0  "
      ]
     },
     "execution_count": 2,
     "metadata": {},
     "output_type": "execute_result"
    }
   ],
   "source": [
    "fileName = \"xid-92685698_2.txt\" \n",
    "df = pd.read_csv(fileName, delim_whitespace=True) \n",
    "df.head()"
   ]
  },
  {
   "cell_type": "code",
   "execution_count": 3,
   "id": "e77acbbc-a93e-45d1-ad0e-f9b93199e6f3",
   "metadata": {
    "tags": []
   },
   "outputs": [
    {
     "data": {
      "text/html": [
       "<div>\n",
       "<style scoped>\n",
       "    .dataframe tbody tr th:only-of-type {\n",
       "        vertical-align: middle;\n",
       "    }\n",
       "\n",
       "    .dataframe tbody tr th {\n",
       "        vertical-align: top;\n",
       "    }\n",
       "\n",
       "    .dataframe thead th {\n",
       "        text-align: right;\n",
       "    }\n",
       "</style>\n",
       "<table border=\"1\" class=\"dataframe\">\n",
       "  <thead>\n",
       "    <tr style=\"text-align: right;\">\n",
       "      <th></th>\n",
       "      <th>DPD</th>\n",
       "      <th>APD</th>\n",
       "      <th>MWD</th>\n",
       "      <th>WTMP</th>\n",
       "      <th>WVHT</th>\n",
       "    </tr>\n",
       "  </thead>\n",
       "  <tbody>\n",
       "    <tr>\n",
       "      <th>0</th>\n",
       "      <td>12.50</td>\n",
       "      <td>7.69</td>\n",
       "      <td>269</td>\n",
       "      <td>15.3</td>\n",
       "      <td>1.12</td>\n",
       "    </tr>\n",
       "    <tr>\n",
       "      <th>1</th>\n",
       "      <td>11.76</td>\n",
       "      <td>7.34</td>\n",
       "      <td>272</td>\n",
       "      <td>15.3</td>\n",
       "      <td>1.16</td>\n",
       "    </tr>\n",
       "    <tr>\n",
       "      <th>2</th>\n",
       "      <td>12.50</td>\n",
       "      <td>7.08</td>\n",
       "      <td>268</td>\n",
       "      <td>15.3</td>\n",
       "      <td>1.20</td>\n",
       "    </tr>\n",
       "    <tr>\n",
       "      <th>3</th>\n",
       "      <td>10.53</td>\n",
       "      <td>7.33</td>\n",
       "      <td>268</td>\n",
       "      <td>15.4</td>\n",
       "      <td>1.25</td>\n",
       "    </tr>\n",
       "    <tr>\n",
       "      <th>4</th>\n",
       "      <td>10.53</td>\n",
       "      <td>7.57</td>\n",
       "      <td>268</td>\n",
       "      <td>15.5</td>\n",
       "      <td>1.27</td>\n",
       "    </tr>\n",
       "  </tbody>\n",
       "</table>\n",
       "</div>"
      ],
      "text/plain": [
       "     DPD   APD  MWD  WTMP  WVHT\n",
       "0  12.50  7.69  269  15.3  1.12\n",
       "1  11.76  7.34  272  15.3  1.16\n",
       "2  12.50  7.08  268  15.3  1.20\n",
       "3  10.53  7.33  268  15.4  1.25\n",
       "4  10.53  7.57  268  15.5  1.27"
      ]
     },
     "execution_count": 3,
     "metadata": {},
     "output_type": "execute_result"
    }
   ],
   "source": [
    "df_w = df[[\"DPD\",\"APD\",\"MWD\",\"WTMP\",\"WVHT\"]]\n",
    "df_w.head()"
   ]
  },
  {
   "cell_type": "code",
   "execution_count": 4,
   "id": "c3ab3c25-4251-4178-b44c-d03a866995e1",
   "metadata": {
    "tags": []
   },
   "outputs": [],
   "source": [
    "xVal = df_w[['DPD','APD','WTMP','MWD']].to_numpy()\n",
    "yVal = np.array(df_w['WVHT'])"
   ]
  },
  {
   "cell_type": "code",
   "execution_count": 5,
   "id": "e16147c6-0805-4855-859e-3994fdd44a36",
   "metadata": {
    "tags": []
   },
   "outputs": [],
   "source": [
    "from sklearn.model_selection import train_test_split\n",
    "X_train_temp, X_temp, y_train_temp, y_temp = train_test_split(xVal, yVal, test_size=0.2)\n",
    "X_val, X_test, y_val, y_test = train_test_split(X_temp, y_temp, test_size=0.5)"
   ]
  },
  {
   "cell_type": "markdown",
   "id": "036de633-ae3a-4564-aa83-7cf811763a46",
   "metadata": {},
   "source": [
    "1. Fit a boosted regression tree with 25 boosting iterations. Compare with a baseline linear model of your choice. Which model performs best? Report performance on the training, validation, and test dataset.\n",
    "- Boosted regression tree performs the best with training set performance score being 0.9596514368246951, validation set being 0.9685283945332306 and test set being 0.9808043966329663."
   ]
  },
  {
   "cell_type": "markdown",
   "id": "177f1690-b146-4118-8727-2f0fce10bdcc",
   "metadata": {},
   "source": [
    "2. What cost function are you using for each model?\n",
    "- For the baseline model (Linear regression), the cost function is ordinary least square.\n",
    "- For the boosted regression model, the cost function is mean squared error.\n"
   ]
  },
  {
   "cell_type": "markdown",
   "id": "ec626704-c412-4cb4-8367-5a2402de6adc",
   "metadata": {},
   "source": [
    "# Baseline Model"
   ]
  },
  {
   "cell_type": "code",
   "execution_count": 6,
   "id": "b723a07f-f10d-4f47-8d62-335c22c8c0d1",
   "metadata": {
    "tags": []
   },
   "outputs": [
    {
     "name": "stdout",
     "output_type": "stream",
     "text": [
      "1.5715414696434409\n",
      "4.1308524549426044\n",
      "1.9538000653381657\n"
     ]
    }
   ],
   "source": [
    "lm= linear_model.LinearRegression()\n",
    "lm.fit(X_train_temp,y_train_temp)\n",
    "lm_y1 = lm.predict(X_train_temp)\n",
    "lm_y2 = lm.predict(X_test)\n",
    "lm_y3 = lm.predict(X_val)\n",
    "lm_err = mean_squared_error(lm_y1,y_train_temp)\n",
    "print(mean_squared_error(lm_y1,y_train_temp))\n",
    "print(mean_squared_error(lm_y2,y_test))\n",
    "print(mean_squared_error(lm_y3,y_val))\n",
    "#print(lm.score(X_train_temp, y_train_temp))"
   ]
  },
  {
   "cell_type": "markdown",
   "id": "14b48e84-d933-433a-80f4-2d683886ef4e",
   "metadata": {
    "tags": []
   },
   "source": [
    "# XGBoost regressor"
   ]
  },
  {
   "cell_type": "code",
   "execution_count": 7,
   "id": "36382baf-0306-417d-aef2-7465f53bdec6",
   "metadata": {
    "tags": []
   },
   "outputs": [],
   "source": [
    "import xgboost as xgb"
   ]
  },
  {
   "cell_type": "code",
   "execution_count": 9,
   "id": "168d5f83-55b9-49d2-9152-2260742a897b",
   "metadata": {
    "tags": []
   },
   "outputs": [
    {
     "name": "stdout",
     "output_type": "stream",
     "text": [
      "0.1512226603881528 mse for training set | score:  0.9596514368246951\n",
      "0.18297277282434418 mse for validation set | score:  0.9685283945332306\n",
      "0.3244456606262318 mse for testing set | score:  0.9808043966329663\n"
     ]
    }
   ],
   "source": [
    "xgbr = xgb.XGBRegressor(n_estimators = 25, learning_rate = 0.1)\n",
    "xgbr.fit(X_train_temp, y_train_temp)\n",
    "ytpred = xgbr.predict(X_train_temp)\n",
    "yvpred = xgbr.predict(X_val)\n",
    "ytepred = xgbr.predict(X_test)\n",
    "score1 = xgbr.score(X_train_temp, y_train_temp)\n",
    "score2 = xgbr.score(X_val,y_val)\n",
    "score3 = xgbr.score(X_test, y_test)\n",
    "print(mean_squared_error(y_train_temp, ytpred), \"mse for training set | score: \", score1)\n",
    "print(mean_squared_error(y_val, yvpred), \"mse for validation set | score: \", score2)\n",
    "print(mean_squared_error(y_test, ytepred), \"mse for testing set | score: \", score3)"
   ]
  },
  {
   "cell_type": "markdown",
   "id": "0a29cfe4-b5a2-4eb8-baef-5083c474d46b",
   "metadata": {},
   "source": [
    "3. What(if any) hyper parameters did you optimize, and why?\n",
    "- I changed the learning rate to 0.3 from 0.1 and max_depth to 10 from default to check if the model improves its performance. The model did perform better, the mean squared errors reduced when compared with the predicted values and the performance scores also became high."
   ]
  },
  {
   "cell_type": "code",
   "execution_count": 20,
   "id": "401b25da-04ca-471f-a7ac-fbdc46fe265c",
   "metadata": {
    "tags": []
   },
   "outputs": [
    {
     "name": "stdout",
     "output_type": "stream",
     "text": [
      "0.0391905130061932 mse for training set | score:  0.9895433601958581\n",
      "0.08399572992683087 mse for validation set | score:  0.9855526019945694\n",
      "0.07299746746388283 mse for testing set | score:  0.9956811552679421\n"
     ]
    }
   ],
   "source": [
    "xgbr = xgb.XGBRegressor(n_estimators = 25, learning_rate = 0.3, max_depth = 10)\n",
    "xgbr.fit(X_train_temp, y_train_temp)\n",
    "ytpred = xgbr.predict(X_train_temp)\n",
    "yvpred = xgbr.predict(X_val)\n",
    "ytepred = xgbr.predict(X_test)\n",
    "score1 = xgbr.score(X_train_temp, y_train_temp)\n",
    "score2 = xgbr.score(X_val,y_val)\n",
    "score3 = xgbr.score(X_test, y_test)\n",
    "print(mean_squared_error(y_train_temp, ytpred), \"mse for training set | score: \", score1)\n",
    "print(mean_squared_error(y_val, yvpred), \"mse for validation set | score: \", score2)\n",
    "print(mean_squared_error(y_test, ytepred), \"mse for testing set | score: \", score3)"
   ]
  },
  {
   "cell_type": "markdown",
   "id": "80f9d051-5367-4f7c-ae08-19d76634a02d",
   "metadata": {},
   "source": [
    "4. Train a boosted regression tree on this prediction task with 2,10,25,50,100, 250, 500, & 1,000 boosting iterations. Plot the training and validation error as a function of number of iterations."
   ]
  },
  {
   "cell_type": "code",
   "execution_count": 10,
   "id": "7f72aa02-6d9a-404c-bcf9-6f5be13c8e04",
   "metadata": {
    "tags": []
   },
   "outputs": [],
   "source": [
    "b_iterations = [2,10,25,50,100,250,500,1000]\n",
    "error1 =[]\n",
    "for i in b_iterations: \n",
    "    xgbr = xgb.XGBRegressor(n_estimators = i, learning_rate = 0.1)\n",
    "    xgbr.fit(X_train_temp, y_train_temp)\n",
    "    ypred = xgbr.predict(X_train_temp)\n",
    "    score = xgbr.score(X_train_temp,y_train_temp)\n",
    "    err = (mean_squared_error(y_train_temp,ypred))\n",
    "    error1.append(err)"
   ]
  },
  {
   "cell_type": "code",
   "execution_count": 11,
   "id": "cc92d7bf-c62f-4221-ad3a-5115404e18be",
   "metadata": {
    "tags": []
   },
   "outputs": [
    {
     "data": {
      "text/plain": [
       "<Axes: >"
      ]
     },
     "execution_count": 11,
     "metadata": {},
     "output_type": "execute_result"
    },
    {
     "data": {
      "image/png": "[encoded data removed]",
      "text/plain": [
       "<Figure size 640x480 with 1 Axes>"
      ]
     },
     "metadata": {},
     "output_type": "display_data"
    }
   ],
   "source": [
    "sns.lineplot(x = b_iterations, y = error1)"
   ]
  },
  {
   "cell_type": "code",
   "execution_count": 12,
   "id": "80ee89b1-2866-4f92-8eb2-202968a2c79b",
   "metadata": {
    "tags": []
   },
   "outputs": [],
   "source": [
    "b_iterations = [2,10,25,50,100,250,500,1000]\n",
    "error2 =[]\n",
    "for i in b_iterations: \n",
    "    xgbr = xgb.XGBRegressor(n_estimators = i, learning_rate = 0.1)\n",
    "    xgbr.fit(X_train_temp, y_train_temp)\n",
    "    ypred = xgbr.predict(X_val)\n",
    "    score = xgbr.score(X_val,y_val)\n",
    "    err = (mean_squared_error(y_val,ypred))\n",
    "    error2.append(err)"
   ]
  },
  {
   "cell_type": "code",
   "execution_count": 13,
   "id": "02fcdf07-343d-442e-ad8d-a8db971497d8",
   "metadata": {
    "tags": []
   },
   "outputs": [
    {
     "data": {
      "text/plain": [
       "<Axes: >"
      ]
     },
     "execution_count": 13,
     "metadata": {},
     "output_type": "execute_result"
    },
    {
     "data": {
      "image/png": "[encoded data removed]",
      "text/plain": [
       "<Figure size 640x480 with 1 Axes>"
      ]
     },
     "metadata": {},
     "output_type": "display_data"
    }
   ],
   "source": [
    "sns.lineplot(x = b_iterations, y = error2)"
   ]
  },
  {
   "cell_type": "code",
   "execution_count": 14,
   "id": "7a0f4368-441a-41fe-ac5b-b5f7f64ab664",
   "metadata": {
    "tags": []
   },
   "outputs": [],
   "source": [
    "b_iterations = [2,10,25,50,100,250,500,1000]\n",
    "error3 =[]\n",
    "for i in b_iterations: \n",
    "    xgbr = xgb.XGBRegressor(n_estimators = i, learning_rate = 0.1)\n",
    "    xgbr.fit(X_train_temp, y_train_temp)\n",
    "    ypred = xgbr.predict(X_test)\n",
    "    score = xgbr.score(X_test,y_test)\n",
    "    err = (mean_squared_error(y_test,ypred))\n",
    "    error3.append(err)"
   ]
  },
  {
   "cell_type": "code",
   "execution_count": 15,
   "id": "fe5a8d0e-6f66-4236-9c4d-75fe610e01dd",
   "metadata": {
    "tags": []
   },
   "outputs": [
    {
     "data": {
      "text/plain": [
       "<Axes: >"
      ]
     },
     "execution_count": 15,
     "metadata": {},
     "output_type": "execute_result"
    },
    {
     "data": {
      "image/png": "[encoded data removed]",
      "text/plain": [
       "<Figure size 640x480 with 1 Axes>"
      ]
     },
     "metadata": {},
     "output_type": "display_data"
    }
   ],
   "source": [
    "sns.lineplot(x = b_iterations, y = error3)"
   ]
  },
  {
   "cell_type": "code",
   "execution_count": 21,
   "id": "d0880f16-b547-4820-afa3-56b46fbe0955",
   "metadata": {
    "tags": []
   },
   "outputs": [
    {
     "data": {
      "image/png": "[encoded data removed]",
      "text/plain": [
       "<Figure size 640x480 with 1 Axes>"
      ]
     },
     "metadata": {},
     "output_type": "display_data"
    }
   ],
   "source": [
    "plt.plot(b_iterations, error1, \"blue\", label=\"Training error\")\n",
    "plt.plot(b_iterations, error2, \"orange\", label=\"Validation error\" )\n",
    "plt.yscale(\"log\")\n",
    "plt.xlabel(\"Log-scaled error\")\n",
    "plt.ylabel(\"Trees\")\n",
    "plt.legend()\n",
    "plt.show()"
   ]
  },
  {
   "cell_type": "markdown",
   "id": "99699333-fba1-483e-ae00-109b4bd0579a",
   "metadata": {},
   "source": [
    "5. Do you have evidence of overfitting to the training data set with 1,000 boosting iterations?\n",
    "- There is no evidence of overfitting, but the model does not perform any better when the number of trees are increased."
   ]
  },
  {
   "cell_type": "markdown",
   "id": "708891cb-dfd0-4028-860d-a79a5071dc2d",
   "metadata": {},
   "source": [
    "6. Retrain the boosted regression tree using early stopping with a tolerance of 10. How many boosting iterations were optimal?\n",
    "- The best number of iterations required is 24."
   ]
  },
  {
   "cell_type": "code",
   "execution_count": 17,
   "id": "ad27f251-3c95-4ffc-809e-0df5e547a396",
   "metadata": {
    "tags": []
   },
   "outputs": [
    {
     "name": "stdout",
     "output_type": "stream",
     "text": [
      "[0]\tvalidation_0-rmse:1.77921\tvalidation_1-rmse:2.21433\n",
      "[1]\tvalidation_0-rmse:1.63615\tvalidation_1-rmse:2.03436\n",
      "[2]\tvalidation_0-rmse:1.50558\tvalidation_1-rmse:1.86969\n",
      "[3]\tvalidation_0-rmse:1.38656\tvalidation_1-rmse:1.71940\n",
      "[4]\tvalidation_0-rmse:1.27810\tvalidation_1-rmse:1.58212\n",
      "[5]\tvalidation_0-rmse:1.17907\tvalidation_1-rmse:1.45677\n",
      "[6]\tvalidation_0-rmse:1.08911\tvalidation_1-rmse:1.34261\n",
      "[7]\tvalidation_0-rmse:1.00741\tvalidation_1-rmse:1.23838\n",
      "[8]\tvalidation_0-rmse:0.93335\tvalidation_1-rmse:1.14378\n",
      "[9]\tvalidation_0-rmse:0.86616\tvalidation_1-rmse:1.05749\n",
      "[10]\tvalidation_0-rmse:0.80528\tvalidation_1-rmse:0.97894\n",
      "[11]\tvalidation_0-rmse:0.75004\tvalidation_1-rmse:0.90750\n",
      "[12]\tvalidation_0-rmse:0.70035\tvalidation_1-rmse:0.84272\n",
      "[13]\tvalidation_0-rmse:0.65523\tvalidation_1-rmse:0.78387\n",
      "[14]\tvalidation_0-rmse:0.61482\tvalidation_1-rmse:0.73080\n",
      "[15]\tvalidation_0-rmse:0.57804\tvalidation_1-rmse:0.68266\n",
      "[16]\tvalidation_0-rmse:0.54530\tvalidation_1-rmse:0.63944\n",
      "[17]\tvalidation_0-rmse:0.51645\tvalidation_1-rmse:0.60069\n",
      "[18]\tvalidation_0-rmse:0.49090\tvalidation_1-rmse:0.56656\n",
      "[19]\tvalidation_0-rmse:0.46835\tvalidation_1-rmse:0.53618\n",
      "[20]\tvalidation_0-rmse:0.44838\tvalidation_1-rmse:0.50908\n",
      "[21]\tvalidation_0-rmse:0.43062\tvalidation_1-rmse:0.48483\n",
      "[22]\tvalidation_0-rmse:0.41448\tvalidation_1-rmse:0.46319\n",
      "[23]\tvalidation_0-rmse:0.40086\tvalidation_1-rmse:0.44428\n",
      "[24]\tvalidation_0-rmse:0.38887\tvalidation_1-rmse:0.42775\n"
     ]
    },
    {
     "data": {
      "text/html": [
       "<style>#sk-container-id-1 {color: black;}#sk-container-id-1 pre{padding: 0;}#sk-container-id-1 div.sk-toggleable {background-color: white;}#sk-container-id-1 label.sk-toggleable__label {cursor: pointer;display: block;width: 100%;margin-bottom: 0;padding: 0.3em;box-sizing: border-box;text-align: center;}#sk-container-id-1 label.sk-toggleable__label-arrow:before {content: \"▸\";float: left;margin-right: 0.25em;color: #696969;}#sk-container-id-1 label.sk-toggleable__label-arrow:hover:before {color: black;}#sk-container-id-1 div.sk-estimator:hover label.sk-toggleable__label-arrow:before {color: black;}#sk-container-id-1 div.sk-toggleable__content {max-height: 0;max-width: 0;overflow: hidden;text-align: left;background-color: #f0f8ff;}#sk-container-id-1 div.sk-toggleable__content pre {margin: 0.2em;color: black;border-radius: 0.25em;background-color: #f0f8ff;}#sk-container-id-1 input.sk-toggleable__control:checked~div.sk-toggleable__content {max-height: 200px;max-width: 100%;overflow: auto;}#sk-container-id-1 input.sk-toggleable__control:checked~label.sk-toggleable__label-arrow:before {content: \"▾\";}#sk-container-id-1 div.sk-estimator input.sk-toggleable__control:checked~label.sk-toggleable__label {background-color: #d4ebff;}#sk-container-id-1 div.sk-label input.sk-toggleable__control:checked~label.sk-toggleable__label {background-color: #d4ebff;}#sk-container-id-1 input.sk-hidden--visually {border: 0;clip: rect(1px 1px 1px 1px);clip: rect(1px, 1px, 1px, 1px);height: 1px;margin: -1px;overflow: hidden;padding: 0;position: absolute;width: 1px;}#sk-container-id-1 div.sk-estimator {font-family: monospace;background-color: #f0f8ff;border: 1px dotted black;border-radius: 0.25em;box-sizing: border-box;margin-bottom: 0.5em;}#sk-container-id-1 div.sk-estimator:hover {background-color: #d4ebff;}#sk-container-id-1 div.sk-parallel-item::after {content: \"\";width: 100%;border-bottom: 1px solid gray;flex-grow: 1;}#sk-container-id-1 div.sk-label:hover label.sk-toggleable__label {background-color: #d4ebff;}#sk-container-id-1 div.sk-serial::before {content: \"\";position: absolute;border-left: 1px solid gray;box-sizing: border-box;top: 0;bottom: 0;left: 50%;z-index: 0;}#sk-container-id-1 div.sk-serial {display: flex;flex-direction: column;align-items: center;background-color: white;padding-right: 0.2em;padding-left: 0.2em;position: relative;}#sk-container-id-1 div.sk-item {position: relative;z-index: 1;}#sk-container-id-1 div.sk-parallel {display: flex;align-items: stretch;justify-content: center;background-color: white;position: relative;}#sk-container-id-1 div.sk-item::before, #sk-container-id-1 div.sk-parallel-item::before {content: \"\";position: absolute;border-left: 1px solid gray;box-sizing: border-box;top: 0;bottom: 0;left: 50%;z-index: -1;}#sk-container-id-1 div.sk-parallel-item {display: flex;flex-direction: column;z-index: 1;position: relative;background-color: white;}#sk-container-id-1 div.sk-parallel-item:first-child::after {align-self: flex-end;width: 50%;}#sk-container-id-1 div.sk-parallel-item:last-child::after {align-self: flex-start;width: 50%;}#sk-container-id-1 div.sk-parallel-item:only-child::after {width: 0;}#sk-container-id-1 div.sk-dashed-wrapped {border: 1px dashed gray;margin: 0 0.4em 0.5em 0.4em;box-sizing: border-box;padding-bottom: 0.4em;background-color: white;}#sk-container-id-1 div.sk-label label {font-family: monospace;font-weight: bold;display: inline-block;line-height: 1.2em;}#sk-container-id-1 div.sk-label-container {text-align: center;}#sk-container-id-1 div.sk-container {/* jupyter's `normalize.less` sets `[hidden] { display: none; }` but bootstrap.min.css set `[hidden] { display: none !important; }` so we also need the `!important` here to be able to override the default hidden behavior on the sphinx rendered scikit-learn.org. See: https://github.com/scikit-learn/scikit-learn/issues/21755 */display: inline-block !important;position: relative;}#sk-container-id-1 div.sk-text-repr-fallback {display: none;}</style><div id=\"sk-container-id-1\" class=\"sk-top-container\"><div class=\"sk-text-repr-fallback\"><pre>XGBRegressor(base_score=None, booster=None, callbacks=None,\n",
       "             colsample_bylevel=None, colsample_bynode=None,\n",
       "             colsample_bytree=None, device=None, early_stopping_rounds=10,\n",
       "             enable_categorical=False, eval_metric=None, feature_types=None,\n",
       "             gamma=None, grow_policy=None, importance_type=None,\n",
       "             interaction_constraints=None, learning_rate=0.1, max_bin=None,\n",
       "             max_cat_threshold=None, max_cat_to_onehot=None,\n",
       "             max_delta_step=None, max_depth=None, max_leaves=None,\n",
       "             min_child_weight=None, missing=nan, monotone_constraints=None,\n",
       "             multi_strategy=None, n_estimators=25, n_jobs=None,\n",
       "             num_parallel_tree=None, random_state=None, ...)</pre><b>In a Jupyter environment, please rerun this cell to show the HTML representation or trust the notebook. <br />On GitHub, the HTML representation is unable to render, please try loading this page with nbviewer.org.</b></div><div class=\"sk-container\" hidden><div class=\"sk-item\"><div class=\"sk-estimator sk-toggleable\"><input class=\"sk-toggleable__control sk-hidden--visually\" id=\"sk-estimator-id-1\" type=\"checkbox\" checked><label for=\"sk-estimator-id-1\" class=\"sk-toggleable__label sk-toggleable__label-arrow\">XGBRegressor</label><div class=\"sk-toggleable__content\"><pre>XGBRegressor(base_score=None, booster=None, callbacks=None,\n",
       "             colsample_bylevel=None, colsample_bynode=None,\n",
       "             colsample_bytree=None, device=None, early_stopping_rounds=10,\n",
       "             enable_categorical=False, eval_metric=None, feature_types=None,\n",
       "             gamma=None, grow_policy=None, importance_type=None,\n",
       "             interaction_constraints=None, learning_rate=0.1, max_bin=None,\n",
       "             max_cat_threshold=None, max_cat_to_onehot=None,\n",
       "             max_delta_step=None, max_depth=None, max_leaves=None,\n",
       "             min_child_weight=None, missing=nan, monotone_constraints=None,\n",
       "             multi_strategy=None, n_estimators=25, n_jobs=None,\n",
       "             num_parallel_tree=None, random_state=None, ...)</pre></div></div></div></div></div>"
      ],
      "text/plain": [
       "XGBRegressor(base_score=None, booster=None, callbacks=None,\n",
       "             colsample_bylevel=None, colsample_bynode=None,\n",
       "             colsample_bytree=None, device=None, early_stopping_rounds=10,\n",
       "             enable_categorical=False, eval_metric=None, feature_types=None,\n",
       "             gamma=None, grow_policy=None, importance_type=None,\n",
       "             interaction_constraints=None, learning_rate=0.1, max_bin=None,\n",
       "             max_cat_threshold=None, max_cat_to_onehot=None,\n",
       "             max_delta_step=None, max_depth=None, max_leaves=None,\n",
       "             min_child_weight=None, missing=nan, monotone_constraints=None,\n",
       "             multi_strategy=None, n_estimators=25, n_jobs=None,\n",
       "             num_parallel_tree=None, random_state=None, ...)"
      ]
     },
     "execution_count": 17,
     "metadata": {},
     "output_type": "execute_result"
    }
   ],
   "source": [
    "xgbr = xgb.XGBRegressor(n_estimators=25, \n",
    "                         learning_rate=0.1, early_stopping_rounds=10)\n",
    "xgbr.fit(X_train_temp, y_train_temp, \n",
    "            eval_set=[(X_train_temp, y_train_temp), (X_val, y_val)]) "
   ]
  },
  {
   "cell_type": "code",
   "execution_count": 18,
   "id": "9f33f931-0a75-4c8b-9f37-f14953cc190b",
   "metadata": {
    "tags": []
   },
   "outputs": [
    {
     "data": {
      "text/plain": [
       "<matplotlib.legend.Legend at 0x1688fa6b0>"
      ]
     },
     "execution_count": 18,
     "metadata": {},
     "output_type": "execute_result"
    },
    {
     "data": {
      "image/png": "[encoded data removed]",
      "text/plain": [
       "<Figure size 1000x700 with 1 Axes>"
      ]
     },
     "metadata": {},
     "output_type": "display_data"
    }
   ],
   "source": [
    "results = xgbr.evals_result()\n",
    "\n",
    "plt.figure(figsize=(10,7))\n",
    "plt.plot(results[\"validation_0\"][\"rmse\"], label=\"Training loss\")\n",
    "plt.plot(results[\"validation_1\"][\"rmse\"], label=\"Validation loss\")\n",
    "#plt.axvline(21, color=\"gray\", label=\"Optimal tree number\")\n",
    "plt.xlabel(\"Number of trees\")\n",
    "plt.ylabel(\"Loss\")\n",
    "plt.legend()"
   ]
  },
  {
   "cell_type": "code",
   "execution_count": 19,
   "id": "ac0e7572-eb29-4685-9856-c6d025990482",
   "metadata": {
    "tags": []
   },
   "outputs": [
    {
     "data": {
      "text/plain": [
       "24"
      ]
     },
     "execution_count": 19,
     "metadata": {},
     "output_type": "execute_result"
    }
   ],
   "source": [
    "xgbr.best_iteration"
   ]
  }
 ],
 "metadata": {
  "kernelspec": {
   "display_name": "pyleo",
   "language": "python",
   "name": "pyleo"
  },
  "language_info": {
   "codemirror_mode": {
    "name": "ipython",
    "version": 3
   },
   "file_extension": ".py",
   "mimetype": "text/x-python",
   "name": "python",
   "nbconvert_exporter": "python",
   "pygments_lexer": "ipython3",
   "version": "3.10.13"
  }
 },
 "nbformat": 4,
 "nbformat_minor": 5
}
