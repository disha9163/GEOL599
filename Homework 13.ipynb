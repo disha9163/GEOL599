{
 "cells": [
  {
   "cell_type": "code",
   "execution_count": 1,
   "id": "f0919bbc-378f-4486-a2f6-0e89b70afaaf",
   "metadata": {
    "tags": []
   },
   "outputs": [],
   "source": [
    "import numpy as np\n",
    "import pandas as pd\n",
    "from matplotlib import pyplot as plt"
   ]
  },
  {
   "cell_type": "code",
   "execution_count": 2,
   "id": "e6f70f6f-a961-4228-b1b1-ccfb38a5ecaf",
   "metadata": {
    "tags": []
   },
   "outputs": [
    {
     "data": {
      "text/html": [
       "<div>\n",
       "<style scoped>\n",
       "    .dataframe tbody tr th:only-of-type {\n",
       "        vertical-align: middle;\n",
       "    }\n",
       "\n",
       "    .dataframe tbody tr th {\n",
       "        vertical-align: top;\n",
       "    }\n",
       "\n",
       "    .dataframe thead th {\n",
       "        text-align: right;\n",
       "    }\n",
       "</style>\n",
       "<table border=\"1\" class=\"dataframe\">\n",
       "  <thead>\n",
       "    <tr style=\"text-align: right;\">\n",
       "      <th></th>\n",
       "      <th>YY</th>\n",
       "      <th>MM</th>\n",
       "      <th>DD</th>\n",
       "      <th>hh</th>\n",
       "      <th>mm</th>\n",
       "      <th>WDIR</th>\n",
       "      <th>WSPD</th>\n",
       "      <th>GST</th>\n",
       "      <th>WVHT</th>\n",
       "      <th>DPD</th>\n",
       "      <th>APD</th>\n",
       "      <th>MWD</th>\n",
       "      <th>PRES</th>\n",
       "      <th>ATMP</th>\n",
       "      <th>WTMP</th>\n",
       "      <th>DEWP</th>\n",
       "      <th>VIS</th>\n",
       "      <th>TIDE</th>\n",
       "    </tr>\n",
       "  </thead>\n",
       "  <tbody>\n",
       "    <tr>\n",
       "      <th>0</th>\n",
       "      <td>2023</td>\n",
       "      <td>1</td>\n",
       "      <td>1</td>\n",
       "      <td>0</td>\n",
       "      <td>26</td>\n",
       "      <td>999</td>\n",
       "      <td>99.0</td>\n",
       "      <td>99.0</td>\n",
       "      <td>1.12</td>\n",
       "      <td>12.50</td>\n",
       "      <td>7.69</td>\n",
       "      <td>269</td>\n",
       "      <td>9999.0</td>\n",
       "      <td>999.0</td>\n",
       "      <td>15.3</td>\n",
       "      <td>999.0</td>\n",
       "      <td>99.0</td>\n",
       "      <td>99.0</td>\n",
       "    </tr>\n",
       "    <tr>\n",
       "      <th>1</th>\n",
       "      <td>2023</td>\n",
       "      <td>1</td>\n",
       "      <td>1</td>\n",
       "      <td>0</td>\n",
       "      <td>56</td>\n",
       "      <td>999</td>\n",
       "      <td>99.0</td>\n",
       "      <td>99.0</td>\n",
       "      <td>1.16</td>\n",
       "      <td>11.76</td>\n",
       "      <td>7.34</td>\n",
       "      <td>272</td>\n",
       "      <td>9999.0</td>\n",
       "      <td>999.0</td>\n",
       "      <td>15.3</td>\n",
       "      <td>999.0</td>\n",
       "      <td>99.0</td>\n",
       "      <td>99.0</td>\n",
       "    </tr>\n",
       "    <tr>\n",
       "      <th>2</th>\n",
       "      <td>2023</td>\n",
       "      <td>1</td>\n",
       "      <td>1</td>\n",
       "      <td>1</td>\n",
       "      <td>26</td>\n",
       "      <td>999</td>\n",
       "      <td>99.0</td>\n",
       "      <td>99.0</td>\n",
       "      <td>1.20</td>\n",
       "      <td>12.50</td>\n",
       "      <td>7.08</td>\n",
       "      <td>268</td>\n",
       "      <td>9999.0</td>\n",
       "      <td>999.0</td>\n",
       "      <td>15.3</td>\n",
       "      <td>999.0</td>\n",
       "      <td>99.0</td>\n",
       "      <td>99.0</td>\n",
       "    </tr>\n",
       "    <tr>\n",
       "      <th>3</th>\n",
       "      <td>2023</td>\n",
       "      <td>1</td>\n",
       "      <td>1</td>\n",
       "      <td>1</td>\n",
       "      <td>56</td>\n",
       "      <td>999</td>\n",
       "      <td>99.0</td>\n",
       "      <td>99.0</td>\n",
       "      <td>1.25</td>\n",
       "      <td>10.53</td>\n",
       "      <td>7.33</td>\n",
       "      <td>268</td>\n",
       "      <td>9999.0</td>\n",
       "      <td>999.0</td>\n",
       "      <td>15.4</td>\n",
       "      <td>999.0</td>\n",
       "      <td>99.0</td>\n",
       "      <td>99.0</td>\n",
       "    </tr>\n",
       "    <tr>\n",
       "      <th>4</th>\n",
       "      <td>2023</td>\n",
       "      <td>1</td>\n",
       "      <td>1</td>\n",
       "      <td>2</td>\n",
       "      <td>26</td>\n",
       "      <td>999</td>\n",
       "      <td>99.0</td>\n",
       "      <td>99.0</td>\n",
       "      <td>1.27</td>\n",
       "      <td>10.53</td>\n",
       "      <td>7.57</td>\n",
       "      <td>268</td>\n",
       "      <td>9999.0</td>\n",
       "      <td>999.0</td>\n",
       "      <td>15.5</td>\n",
       "      <td>999.0</td>\n",
       "      <td>99.0</td>\n",
       "      <td>99.0</td>\n",
       "    </tr>\n",
       "  </tbody>\n",
       "</table>\n",
       "</div>"
      ],
      "text/plain": [
       "     YY  MM  DD  hh  mm  WDIR  WSPD   GST  WVHT    DPD   APD  MWD    PRES  \\\n",
       "0  2023   1   1   0  26   999  99.0  99.0  1.12  12.50  7.69  269  9999.0   \n",
       "1  2023   1   1   0  56   999  99.0  99.0  1.16  11.76  7.34  272  9999.0   \n",
       "2  2023   1   1   1  26   999  99.0  99.0  1.20  12.50  7.08  268  9999.0   \n",
       "3  2023   1   1   1  56   999  99.0  99.0  1.25  10.53  7.33  268  9999.0   \n",
       "4  2023   1   1   2  26   999  99.0  99.0  1.27  10.53  7.57  268  9999.0   \n",
       "\n",
       "    ATMP  WTMP   DEWP   VIS  TIDE  \n",
       "0  999.0  15.3  999.0  99.0  99.0  \n",
       "1  999.0  15.3  999.0  99.0  99.0  \n",
       "2  999.0  15.3  999.0  99.0  99.0  \n",
       "3  999.0  15.4  999.0  99.0  99.0  \n",
       "4  999.0  15.5  999.0  99.0  99.0  "
      ]
     },
     "execution_count": 2,
     "metadata": {},
     "output_type": "execute_result"
    }
   ],
   "source": [
    "fileName = \"xid-92685698_2.txt\" \n",
    "df = pd.read_csv(fileName, delim_whitespace=True) \n",
    "df.head()"
   ]
  },
  {
   "cell_type": "code",
   "execution_count": 3,
   "id": "31dee7f8-6f17-4141-82b8-1daaa3c66cee",
   "metadata": {
    "tags": []
   },
   "outputs": [
    {
     "data": {
      "text/html": [
       "<div>\n",
       "<style scoped>\n",
       "    .dataframe tbody tr th:only-of-type {\n",
       "        vertical-align: middle;\n",
       "    }\n",
       "\n",
       "    .dataframe tbody tr th {\n",
       "        vertical-align: top;\n",
       "    }\n",
       "\n",
       "    .dataframe thead th {\n",
       "        text-align: right;\n",
       "    }\n",
       "</style>\n",
       "<table border=\"1\" class=\"dataframe\">\n",
       "  <thead>\n",
       "    <tr style=\"text-align: right;\">\n",
       "      <th></th>\n",
       "      <th>DPD</th>\n",
       "      <th>APD</th>\n",
       "      <th>MWD</th>\n",
       "      <th>WTMP</th>\n",
       "      <th>WVHT</th>\n",
       "    </tr>\n",
       "  </thead>\n",
       "  <tbody>\n",
       "    <tr>\n",
       "      <th>0</th>\n",
       "      <td>12.50</td>\n",
       "      <td>7.69</td>\n",
       "      <td>269</td>\n",
       "      <td>15.3</td>\n",
       "      <td>1.12</td>\n",
       "    </tr>\n",
       "    <tr>\n",
       "      <th>1</th>\n",
       "      <td>11.76</td>\n",
       "      <td>7.34</td>\n",
       "      <td>272</td>\n",
       "      <td>15.3</td>\n",
       "      <td>1.16</td>\n",
       "    </tr>\n",
       "    <tr>\n",
       "      <th>2</th>\n",
       "      <td>12.50</td>\n",
       "      <td>7.08</td>\n",
       "      <td>268</td>\n",
       "      <td>15.3</td>\n",
       "      <td>1.20</td>\n",
       "    </tr>\n",
       "    <tr>\n",
       "      <th>3</th>\n",
       "      <td>10.53</td>\n",
       "      <td>7.33</td>\n",
       "      <td>268</td>\n",
       "      <td>15.4</td>\n",
       "      <td>1.25</td>\n",
       "    </tr>\n",
       "    <tr>\n",
       "      <th>4</th>\n",
       "      <td>10.53</td>\n",
       "      <td>7.57</td>\n",
       "      <td>268</td>\n",
       "      <td>15.5</td>\n",
       "      <td>1.27</td>\n",
       "    </tr>\n",
       "  </tbody>\n",
       "</table>\n",
       "</div>"
      ],
      "text/plain": [
       "     DPD   APD  MWD  WTMP  WVHT\n",
       "0  12.50  7.69  269  15.3  1.12\n",
       "1  11.76  7.34  272  15.3  1.16\n",
       "2  12.50  7.08  268  15.3  1.20\n",
       "3  10.53  7.33  268  15.4  1.25\n",
       "4  10.53  7.57  268  15.5  1.27"
      ]
     },
     "execution_count": 3,
     "metadata": {},
     "output_type": "execute_result"
    }
   ],
   "source": [
    "df_w = df[[\"DPD\",\"APD\",\"MWD\",\"WTMP\",\"WVHT\"]]\n",
    "df_w.head()"
   ]
  },
  {
   "cell_type": "code",
   "execution_count": 4,
   "id": "f9ba5647-a8bb-44d3-aa80-fe4da704a1f7",
   "metadata": {
    "tags": []
   },
   "outputs": [],
   "source": [
    "df_w1 = df_w.drop(df_w[df_w['DPD'] == 99.0].index)\n",
    "df_w2 = df_w1.drop(df_w1[df_w1['APD'] == 99.0].index)\n",
    "df_w3 = df_w2.drop(df_w2[df_w2['MWD'] == 999.0].index)\n",
    "df_w4 = df_w3.drop(df_w3[df_w3['WTMP'] == 99.0].index)\n",
    "df_w5 = df_w4.drop(df_w4[df_w4['WVHT'] == 99.0].index)"
   ]
  },
  {
   "cell_type": "code",
   "execution_count": 16,
   "id": "40e91c84-9e19-470e-ab03-2c6aaf26971c",
   "metadata": {
    "tags": []
   },
   "outputs": [],
   "source": [
    "from sklearn.neural_network import MLPRegressor\n",
    "from sklearn.datasets import make_regression\n",
    "# Mean squared error \n",
    "from sklearn.metrics import mean_squared_error"
   ]
  },
  {
   "cell_type": "code",
   "execution_count": 18,
   "id": "ef242e17-b2f3-4191-a2b3-1bbd0d44feee",
   "metadata": {
    "tags": []
   },
   "outputs": [],
   "source": [
    "xVal = df_w5[['DPD','APD','WTMP','MWD']].to_numpy()\n",
    "yVal = np.array(df_w5['WVHT'])"
   ]
  },
  {
   "cell_type": "code",
   "execution_count": 19,
   "id": "e97d961f-4111-4459-be88-508b08e56c9b",
   "metadata": {
    "tags": []
   },
   "outputs": [],
   "source": [
    "from sklearn.model_selection import train_test_split\n",
    "X_train_temp, X_temp, y_train_temp, y_temp = train_test_split(xVal, yVal, test_size=0.2)\n",
    "X_val, X_test, y_val, y_test = train_test_split(X_temp, y_temp, test_size=0.5)"
   ]
  },
  {
   "cell_type": "markdown",
   "id": "49c08ae6-9d30-469f-a350-7d1fb4fd40e2",
   "metadata": {},
   "source": [
    "### Baseline Model"
   ]
  },
  {
   "cell_type": "code",
   "execution_count": 20,
   "id": "a5a4b387-a38c-4220-abf6-5d0aeec63d9a",
   "metadata": {
    "tags": []
   },
   "outputs": [
    {
     "name": "stdout",
     "output_type": "stream",
     "text": [
      "0.19297046969447665\n",
      "0.20917035013664229\n",
      "0.20370669222151108\n"
     ]
    }
   ],
   "source": [
    "from sklearn import linear_model\n",
    "lm= linear_model.LinearRegression()\n",
    "lm.fit(X_train_temp,y_train_temp)\n",
    "lm_y1 = lm.predict(X_train_temp)\n",
    "lm_y2 = lm.predict(X_test)\n",
    "lm_y3 = lm.predict(X_val)\n",
    "lm_err = mean_squared_error(lm_y1,y_train_temp)\n",
    "print(mean_squared_error(lm_y1,y_train_temp))\n",
    "print(mean_squared_error(lm_y2,y_test))\n",
    "print(mean_squared_error(lm_y3,y_val))\n",
    "#print(lm.score(X_train_temp, y_train_temp))"
   ]
  },
  {
   "cell_type": "markdown",
   "id": "26091ab5-dada-4884-add8-a558d08ba33b",
   "metadata": {},
   "source": [
    "### MLP regressor"
   ]
  },
  {
   "cell_type": "code",
   "execution_count": 21,
   "id": "1e3dfc1b-c92d-474d-8c1a-7094747611e0",
   "metadata": {
    "tags": []
   },
   "outputs": [
    {
     "name": "stdout",
     "output_type": "stream",
     "text": [
      "0.18248030704168555\n",
      "0.19618085045793712\n",
      "0.19518520904966608\n"
     ]
    }
   ],
   "source": [
    "regr = MLPRegressor(hidden_layer_sizes=(16,16,16,)).fit(X_train_temp, y_train_temp)\n",
    "\n",
    "lm_y1 = regr.predict(X_train_temp)\n",
    "lm_y2 = regr.predict(X_test)\n",
    "lm_y3 = regr.predict(X_val)\n",
    "\n",
    "print(mean_squared_error(lm_y1,y_train_temp))\n",
    "print(mean_squared_error(lm_y2,y_test))\n",
    "print(mean_squared_error(lm_y3,y_val))\n"
   ]
  },
  {
   "cell_type": "markdown",
   "id": "325d980d-c107-4d24-80d1-9da706a82ab3",
   "metadata": {},
   "source": [
    "Which model performs best?\n",
    "- Multilayer perceptron regressor performs better."
   ]
  },
  {
   "cell_type": "code",
   "execution_count": 42,
   "id": "8e985a33-6e3d-4256-a5cc-c8f615b2d738",
   "metadata": {
    "tags": []
   },
   "outputs": [
    {
     "name": "stdout",
     "output_type": "stream",
     "text": [
      "(1,)  Train error 0.27333979223460575 Test error 0.3083485347562095\n",
      "(16,)  Train error 0.18253845749023337 Test error 0.18676513239220136\n",
      "(1, 16)  Train error 0.27329041956324784 Test error 0.3080563956911877\n",
      "(16, 16)  Train error 0.2125149785728048 Test error 0.22515085878139868\n",
      "(16, 4, 16)  Train error 0.1736755952089604 Test error 0.182304055832702\n",
      "(16, 16, 16)  Train error 0.18891629480149988 Test error 0.20244334292199234\n",
      "(16, 16, 16, 16)  Train error 0.19409742030736846 Test error 0.20621351476236982\n",
      "(16, 32, 24, 16)  Train error 0.19023650731787323 Test error 0.20673131138043754\n",
      "(1, 1, 1, 1, 1)  Train error 0.273276356382285 Test error 0.30821169688742134\n",
      "(100, 100, 100, 100, 100)  Train error 0.18116623884370978 Test error 0.1932817059358181\n"
     ]
    }
   ],
   "source": [
    "nodes = [(1,),\n",
    "         (16,),\n",
    "         (1,16,),\n",
    "         (16,16,),\n",
    "         (16,4,16,),\n",
    "         (16,16,16,),\n",
    "         (16,16,16,16,),\n",
    "         (16,32,24,16,),\n",
    "         (1,1,1,1,1,),\n",
    "         (100,100,100,100,100,)]\n",
    "for i in nodes:\n",
    "    regr = MLPRegressor(hidden_layer_sizes=i).fit(X_train_temp, y_train_temp)\n",
    "    lm_y1 = regr.predict(X_train_temp)\n",
    "    lm_y2 = regr.predict(X_test)\n",
    "    lm_y3 = regr.predict(X_val)\n",
    "\n",
    "    print(i,' Train error', mean_squared_error(lm_y1,y_train_temp),\"Test error\", mean_squared_error(lm_y2,y_test))\n",
    "   \n"
   ]
  },
  {
   "cell_type": "markdown",
   "id": "59973b7c-4f62-4c33-ae93-ab954bdd15d2",
   "metadata": {},
   "source": [
    "What conclusions can you come to about how changing layer and node numbers impacts predictive skill?\n",
    "- When the number of nodes increases, the error decreases. The error also reduces for the same number of nodes with increasing layers. So with more layers and more number of nodes the error is minimum"
   ]
  },
  {
   "cell_type": "code",
   "execution_count": 32,
   "id": "828af312-2a01-47e1-9cf0-35b7ea9c514a",
   "metadata": {
    "tags": []
   },
   "outputs": [
    {
     "name": "stdout",
     "output_type": "stream",
     "text": [
      "0.17013911423639322\n",
      "0.17820684743120013\n",
      "0.18698243794679176\n"
     ]
    }
   ],
   "source": [
    "regr = MLPRegressor(hidden_layer_sizes=(16,16,16,), activation='logistic').fit(X_train_temp, y_train_temp)\n",
    "\n",
    "lm_y1 = regr.predict(X_train_temp)\n",
    "lm_y2 = regr.predict(X_test)\n",
    "lm_y3 = regr.predict(X_val)\n",
    "\n",
    "print(mean_squared_error(lm_y1,y_train_temp))\n",
    "print(mean_squared_error(lm_y2,y_test))\n",
    "print(mean_squared_error(lm_y3,y_val))\n"
   ]
  },
  {
   "cell_type": "markdown",
   "id": "98d2d3bb-a364-4a42-9cf8-8ee99215dc5c",
   "metadata": {},
   "source": [
    " What happens if you change activation functions? Does that matter here?\n",
    " - Changing the activation function from 'relu' to 'logistic' for 3 layers 16 nodes each, the error in the training set and test set decreased."
   ]
  }
 ],
 "metadata": {
  "kernelspec": {
   "display_name": "pyleo",
   "language": "python",
   "name": "pyleo"
  },
  "language_info": {
   "codemirror_mode": {
    "name": "ipython",
    "version": 3
   },
   "file_extension": ".py",
   "mimetype": "text/x-python",
   "name": "python",
   "nbconvert_exporter": "python",
   "pygments_lexer": "ipython3",
   "version": "3.10.13"
  }
 },
 "nbformat": 4,
 "nbformat_minor": 5
}
