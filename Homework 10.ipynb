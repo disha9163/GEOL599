{
 "cells": [
  {
   "cell_type": "code",
   "execution_count": 1,
   "id": "f7b96a41",
   "metadata": {
    "tags": []
   },
   "outputs": [],
   "source": [
    "# importing libraries\n",
    "import numpy as np\n",
    "from matplotlib import pyplot as plt\n",
    "import seaborn as sns\n",
    "import pandas as pd\n",
    "from sklearn import linear_model\n",
    "from sklearn.linear_model import RidgeClassifier\n",
    "from sklearn.linear_model import LogisticRegression\n",
    "from sklearn.datasets import make_regression\n",
    "from sklearn.tree import DecisionTreeRegressor\n",
    "# Mean squared error \n",
    "from sklearn.metrics import mean_squared_error\n",
    "from sklearn.inspection import permutation_importance"
   ]
  },
  {
   "cell_type": "code",
   "execution_count": 2,
   "id": "cab79a77",
   "metadata": {
    "tags": []
   },
   "outputs": [],
   "source": [
    "fileName = \"LA_AQS_2023.csv\" \n",
    "df = pd.read_csv(fileName) "
   ]
  },
  {
   "cell_type": "code",
   "execution_count": 3,
   "id": "8ede6e72",
   "metadata": {
    "tags": []
   },
   "outputs": [
    {
     "data": {
      "text/html": [
       "<div>\n",
       "<style scoped>\n",
       "    .dataframe tbody tr th:only-of-type {\n",
       "        vertical-align: middle;\n",
       "    }\n",
       "\n",
       "    .dataframe tbody tr th {\n",
       "        vertical-align: top;\n",
       "    }\n",
       "\n",
       "    .dataframe thead th {\n",
       "        text-align: right;\n",
       "    }\n",
       "</style>\n",
       "<table border=\"1\" class=\"dataframe\">\n",
       "  <thead>\n",
       "    <tr style=\"text-align: right;\">\n",
       "      <th></th>\n",
       "      <th>O3</th>\n",
       "    </tr>\n",
       "  </thead>\n",
       "  <tbody>\n",
       "    <tr>\n",
       "      <th>count</th>\n",
       "      <td>273.000000</td>\n",
       "    </tr>\n",
       "    <tr>\n",
       "      <th>mean</th>\n",
       "      <td>0.027899</td>\n",
       "    </tr>\n",
       "    <tr>\n",
       "      <th>std</th>\n",
       "      <td>0.007559</td>\n",
       "    </tr>\n",
       "    <tr>\n",
       "      <th>min</th>\n",
       "      <td>0.008333</td>\n",
       "    </tr>\n",
       "    <tr>\n",
       "      <th>25%</th>\n",
       "      <td>0.023958</td>\n",
       "    </tr>\n",
       "    <tr>\n",
       "      <th>50%</th>\n",
       "      <td>0.028458</td>\n",
       "    </tr>\n",
       "    <tr>\n",
       "      <th>75%</th>\n",
       "      <td>0.032958</td>\n",
       "    </tr>\n",
       "    <tr>\n",
       "      <th>max</th>\n",
       "      <td>0.045750</td>\n",
       "    </tr>\n",
       "  </tbody>\n",
       "</table>\n",
       "</div>"
      ],
      "text/plain": [
       "               O3\n",
       "count  273.000000\n",
       "mean     0.027899\n",
       "std      0.007559\n",
       "min      0.008333\n",
       "25%      0.023958\n",
       "50%      0.028458\n",
       "75%      0.032958\n",
       "max      0.045750"
      ]
     },
     "execution_count": 3,
     "metadata": {},
     "output_type": "execute_result"
    }
   ],
   "source": [
    "# Create an \"ozone only\" data frame\n",
    "df_O3 = df[(df['Parameter Name']=='Ozone') & (df['Duration Description']=='1 HOUR')]\n",
    "df_O3.head()\n",
    "o3V = df_O3[\"Arithmetic Mean\"]\n",
    "df_O3 = pd.DataFrame(data = {\"O3\" : o3V, 'date' : df_O3[\"Date (Local)\"]})\n",
    "df_O3.describe()"
   ]
  },
  {
   "cell_type": "code",
   "execution_count": 4,
   "id": "0135e773-d5a4-4137-8e16-1e0f90ba70a8",
   "metadata": {
    "tags": []
   },
   "outputs": [],
   "source": [
    "# Let's make sure 'date' is actually a date in pandas\n",
    "df_O3[\"Date (Local)\"] = pd.to_datetime(df_O3[\"date\"])"
   ]
  },
  {
   "cell_type": "code",
   "execution_count": 5,
   "id": "13ba77b7-bf1b-4c45-a3b6-6beee8dead71",
   "metadata": {
    "tags": []
   },
   "outputs": [
    {
     "data": {
      "text/html": [
       "<div>\n",
       "<style scoped>\n",
       "    .dataframe tbody tr th:only-of-type {\n",
       "        vertical-align: middle;\n",
       "    }\n",
       "\n",
       "    .dataframe tbody tr th {\n",
       "        vertical-align: top;\n",
       "    }\n",
       "\n",
       "    .dataframe thead th {\n",
       "        text-align: right;\n",
       "    }\n",
       "</style>\n",
       "<table border=\"1\" class=\"dataframe\">\n",
       "  <thead>\n",
       "    <tr style=\"text-align: right;\">\n",
       "      <th></th>\n",
       "      <th>NO2</th>\n",
       "    </tr>\n",
       "  </thead>\n",
       "  <tbody>\n",
       "    <tr>\n",
       "      <th>count</th>\n",
       "      <td>1092.000000</td>\n",
       "    </tr>\n",
       "    <tr>\n",
       "      <th>mean</th>\n",
       "      <td>13.350240</td>\n",
       "    </tr>\n",
       "    <tr>\n",
       "      <th>std</th>\n",
       "      <td>6.208615</td>\n",
       "    </tr>\n",
       "    <tr>\n",
       "      <th>min</th>\n",
       "      <td>3.458333</td>\n",
       "    </tr>\n",
       "    <tr>\n",
       "      <th>25%</th>\n",
       "      <td>8.804167</td>\n",
       "    </tr>\n",
       "    <tr>\n",
       "      <th>50%</th>\n",
       "      <td>11.672917</td>\n",
       "    </tr>\n",
       "    <tr>\n",
       "      <th>75%</th>\n",
       "      <td>16.725000</td>\n",
       "    </tr>\n",
       "    <tr>\n",
       "      <th>max</th>\n",
       "      <td>33.466667</td>\n",
       "    </tr>\n",
       "  </tbody>\n",
       "</table>\n",
       "</div>"
      ],
      "text/plain": [
       "               NO2\n",
       "count  1092.000000\n",
       "mean     13.350240\n",
       "std       6.208615\n",
       "min       3.458333\n",
       "25%       8.804167\n",
       "50%      11.672917\n",
       "75%      16.725000\n",
       "max      33.466667"
      ]
     },
     "execution_count": 5,
     "metadata": {},
     "output_type": "execute_result"
    }
   ],
   "source": [
    "#dataframe for NO2\n",
    "df_NO2 = df[(df[\"Parameter Name\"]==\"Nitrogen dioxide (NO2)\") & (df['Duration Description']==\"1 HOUR\")]\n",
    "df_NO2.head()\n",
    "NO2V = df_NO2[\"Arithmetic Mean\"]\n",
    "df_NO2 = pd.DataFrame(data = {\"NO2\" : NO2V, 'date' :df_NO2[\"Date (Local)\"]})\n",
    "df_NO2.describe()"
   ]
  },
  {
   "cell_type": "code",
   "execution_count": 6,
   "id": "c52653ba-ff62-4cf8-bda6-6232ca83140d",
   "metadata": {
    "tags": []
   },
   "outputs": [],
   "source": [
    "# Let's make sure 'date' is actually a date in pandas\n",
    "df_NO2[\"Date (Local)\"] = pd.to_datetime(df_NO2[\"date\"])\n"
   ]
  },
  {
   "cell_type": "code",
   "execution_count": 7,
   "id": "35adef68-0383-400c-ad18-0bf14f0395a8",
   "metadata": {
    "tags": []
   },
   "outputs": [
    {
     "data": {
      "text/html": [
       "<div>\n",
       "<style scoped>\n",
       "    .dataframe tbody tr th:only-of-type {\n",
       "        vertical-align: middle;\n",
       "    }\n",
       "\n",
       "    .dataframe tbody tr th {\n",
       "        vertical-align: top;\n",
       "    }\n",
       "\n",
       "    .dataframe thead th {\n",
       "        text-align: right;\n",
       "    }\n",
       "</style>\n",
       "<table border=\"1\" class=\"dataframe\">\n",
       "  <thead>\n",
       "    <tr style=\"text-align: right;\">\n",
       "      <th></th>\n",
       "      <th>PM25</th>\n",
       "    </tr>\n",
       "  </thead>\n",
       "  <tbody>\n",
       "    <tr>\n",
       "      <th>count</th>\n",
       "      <td>271.000000</td>\n",
       "    </tr>\n",
       "    <tr>\n",
       "      <th>mean</th>\n",
       "      <td>11.936013</td>\n",
       "    </tr>\n",
       "    <tr>\n",
       "      <th>std</th>\n",
       "      <td>5.106624</td>\n",
       "    </tr>\n",
       "    <tr>\n",
       "      <th>min</th>\n",
       "      <td>3.250000</td>\n",
       "    </tr>\n",
       "    <tr>\n",
       "      <th>25%</th>\n",
       "      <td>8.158333</td>\n",
       "    </tr>\n",
       "    <tr>\n",
       "      <th>50%</th>\n",
       "      <td>10.912500</td>\n",
       "    </tr>\n",
       "    <tr>\n",
       "      <th>75%</th>\n",
       "      <td>15.145833</td>\n",
       "    </tr>\n",
       "    <tr>\n",
       "      <th>max</th>\n",
       "      <td>31.979167</td>\n",
       "    </tr>\n",
       "  </tbody>\n",
       "</table>\n",
       "</div>"
      ],
      "text/plain": [
       "             PM25\n",
       "count  271.000000\n",
       "mean    11.936013\n",
       "std      5.106624\n",
       "min      3.250000\n",
       "25%      8.158333\n",
       "50%     10.912500\n",
       "75%     15.145833\n",
       "max     31.979167"
      ]
     },
     "execution_count": 7,
     "metadata": {},
     "output_type": "execute_result"
    }
   ],
   "source": [
    "#dataframe for PM2.5\n",
    "df_PM25 = df[(df[\"Parameter Name\"]==\"PM2.5 - Local Conditions\") & (df['Duration Description']==\"1 HOUR\")]\n",
    "df_PM25.head()\n",
    "PM25v = df_PM25[\"Arithmetic Mean\"]\n",
    "df_PM25 = pd.DataFrame(data = {\"PM25\" : PM25v, 'date' :df_PM25[\"Date (Local)\"]})\n",
    "df_PM25.describe()"
   ]
  },
  {
   "cell_type": "code",
   "execution_count": 8,
   "id": "6154bf91-4a1f-449f-965c-534cd1ad6b69",
   "metadata": {
    "tags": []
   },
   "outputs": [],
   "source": [
    "# Let's make sure 'date' is actually a date in pandas\n",
    "df_PM25[\"Date (Local)\"] = pd.to_datetime(df_NO2[\"date\"])\n"
   ]
  },
  {
   "cell_type": "code",
   "execution_count": 9,
   "id": "22d28424-7879-4623-84a7-287be278ec04",
   "metadata": {
    "tags": []
   },
   "outputs": [
    {
     "data": {
      "text/html": [
       "<div>\n",
       "<style scoped>\n",
       "    .dataframe tbody tr th:only-of-type {\n",
       "        vertical-align: middle;\n",
       "    }\n",
       "\n",
       "    .dataframe tbody tr th {\n",
       "        vertical-align: top;\n",
       "    }\n",
       "\n",
       "    .dataframe thead th {\n",
       "        text-align: right;\n",
       "    }\n",
       "</style>\n",
       "<table border=\"1\" class=\"dataframe\">\n",
       "  <thead>\n",
       "    <tr style=\"text-align: right;\">\n",
       "      <th></th>\n",
       "      <th>NO2</th>\n",
       "      <th>Date</th>\n",
       "      <th>O3</th>\n",
       "    </tr>\n",
       "  </thead>\n",
       "  <tbody>\n",
       "    <tr>\n",
       "      <th>0</th>\n",
       "      <td>4.816667</td>\n",
       "      <td>2023-01-01</td>\n",
       "      <td>0.031708</td>\n",
       "    </tr>\n",
       "    <tr>\n",
       "      <th>1</th>\n",
       "      <td>4.550000</td>\n",
       "      <td>2023-01-01</td>\n",
       "      <td>0.031708</td>\n",
       "    </tr>\n",
       "    <tr>\n",
       "      <th>2</th>\n",
       "      <td>4.550000</td>\n",
       "      <td>2023-01-01</td>\n",
       "      <td>0.031708</td>\n",
       "    </tr>\n",
       "    <tr>\n",
       "      <th>3</th>\n",
       "      <td>4.816667</td>\n",
       "      <td>2023-01-01</td>\n",
       "      <td>0.031708</td>\n",
       "    </tr>\n",
       "    <tr>\n",
       "      <th>4</th>\n",
       "      <td>14.720833</td>\n",
       "      <td>2023-01-02</td>\n",
       "      <td>0.015792</td>\n",
       "    </tr>\n",
       "  </tbody>\n",
       "</table>\n",
       "</div>"
      ],
      "text/plain": [
       "         NO2        Date        O3\n",
       "0   4.816667  2023-01-01  0.031708\n",
       "1   4.550000  2023-01-01  0.031708\n",
       "2   4.550000  2023-01-01  0.031708\n",
       "3   4.816667  2023-01-01  0.031708\n",
       "4  14.720833  2023-01-02  0.015792"
      ]
     },
     "execution_count": 9,
     "metadata": {},
     "output_type": "execute_result"
    }
   ],
   "source": [
    "df_1 = pd.DataFrame(data = {\"NO2\" : df_NO2[\"NO2\"], 'Date' : df_NO2['date']})\n",
    "df_2 = pd.DataFrame(data = {\"O3\" : df_O3[\"O3\"], 'Date' : df_O3['date']})\n",
    "df_all = df_1.merge(df_2, on=['Date'])\n",
    "df_all.head()"
   ]
  },
  {
   "cell_type": "code",
   "execution_count": 10,
   "id": "9c140d4f-84e5-4226-b89d-34b30238357b",
   "metadata": {
    "tags": []
   },
   "outputs": [
    {
     "data": {
      "text/html": [
       "<div>\n",
       "<style scoped>\n",
       "    .dataframe tbody tr th:only-of-type {\n",
       "        vertical-align: middle;\n",
       "    }\n",
       "\n",
       "    .dataframe tbody tr th {\n",
       "        vertical-align: top;\n",
       "    }\n",
       "\n",
       "    .dataframe thead th {\n",
       "        text-align: right;\n",
       "    }\n",
       "</style>\n",
       "<table border=\"1\" class=\"dataframe\">\n",
       "  <thead>\n",
       "    <tr style=\"text-align: right;\">\n",
       "      <th></th>\n",
       "      <th>NO2</th>\n",
       "      <th>Date</th>\n",
       "      <th>O3</th>\n",
       "      <th>PM25</th>\n",
       "    </tr>\n",
       "  </thead>\n",
       "  <tbody>\n",
       "    <tr>\n",
       "      <th>0</th>\n",
       "      <td>4.816667</td>\n",
       "      <td>2023-01-01</td>\n",
       "      <td>0.031708</td>\n",
       "      <td>5.0875</td>\n",
       "    </tr>\n",
       "    <tr>\n",
       "      <th>1</th>\n",
       "      <td>4.550000</td>\n",
       "      <td>2023-01-01</td>\n",
       "      <td>0.031708</td>\n",
       "      <td>5.0875</td>\n",
       "    </tr>\n",
       "    <tr>\n",
       "      <th>2</th>\n",
       "      <td>4.550000</td>\n",
       "      <td>2023-01-01</td>\n",
       "      <td>0.031708</td>\n",
       "      <td>5.0875</td>\n",
       "    </tr>\n",
       "    <tr>\n",
       "      <th>3</th>\n",
       "      <td>4.816667</td>\n",
       "      <td>2023-01-01</td>\n",
       "      <td>0.031708</td>\n",
       "      <td>5.0875</td>\n",
       "    </tr>\n",
       "    <tr>\n",
       "      <th>4</th>\n",
       "      <td>14.720833</td>\n",
       "      <td>2023-01-02</td>\n",
       "      <td>0.015792</td>\n",
       "      <td>9.1875</td>\n",
       "    </tr>\n",
       "  </tbody>\n",
       "</table>\n",
       "</div>"
      ],
      "text/plain": [
       "         NO2        Date        O3    PM25\n",
       "0   4.816667  2023-01-01  0.031708  5.0875\n",
       "1   4.550000  2023-01-01  0.031708  5.0875\n",
       "2   4.550000  2023-01-01  0.031708  5.0875\n",
       "3   4.816667  2023-01-01  0.031708  5.0875\n",
       "4  14.720833  2023-01-02  0.015792  9.1875"
      ]
     },
     "execution_count": 10,
     "metadata": {},
     "output_type": "execute_result"
    }
   ],
   "source": [
    "#merging everything into a single dataframe\n",
    "df_11 = pd.DataFrame(data = {\"PM25\" : df_PM25[\"PM25\"], 'Date' : df_PM25['date']})\n",
    "\n",
    "df_all_all = df_all.merge(df_11, on=['Date'])\n",
    "df_all_all.head()"
   ]
  },
  {
   "cell_type": "code",
   "execution_count": 11,
   "id": "3f2ea51a",
   "metadata": {
    "tags": []
   },
   "outputs": [
    {
     "data": {
      "text/plain": [
       "array([1, 1, 1, ..., 9, 9, 9], dtype=int32)"
      ]
     },
     "execution_count": 11,
     "metadata": {},
     "output_type": "execute_result"
    }
   ],
   "source": [
    "sumMonths = pd.DatetimeIndex(df_all_all['Date']).month.values\n",
    "sumMonths"
   ]
  },
  {
   "cell_type": "code",
   "execution_count": 12,
   "id": "786bcd7c",
   "metadata": {
    "tags": []
   },
   "outputs": [
    {
     "name": "stdout",
     "output_type": "stream",
     "text": [
      "[0 0 0 ... 0 0 0]\n"
     ]
    }
   ],
   "source": [
    "sIdx = sumMonths - sumMonths #Set values (including winter) to zero\n",
    "print(sIdx)"
   ]
  },
  {
   "cell_type": "code",
   "execution_count": 13,
   "id": "a6a40b94-a7c3-4264-9c80-e23f360be21d",
   "metadata": {
    "tags": []
   },
   "outputs": [],
   "source": [
    "sIdx[sumMonths == 6] = 1 #Set summer to 1\n",
    "sIdx[sumMonths == 7] = 1\n",
    "sIdx[sumMonths == 8] = 1\n",
    "\n",
    "sIdx[sumMonths == 1] = 0 #Set winter to 0\n",
    "sIdx[sumMonths == 2] = 0\n",
    "sIdx[sumMonths == 3] = 0\n",
    "\n",
    "sIdx[sumMonths == 4] = -1\n",
    "sIdx[sumMonths == 5] = -1\n",
    "sIdx[sumMonths == 9] = -1 #Set others to -1\n"
   ]
  },
  {
   "cell_type": "code",
   "execution_count": 14,
   "id": "1f36491f",
   "metadata": {
    "tags": []
   },
   "outputs": [
    {
     "data": {
      "text/html": [
       "<div>\n",
       "<style scoped>\n",
       "    .dataframe tbody tr th:only-of-type {\n",
       "        vertical-align: middle;\n",
       "    }\n",
       "\n",
       "    .dataframe tbody tr th {\n",
       "        vertical-align: top;\n",
       "    }\n",
       "\n",
       "    .dataframe thead th {\n",
       "        text-align: right;\n",
       "    }\n",
       "</style>\n",
       "<table border=\"1\" class=\"dataframe\">\n",
       "  <thead>\n",
       "    <tr style=\"text-align: right;\">\n",
       "      <th></th>\n",
       "      <th>NO2</th>\n",
       "      <th>O3</th>\n",
       "      <th>PM25</th>\n",
       "      <th>summer/winter</th>\n",
       "    </tr>\n",
       "  </thead>\n",
       "  <tbody>\n",
       "    <tr>\n",
       "      <th>count</th>\n",
       "      <td>1084.000000</td>\n",
       "      <td>1084.000000</td>\n",
       "      <td>1084.000000</td>\n",
       "      <td>1084.000000</td>\n",
       "    </tr>\n",
       "    <tr>\n",
       "      <th>mean</th>\n",
       "      <td>13.306238</td>\n",
       "      <td>0.027882</td>\n",
       "      <td>11.936013</td>\n",
       "      <td>0.011070</td>\n",
       "    </tr>\n",
       "    <tr>\n",
       "      <th>std</th>\n",
       "      <td>6.205608</td>\n",
       "      <td>0.007571</td>\n",
       "      <td>5.099546</td>\n",
       "      <td>0.817552</td>\n",
       "    </tr>\n",
       "    <tr>\n",
       "      <th>min</th>\n",
       "      <td>3.458333</td>\n",
       "      <td>0.008333</td>\n",
       "      <td>3.250000</td>\n",
       "      <td>-1.000000</td>\n",
       "    </tr>\n",
       "    <tr>\n",
       "      <th>25%</th>\n",
       "      <td>8.780952</td>\n",
       "      <td>0.023833</td>\n",
       "      <td>8.145833</td>\n",
       "      <td>-1.000000</td>\n",
       "    </tr>\n",
       "    <tr>\n",
       "      <th>50%</th>\n",
       "      <td>11.618750</td>\n",
       "      <td>0.028458</td>\n",
       "      <td>10.912500</td>\n",
       "      <td>0.000000</td>\n",
       "    </tr>\n",
       "    <tr>\n",
       "      <th>75%</th>\n",
       "      <td>16.641667</td>\n",
       "      <td>0.032958</td>\n",
       "      <td>15.154167</td>\n",
       "      <td>1.000000</td>\n",
       "    </tr>\n",
       "    <tr>\n",
       "      <th>max</th>\n",
       "      <td>33.466667</td>\n",
       "      <td>0.045750</td>\n",
       "      <td>31.979167</td>\n",
       "      <td>1.000000</td>\n",
       "    </tr>\n",
       "  </tbody>\n",
       "</table>\n",
       "</div>"
      ],
      "text/plain": [
       "               NO2           O3         PM25  summer/winter\n",
       "count  1084.000000  1084.000000  1084.000000    1084.000000\n",
       "mean     13.306238     0.027882    11.936013       0.011070\n",
       "std       6.205608     0.007571     5.099546       0.817552\n",
       "min       3.458333     0.008333     3.250000      -1.000000\n",
       "25%       8.780952     0.023833     8.145833      -1.000000\n",
       "50%      11.618750     0.028458    10.912500       0.000000\n",
       "75%      16.641667     0.032958    15.154167       1.000000\n",
       "max      33.466667     0.045750    31.979167       1.000000"
      ]
     },
     "execution_count": 14,
     "metadata": {},
     "output_type": "execute_result"
    }
   ],
   "source": [
    "df_all_all['summer/winter'] = sIdx\n",
    "df_all_all.describe()"
   ]
  },
  {
   "cell_type": "code",
   "execution_count": 15,
   "id": "0baea80b",
   "metadata": {
    "tags": []
   },
   "outputs": [
    {
     "data": {
      "text/html": [
       "<div>\n",
       "<style scoped>\n",
       "    .dataframe tbody tr th:only-of-type {\n",
       "        vertical-align: middle;\n",
       "    }\n",
       "\n",
       "    .dataframe tbody tr th {\n",
       "        vertical-align: top;\n",
       "    }\n",
       "\n",
       "    .dataframe thead th {\n",
       "        text-align: right;\n",
       "    }\n",
       "</style>\n",
       "<table border=\"1\" class=\"dataframe\">\n",
       "  <thead>\n",
       "    <tr style=\"text-align: right;\">\n",
       "      <th></th>\n",
       "      <th>NO2</th>\n",
       "      <th>O3</th>\n",
       "      <th>PM25</th>\n",
       "      <th>summer/winter</th>\n",
       "    </tr>\n",
       "  </thead>\n",
       "  <tbody>\n",
       "    <tr>\n",
       "      <th>count</th>\n",
       "      <td>728.000000</td>\n",
       "      <td>728.000000</td>\n",
       "      <td>728.000000</td>\n",
       "      <td>728.000000</td>\n",
       "    </tr>\n",
       "    <tr>\n",
       "      <th>mean</th>\n",
       "      <td>14.480153</td>\n",
       "      <td>0.026001</td>\n",
       "      <td>11.432142</td>\n",
       "      <td>0.505495</td>\n",
       "    </tr>\n",
       "    <tr>\n",
       "      <th>std</th>\n",
       "      <td>6.569484</td>\n",
       "      <td>0.007628</td>\n",
       "      <td>4.724513</td>\n",
       "      <td>0.500314</td>\n",
       "    </tr>\n",
       "    <tr>\n",
       "      <th>min</th>\n",
       "      <td>3.791667</td>\n",
       "      <td>0.008333</td>\n",
       "      <td>3.250000</td>\n",
       "      <td>0.000000</td>\n",
       "    </tr>\n",
       "    <tr>\n",
       "      <th>25%</th>\n",
       "      <td>9.615625</td>\n",
       "      <td>0.022667</td>\n",
       "      <td>8.100000</td>\n",
       "      <td>0.000000</td>\n",
       "    </tr>\n",
       "    <tr>\n",
       "      <th>50%</th>\n",
       "      <td>13.147917</td>\n",
       "      <td>0.026687</td>\n",
       "      <td>10.722917</td>\n",
       "      <td>1.000000</td>\n",
       "    </tr>\n",
       "    <tr>\n",
       "      <th>75%</th>\n",
       "      <td>17.832292</td>\n",
       "      <td>0.031875</td>\n",
       "      <td>13.887500</td>\n",
       "      <td>1.000000</td>\n",
       "    </tr>\n",
       "    <tr>\n",
       "      <th>max</th>\n",
       "      <td>33.466667</td>\n",
       "      <td>0.042917</td>\n",
       "      <td>31.979167</td>\n",
       "      <td>1.000000</td>\n",
       "    </tr>\n",
       "  </tbody>\n",
       "</table>\n",
       "</div>"
      ],
      "text/plain": [
       "              NO2          O3        PM25  summer/winter\n",
       "count  728.000000  728.000000  728.000000     728.000000\n",
       "mean    14.480153    0.026001   11.432142       0.505495\n",
       "std      6.569484    0.007628    4.724513       0.500314\n",
       "min      3.791667    0.008333    3.250000       0.000000\n",
       "25%      9.615625    0.022667    8.100000       0.000000\n",
       "50%     13.147917    0.026687   10.722917       1.000000\n",
       "75%     17.832292    0.031875   13.887500       1.000000\n",
       "max     33.466667    0.042917   31.979167       1.000000"
      ]
     },
     "execution_count": 15,
     "metadata": {},
     "output_type": "execute_result"
    }
   ],
   "source": [
    "df_all_all = df_all_all[df_all_all['summer/winter'] > -1]\n",
    "df_all_all.describe()"
   ]
  },
  {
   "cell_type": "code",
   "execution_count": 16,
   "id": "c1b93631-4225-4707-8b14-2135f575dee1",
   "metadata": {},
   "outputs": [],
   "source": [
    "# Make them arrays by uisng np.array\n",
    "xVal = df_all_all[['NO2','O3','PM25']].to_numpy()\n",
    "yVal = np.array(df_all_all['summer/winter'])\n"
   ]
  },
  {
   "cell_type": "code",
   "execution_count": null,
   "id": "9a607c41-101d-4649-b724-141587bc26b1",
   "metadata": {
    "tags": []
   },
   "outputs": [],
   "source": []
  },
  {
   "cell_type": "code",
   "execution_count": 17,
   "id": "f53e5031-000c-45fe-b0de-99910d7e287f",
   "metadata": {
    "tags": []
   },
   "outputs": [],
   "source": [
    "from sklearn.model_selection import train_test_split\n",
    "X_train_temp, X_temp, y_train_temp, y_temp = train_test_split(xVal, yVal, test_size=0.2)\n",
    "X_val, X_test, y_val, y_test = train_test_split(X_temp, y_temp, test_size=0.5)"
   ]
  },
  {
   "cell_type": "code",
   "execution_count": 18,
   "id": "158adb6d-5193-43f1-9f74-bb589cea5d18",
   "metadata": {
    "tags": []
   },
   "outputs": [],
   "source": [
    "# Mean squared error \n",
    "from sklearn.metrics import mean_squared_error"
   ]
  },
  {
   "cell_type": "markdown",
   "id": "e6b9bae0-ab54-46d0-88ca-11322e0c15c6",
   "metadata": {},
   "source": [
    "# Logistic regression"
   ]
  },
  {
   "cell_type": "markdown",
   "id": "47398261-422a-44d3-9987-7b960ed1b551",
   "metadata": {},
   "source": [
    "## Training set"
   ]
  },
  {
   "cell_type": "code",
   "execution_count": 19,
   "id": "25a86e70-767f-4c75-a0c0-1361981d9fae",
   "metadata": {},
   "outputs": [
    {
     "data": {
      "text/plain": [
       "0.7577319587628866"
      ]
     },
     "execution_count": 19,
     "metadata": {},
     "output_type": "execute_result"
    }
   ],
   "source": [
    "clf = LogisticRegression().fit(X_train_temp, y_train_temp)\n",
    "clf.predict(X_train_temp)\n",
    "clf.predict_proba(X_train_temp)\n",
    "clf.score(X_train_temp, y_train_temp) #score for training set"
   ]
  },
  {
   "cell_type": "code",
   "execution_count": 20,
   "id": "e976393b-657e-47ab-9f49-0e8df879d9ba",
   "metadata": {
    "tags": []
   },
   "outputs": [
    {
     "name": "stdout",
     "output_type": "stream",
     "text": [
      "[0.11958763 0.         0.16254296]\n",
      "[0.01454303 0.         0.01795841]\n"
     ]
    }
   ],
   "source": [
    "clf = LogisticRegression().fit(X_train_temp, y_train_temp)\n",
    "result1 = permutation_importance(clf, X_train_temp, y_train_temp, n_repeats = 10, random_state = 0)\n",
    "print (result1.importances_mean)\n",
    "print (result1.importances_std)"
   ]
  },
  {
   "cell_type": "code",
   "execution_count": 21,
   "id": "e89f8953-9733-485f-b651-5a709ba35129",
   "metadata": {
    "tags": []
   },
   "outputs": [
    {
     "data": {
      "image/png": "[encoded data removed]",
      "text/plain": [
       "<Figure size 640x480 with 1 Axes>"
      ]
     },
     "metadata": {},
     "output_type": "display_data"
    }
   ],
   "source": [
    "feature_names = ['NO2', 'O3','PM2.5']\n",
    "clf_imp = pd.Series(result1.importances_mean, index = feature_names)\n",
    "fig, ax = plt.subplots()\n",
    "clf_imp.plot.bar(yerr=result1.importances_std, ax = ax)\n",
    "ax.set_ylabel(\"Mean accuracy decrease\")\n",
    "fig.tight_layout()\n",
    "plt.show()"
   ]
  },
  {
   "cell_type": "markdown",
   "id": "423d84a4-bd62-4634-bca2-9829442620b7",
   "metadata": {},
   "source": [
    "What are the most important variables for the prediction tasks we’ve done in class thus far?\n",
    "- The most important variables for the prediction tasks are NO2 and PM2.5."
   ]
  },
  {
   "cell_type": "code",
   "execution_count": 22,
   "id": "41833f85-10ba-4231-8613-a27f89e8e1fb",
   "metadata": {
    "tags": []
   },
   "outputs": [
    {
     "data": {
      "text/html": [
       "<div>\n",
       "<style scoped>\n",
       "    .dataframe tbody tr th:only-of-type {\n",
       "        vertical-align: middle;\n",
       "    }\n",
       "\n",
       "    .dataframe tbody tr th {\n",
       "        vertical-align: top;\n",
       "    }\n",
       "\n",
       "    .dataframe thead th {\n",
       "        text-align: right;\n",
       "    }\n",
       "</style>\n",
       "<table border=\"1\" class=\"dataframe\">\n",
       "  <thead>\n",
       "    <tr style=\"text-align: right;\">\n",
       "      <th></th>\n",
       "      <th>YY</th>\n",
       "      <th>MM</th>\n",
       "      <th>DD</th>\n",
       "      <th>hh</th>\n",
       "      <th>mm</th>\n",
       "      <th>WDIR</th>\n",
       "      <th>WSPD</th>\n",
       "      <th>GST</th>\n",
       "      <th>WVHT</th>\n",
       "      <th>DPD</th>\n",
       "      <th>APD</th>\n",
       "      <th>MWD</th>\n",
       "      <th>PRES</th>\n",
       "      <th>ATMP</th>\n",
       "      <th>WTMP</th>\n",
       "      <th>DEWP</th>\n",
       "      <th>VIS</th>\n",
       "      <th>TIDE</th>\n",
       "    </tr>\n",
       "  </thead>\n",
       "  <tbody>\n",
       "    <tr>\n",
       "      <th>0</th>\n",
       "      <td>2023</td>\n",
       "      <td>1</td>\n",
       "      <td>1</td>\n",
       "      <td>0</td>\n",
       "      <td>26</td>\n",
       "      <td>999</td>\n",
       "      <td>99.0</td>\n",
       "      <td>99.0</td>\n",
       "      <td>1.12</td>\n",
       "      <td>12.50</td>\n",
       "      <td>7.69</td>\n",
       "      <td>269</td>\n",
       "      <td>9999.0</td>\n",
       "      <td>999.0</td>\n",
       "      <td>15.3</td>\n",
       "      <td>999.0</td>\n",
       "      <td>99.0</td>\n",
       "      <td>99.0</td>\n",
       "    </tr>\n",
       "    <tr>\n",
       "      <th>1</th>\n",
       "      <td>2023</td>\n",
       "      <td>1</td>\n",
       "      <td>1</td>\n",
       "      <td>0</td>\n",
       "      <td>56</td>\n",
       "      <td>999</td>\n",
       "      <td>99.0</td>\n",
       "      <td>99.0</td>\n",
       "      <td>1.16</td>\n",
       "      <td>11.76</td>\n",
       "      <td>7.34</td>\n",
       "      <td>272</td>\n",
       "      <td>9999.0</td>\n",
       "      <td>999.0</td>\n",
       "      <td>15.3</td>\n",
       "      <td>999.0</td>\n",
       "      <td>99.0</td>\n",
       "      <td>99.0</td>\n",
       "    </tr>\n",
       "    <tr>\n",
       "      <th>2</th>\n",
       "      <td>2023</td>\n",
       "      <td>1</td>\n",
       "      <td>1</td>\n",
       "      <td>1</td>\n",
       "      <td>26</td>\n",
       "      <td>999</td>\n",
       "      <td>99.0</td>\n",
       "      <td>99.0</td>\n",
       "      <td>1.20</td>\n",
       "      <td>12.50</td>\n",
       "      <td>7.08</td>\n",
       "      <td>268</td>\n",
       "      <td>9999.0</td>\n",
       "      <td>999.0</td>\n",
       "      <td>15.3</td>\n",
       "      <td>999.0</td>\n",
       "      <td>99.0</td>\n",
       "      <td>99.0</td>\n",
       "    </tr>\n",
       "    <tr>\n",
       "      <th>3</th>\n",
       "      <td>2023</td>\n",
       "      <td>1</td>\n",
       "      <td>1</td>\n",
       "      <td>1</td>\n",
       "      <td>56</td>\n",
       "      <td>999</td>\n",
       "      <td>99.0</td>\n",
       "      <td>99.0</td>\n",
       "      <td>1.25</td>\n",
       "      <td>10.53</td>\n",
       "      <td>7.33</td>\n",
       "      <td>268</td>\n",
       "      <td>9999.0</td>\n",
       "      <td>999.0</td>\n",
       "      <td>15.4</td>\n",
       "      <td>999.0</td>\n",
       "      <td>99.0</td>\n",
       "      <td>99.0</td>\n",
       "    </tr>\n",
       "    <tr>\n",
       "      <th>4</th>\n",
       "      <td>2023</td>\n",
       "      <td>1</td>\n",
       "      <td>1</td>\n",
       "      <td>2</td>\n",
       "      <td>26</td>\n",
       "      <td>999</td>\n",
       "      <td>99.0</td>\n",
       "      <td>99.0</td>\n",
       "      <td>1.27</td>\n",
       "      <td>10.53</td>\n",
       "      <td>7.57</td>\n",
       "      <td>268</td>\n",
       "      <td>9999.0</td>\n",
       "      <td>999.0</td>\n",
       "      <td>15.5</td>\n",
       "      <td>999.0</td>\n",
       "      <td>99.0</td>\n",
       "      <td>99.0</td>\n",
       "    </tr>\n",
       "  </tbody>\n",
       "</table>\n",
       "</div>"
      ],
      "text/plain": [
       "     YY  MM  DD  hh  mm  WDIR  WSPD   GST  WVHT    DPD   APD  MWD    PRES  \\\n",
       "0  2023   1   1   0  26   999  99.0  99.0  1.12  12.50  7.69  269  9999.0   \n",
       "1  2023   1   1   0  56   999  99.0  99.0  1.16  11.76  7.34  272  9999.0   \n",
       "2  2023   1   1   1  26   999  99.0  99.0  1.20  12.50  7.08  268  9999.0   \n",
       "3  2023   1   1   1  56   999  99.0  99.0  1.25  10.53  7.33  268  9999.0   \n",
       "4  2023   1   1   2  26   999  99.0  99.0  1.27  10.53  7.57  268  9999.0   \n",
       "\n",
       "    ATMP  WTMP   DEWP   VIS  TIDE  \n",
       "0  999.0  15.3  999.0  99.0  99.0  \n",
       "1  999.0  15.3  999.0  99.0  99.0  \n",
       "2  999.0  15.3  999.0  99.0  99.0  \n",
       "3  999.0  15.4  999.0  99.0  99.0  \n",
       "4  999.0  15.5  999.0  99.0  99.0  "
      ]
     },
     "execution_count": 22,
     "metadata": {},
     "output_type": "execute_result"
    }
   ],
   "source": [
    "fileName = \"xid-92685698_2.txt\" \n",
    "df = pd.read_csv(fileName, delim_whitespace=True) \n",
    "df.head()"
   ]
  },
  {
   "cell_type": "code",
   "execution_count": 23,
   "id": "ce649290-e2a7-4f1f-899a-529ff59512d4",
   "metadata": {
    "tags": []
   },
   "outputs": [
    {
     "data": {
      "text/html": [
       "<div>\n",
       "<style scoped>\n",
       "    .dataframe tbody tr th:only-of-type {\n",
       "        vertical-align: middle;\n",
       "    }\n",
       "\n",
       "    .dataframe tbody tr th {\n",
       "        vertical-align: top;\n",
       "    }\n",
       "\n",
       "    .dataframe thead th {\n",
       "        text-align: right;\n",
       "    }\n",
       "</style>\n",
       "<table border=\"1\" class=\"dataframe\">\n",
       "  <thead>\n",
       "    <tr style=\"text-align: right;\">\n",
       "      <th></th>\n",
       "      <th>DPD</th>\n",
       "      <th>APD</th>\n",
       "      <th>MWD</th>\n",
       "      <th>WTMP</th>\n",
       "      <th>WVHT</th>\n",
       "    </tr>\n",
       "  </thead>\n",
       "  <tbody>\n",
       "    <tr>\n",
       "      <th>0</th>\n",
       "      <td>12.50</td>\n",
       "      <td>7.69</td>\n",
       "      <td>269</td>\n",
       "      <td>15.3</td>\n",
       "      <td>1.12</td>\n",
       "    </tr>\n",
       "    <tr>\n",
       "      <th>1</th>\n",
       "      <td>11.76</td>\n",
       "      <td>7.34</td>\n",
       "      <td>272</td>\n",
       "      <td>15.3</td>\n",
       "      <td>1.16</td>\n",
       "    </tr>\n",
       "    <tr>\n",
       "      <th>2</th>\n",
       "      <td>12.50</td>\n",
       "      <td>7.08</td>\n",
       "      <td>268</td>\n",
       "      <td>15.3</td>\n",
       "      <td>1.20</td>\n",
       "    </tr>\n",
       "    <tr>\n",
       "      <th>3</th>\n",
       "      <td>10.53</td>\n",
       "      <td>7.33</td>\n",
       "      <td>268</td>\n",
       "      <td>15.4</td>\n",
       "      <td>1.25</td>\n",
       "    </tr>\n",
       "    <tr>\n",
       "      <th>4</th>\n",
       "      <td>10.53</td>\n",
       "      <td>7.57</td>\n",
       "      <td>268</td>\n",
       "      <td>15.5</td>\n",
       "      <td>1.27</td>\n",
       "    </tr>\n",
       "  </tbody>\n",
       "</table>\n",
       "</div>"
      ],
      "text/plain": [
       "     DPD   APD  MWD  WTMP  WVHT\n",
       "0  12.50  7.69  269  15.3  1.12\n",
       "1  11.76  7.34  272  15.3  1.16\n",
       "2  12.50  7.08  268  15.3  1.20\n",
       "3  10.53  7.33  268  15.4  1.25\n",
       "4  10.53  7.57  268  15.5  1.27"
      ]
     },
     "execution_count": 23,
     "metadata": {},
     "output_type": "execute_result"
    }
   ],
   "source": [
    "df_w = df[[\"DPD\",\"APD\",\"MWD\",\"WTMP\",\"WVHT\"]]\n",
    "df_w.head()"
   ]
  },
  {
   "cell_type": "code",
   "execution_count": 24,
   "id": "1272e807-6e09-4b4f-aa3d-585e50eabdbe",
   "metadata": {
    "tags": []
   },
   "outputs": [],
   "source": [
    "xVal = df_w[['DPD','APD','WTMP','MWD']].to_numpy()\n",
    "yVal = np.array(df_w['WVHT'])"
   ]
  },
  {
   "cell_type": "code",
   "execution_count": 25,
   "id": "bc3b52d3-eb10-46b7-ba1e-131b07aac418",
   "metadata": {
    "tags": []
   },
   "outputs": [],
   "source": [
    "feature_names = ['DPD','APD','WTMP','MWD']"
   ]
  },
  {
   "cell_type": "code",
   "execution_count": 26,
   "id": "a060d57a-0d60-4b0b-80af-73811f2d6119",
   "metadata": {
    "tags": []
   },
   "outputs": [],
   "source": [
    "from sklearn.model_selection import train_test_split\n",
    "X_train_temp, X_temp, y_train_temp, y_temp = train_test_split(xVal, yVal, test_size=0.2)\n",
    "X_val, X_test, y_val, y_test = train_test_split(X_temp, y_temp, test_size=0.5)"
   ]
  },
  {
   "cell_type": "markdown",
   "id": "e6526878-d6c3-4ce5-a862-280adef31f65",
   "metadata": {},
   "source": [
    "# Baseline Model"
   ]
  },
  {
   "cell_type": "code",
   "execution_count": 27,
   "id": "6ed27ae0-9df7-4412-9027-5377f808073a",
   "metadata": {
    "tags": []
   },
   "outputs": [
    {
     "name": "stdout",
     "output_type": "stream",
     "text": [
      "1.5626723316731723\n",
      "4.146368168646549\n",
      "1.979677453400595\n"
     ]
    }
   ],
   "source": [
    "lm= linear_model.LinearRegression()\n",
    "lm.fit(X_train_temp,y_train_temp)\n",
    "lm_y1 = lm.predict(X_train_temp)\n",
    "lm_y2 = lm.predict(X_test)\n",
    "lm_y3 = lm.predict(X_val)\n",
    "lm_err = mean_squared_error(lm_y1,y_train_temp)\n",
    "print(mean_squared_error(lm_y1,y_train_temp))\n",
    "print(mean_squared_error(lm_y2,y_test))\n",
    "print(mean_squared_error(lm_y3,y_val))\n",
    "#print(lm.score(X_train_temp, y_train_temp))"
   ]
  },
  {
   "cell_type": "code",
   "execution_count": 28,
   "id": "5062f495-f10e-4f2f-9e9c-920855470998",
   "metadata": {
    "tags": []
   },
   "outputs": [
    {
     "data": {
      "image/png": "[encoded data removed]",
      "text/plain": [
       "<Figure size 640x480 with 1 Axes>"
      ]
     },
     "metadata": {},
     "output_type": "display_data"
    },
    {
     "name": "stdout",
     "output_type": "stream",
     "text": [
      "[0.01377113 0.79123115 0.01002313 0.10811281]\n"
     ]
    }
   ],
   "source": [
    "result1 = permutation_importance(lm, X_train_temp, y_train_temp, n_repeats = 10, random_state = 0)\n",
    "lm_imp = pd.Series(result1.importances_mean, index = feature_names)\n",
    "fig, ax = plt.subplots()\n",
    "lm_imp.plot.bar(yerr=result1.importances_std, ax = ax)\n",
    "ax.set_ylabel(\"Mean accuracy decrease\")\n",
    "fig.tight_layout()\n",
    "plt.show()\n",
    "print (result1.importances_mean)"
   ]
  },
  {
   "cell_type": "markdown",
   "id": "c50b47f3-e121-46c0-9611-d4dd0254d376",
   "metadata": {
    "tags": []
   },
   "source": [
    "# XGBoost regressor"
   ]
  },
  {
   "cell_type": "code",
   "execution_count": 29,
   "id": "e394a1c7-a4b5-47c1-93c6-def839cea950",
   "metadata": {
    "tags": []
   },
   "outputs": [],
   "source": [
    "import xgboost as xgb"
   ]
  },
  {
   "cell_type": "code",
   "execution_count": 30,
   "id": "23c7cb40-aee4-4592-a421-83f0a346e786",
   "metadata": {
    "tags": []
   },
   "outputs": [
    {
     "name": "stdout",
     "output_type": "stream",
     "text": [
      "0.1525396948196165 mse for training set | score:  0.9593009597326154\n",
      "0.17677520779997866 mse for validation set | score:  0.9696258348191967\n",
      "0.3196998673241686 mse for testing set | score:  0.9810780485008812\n"
     ]
    }
   ],
   "source": [
    "xgbr = xgb.XGBRegressor(n_estimators = 25, learning_rate = 0.1)\n",
    "xgbr.fit(X_train_temp, y_train_temp)\n",
    "ytpred = xgbr.predict(X_train_temp)\n",
    "yvpred = xgbr.predict(X_val)\n",
    "ytepred = xgbr.predict(X_test)\n",
    "score1 = xgbr.score(X_train_temp, y_train_temp)\n",
    "score2 = xgbr.score(X_val,y_val)\n",
    "score3 = xgbr.score(X_test, y_test)\n",
    "print(mean_squared_error(y_train_temp, ytpred), \"mse for training set | score: \", score1)\n",
    "print(mean_squared_error(y_val, yvpred), \"mse for validation set | score: \", score2)\n",
    "print(mean_squared_error(y_test, ytepred), \"mse for testing set | score: \", score3)"
   ]
  },
  {
   "cell_type": "code",
   "execution_count": 31,
   "id": "113d14ec-41e7-4d27-ac6b-fd06a539621f",
   "metadata": {
    "tags": []
   },
   "outputs": [
    {
     "data": {
      "image/png": "[encoded data removed]",
      "text/plain": [
       "<Figure size 640x480 with 1 Axes>"
      ]
     },
     "metadata": {},
     "output_type": "display_data"
    },
    {
     "name": "stdout",
     "output_type": "stream",
     "text": [
      "[1.6266068  0.03244276 0.02123906 0.02578388]\n"
     ]
    }
   ],
   "source": [
    "result1 = permutation_importance(xgbr, X_train_temp, y_train_temp, n_repeats = 10, random_state = 0)\n",
    "lm_imp = pd.Series(result1.importances_mean, index = feature_names)\n",
    "fig, ax = plt.subplots()\n",
    "lm_imp.plot.bar(yerr=result1.importances_std, ax = ax)\n",
    "ax.set_ylabel(\"Mean accuracy decrease\")\n",
    "fig.tight_layout()\n",
    "plt.show()\n",
    "print (result1.importances_mean)"
   ]
  },
  {
   "cell_type": "code",
   "execution_count": 32,
   "id": "43786d92-1c6d-477d-a035-28b0b22762ab",
   "metadata": {
    "tags": []
   },
   "outputs": [
    {
     "name": "stdout",
     "output_type": "stream",
     "text": [
      "0.03733042880312731 mse for training set | score:  0.9900398868186157\n",
      "0.07744396277684089 mse for validation set | score:  0.9866932940036401\n",
      "0.08365713934334774 mse for testing set | score:  0.9950486174847086\n"
     ]
    }
   ],
   "source": [
    "xgbr1 = xgb.XGBRegressor(n_estimators = 25, learning_rate = 0.3, max_depth = 10)\n",
    "xgbr1.fit(X_train_temp, y_train_temp)\n",
    "ytpred = xgbr1.predict(X_train_temp)\n",
    "yvpred = xgbr1.predict(X_val)\n",
    "ytepred = xgbr1.predict(X_test)\n",
    "score1 = xgbr1.score(X_train_temp, y_train_temp)\n",
    "score2 = xgbr1.score(X_val,y_val)\n",
    "score3 = xgbr1.score(X_test, y_test)\n",
    "print(mean_squared_error(y_train_temp, ytpred), \"mse for training set | score: \", score1)\n",
    "print(mean_squared_error(y_val, yvpred), \"mse for validation set | score: \", score2)\n",
    "print(mean_squared_error(y_test, ytepred), \"mse for testing set | score: \", score3)"
   ]
  },
  {
   "cell_type": "code",
   "execution_count": 33,
   "id": "85e54689-1397-41c7-ad5a-03d8829649d4",
   "metadata": {
    "tags": []
   },
   "outputs": [
    {
     "data": {
      "image/png": "[encoded data removed]",
      "text/plain": [
       "<Figure size 640x480 with 1 Axes>"
      ]
     },
     "metadata": {},
     "output_type": "display_data"
    },
    {
     "name": "stdout",
     "output_type": "stream",
     "text": [
      "[1.84958836 0.05426197 0.04417248 0.04601377]\n"
     ]
    }
   ],
   "source": [
    "result1 = permutation_importance(xgbr1, X_train_temp, y_train_temp, n_repeats = 10, random_state = 0)\n",
    "lm_imp = pd.Series(result1.importances_mean, index = feature_names)\n",
    "fig, ax = plt.subplots()\n",
    "lm_imp.plot.bar(yerr=result1.importances_std, ax = ax)\n",
    "ax.set_ylabel(\"Mean accuracy decrease\")\n",
    "fig.tight_layout()\n",
    "plt.show()\n",
    "print (result1.importances_mean)"
   ]
  },
  {
   "cell_type": "markdown",
   "id": "3502e05e-de84-423b-ad18-4b05ae0e80ee",
   "metadata": {},
   "source": [
    "# Decision Tree regressor"
   ]
  },
  {
   "cell_type": "code",
   "execution_count": 34,
   "id": "a295cdb8-ace7-4edc-9bfb-9e21ae29428a",
   "metadata": {
    "tags": []
   },
   "outputs": [
    {
     "name": "stdout",
     "output_type": "stream",
     "text": [
      "3.418064796065952e-05 | score -  0.9999908802782819\n"
     ]
    }
   ],
   "source": [
    "dtr = DecisionTreeRegressor(criterion = 'squared_error')\n",
    "dtr.fit(X_train_temp, y_train_temp)\n",
    "ypred = dtr.predict(X_train_temp)\n",
    "score = dtr.score(X_train_temp,y_train_temp)\n",
    "\n",
    "print(mean_squared_error(y_train_temp,ypred), \"| score - \", score)"
   ]
  },
  {
   "cell_type": "code",
   "execution_count": 35,
   "id": "39509ae5-3d09-426e-8126-0d72cc22a14f",
   "metadata": {
    "tags": []
   },
   "outputs": [
    {
     "name": "stdout",
     "output_type": "stream",
     "text": [
      "[0.06602516 1.94406576 0.07502548 0.07737856]\n",
      "[0.00085493 0.00421963 0.0006623  0.00107885]\n"
     ]
    }
   ],
   "source": [
    "dtr = DecisionTreeRegressor().fit(X_train_temp, y_train_temp)\n",
    "result1 = permutation_importance(dtr, X_train_temp, y_train_temp, n_repeats = 10, random_state = 0)\n",
    "print (result1.importances_mean)\n",
    "print (result1.importances_std)"
   ]
  },
  {
   "cell_type": "code",
   "execution_count": 36,
   "id": "61bf7e58-d2fc-469a-8bb9-95efb7bdf1e6",
   "metadata": {
    "tags": []
   },
   "outputs": [
    {
     "data": {
      "image/png": "[encoded data removed]",
      "text/plain": [
       "<Figure size 640x480 with 1 Axes>"
      ]
     },
     "metadata": {},
     "output_type": "display_data"
    }
   ],
   "source": [
    "dtr_imp = pd.Series(result1.importances_mean, index = feature_names)\n",
    "fig, ax = plt.subplots()\n",
    "dtr_imp.plot.bar(yerr=result1.importances_std, ax = ax)\n",
    "ax.set_ylabel(\"Mean accuracy decrease\")\n",
    "fig.tight_layout()\n",
    "plt.show()"
   ]
  },
  {
   "cell_type": "markdown",
   "id": "c2059ed0-4ce9-4969-977b-6dd18a0b011b",
   "metadata": {},
   "source": [
    "What are the most important variables for the prediction tasks we’ve done in class thus far?\n",
    "- After running the data with various models it shows that APD or average period and DPD or dominant wave period to be most important variables.\n"
   ]
  },
  {
   "cell_type": "markdown",
   "id": "553cb9c8-c29e-4251-9864-6acb84bad71e",
   "metadata": {},
   "source": [
    "Are they the same or different for different models?\n",
    "- They are not same for different models. For the baseline model and the decision tree model, the variables with maximum importance are same i.e. Average period, but for the boosted regreesion tree model, the important variable is different (Dominant wave period)."
   ]
  }
 ],
 "metadata": {
  "kernelspec": {
   "display_name": "pyleo",
   "language": "python",
   "name": "pyleo"
  },
  "language_info": {
   "codemirror_mode": {
    "name": "ipython",
    "version": 3
   },
   "file_extension": ".py",
   "mimetype": "text/x-python",
   "name": "python",
   "nbconvert_exporter": "python",
   "pygments_lexer": "ipython3",
   "version": "3.10.13"
  }
 },
 "nbformat": 4,
 "nbformat_minor": 5
}
