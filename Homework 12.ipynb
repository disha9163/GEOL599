{
 "cells": [
  {
   "cell_type": "code",
   "execution_count": 1,
   "id": "069ba064-9408-4025-8056-ba0cdd8ca7fe",
   "metadata": {
    "tags": []
   },
   "outputs": [],
   "source": [
    "import numpy as np\n",
    "import pandas as pd\n",
    "from sklearn.decomposition import PCA\n",
    "from matplotlib import pyplot as plt"
   ]
  },
  {
   "cell_type": "code",
   "execution_count": 2,
   "id": "c4bef36f-6b69-4e01-89d7-71e7a69938b4",
   "metadata": {
    "tags": []
   },
   "outputs": [
    {
     "data": {
      "text/html": [
       "<div>\n",
       "<style scoped>\n",
       "    .dataframe tbody tr th:only-of-type {\n",
       "        vertical-align: middle;\n",
       "    }\n",
       "\n",
       "    .dataframe tbody tr th {\n",
       "        vertical-align: top;\n",
       "    }\n",
       "\n",
       "    .dataframe thead th {\n",
       "        text-align: right;\n",
       "    }\n",
       "</style>\n",
       "<table border=\"1\" class=\"dataframe\">\n",
       "  <thead>\n",
       "    <tr style=\"text-align: right;\">\n",
       "      <th></th>\n",
       "      <th>YY</th>\n",
       "      <th>MM</th>\n",
       "      <th>DD</th>\n",
       "      <th>hh</th>\n",
       "      <th>mm</th>\n",
       "      <th>WDIR</th>\n",
       "      <th>WSPD</th>\n",
       "      <th>GST</th>\n",
       "      <th>WVHT</th>\n",
       "      <th>DPD</th>\n",
       "      <th>APD</th>\n",
       "      <th>MWD</th>\n",
       "      <th>PRES</th>\n",
       "      <th>ATMP</th>\n",
       "      <th>WTMP</th>\n",
       "      <th>DEWP</th>\n",
       "      <th>VIS</th>\n",
       "      <th>TIDE</th>\n",
       "    </tr>\n",
       "  </thead>\n",
       "  <tbody>\n",
       "    <tr>\n",
       "      <th>0</th>\n",
       "      <td>2023</td>\n",
       "      <td>1</td>\n",
       "      <td>1</td>\n",
       "      <td>0</td>\n",
       "      <td>26</td>\n",
       "      <td>999</td>\n",
       "      <td>99.0</td>\n",
       "      <td>99.0</td>\n",
       "      <td>1.12</td>\n",
       "      <td>12.50</td>\n",
       "      <td>7.69</td>\n",
       "      <td>269</td>\n",
       "      <td>9999.0</td>\n",
       "      <td>999.0</td>\n",
       "      <td>15.3</td>\n",
       "      <td>999.0</td>\n",
       "      <td>99.0</td>\n",
       "      <td>99.0</td>\n",
       "    </tr>\n",
       "    <tr>\n",
       "      <th>1</th>\n",
       "      <td>2023</td>\n",
       "      <td>1</td>\n",
       "      <td>1</td>\n",
       "      <td>0</td>\n",
       "      <td>56</td>\n",
       "      <td>999</td>\n",
       "      <td>99.0</td>\n",
       "      <td>99.0</td>\n",
       "      <td>1.16</td>\n",
       "      <td>11.76</td>\n",
       "      <td>7.34</td>\n",
       "      <td>272</td>\n",
       "      <td>9999.0</td>\n",
       "      <td>999.0</td>\n",
       "      <td>15.3</td>\n",
       "      <td>999.0</td>\n",
       "      <td>99.0</td>\n",
       "      <td>99.0</td>\n",
       "    </tr>\n",
       "    <tr>\n",
       "      <th>2</th>\n",
       "      <td>2023</td>\n",
       "      <td>1</td>\n",
       "      <td>1</td>\n",
       "      <td>1</td>\n",
       "      <td>26</td>\n",
       "      <td>999</td>\n",
       "      <td>99.0</td>\n",
       "      <td>99.0</td>\n",
       "      <td>1.20</td>\n",
       "      <td>12.50</td>\n",
       "      <td>7.08</td>\n",
       "      <td>268</td>\n",
       "      <td>9999.0</td>\n",
       "      <td>999.0</td>\n",
       "      <td>15.3</td>\n",
       "      <td>999.0</td>\n",
       "      <td>99.0</td>\n",
       "      <td>99.0</td>\n",
       "    </tr>\n",
       "    <tr>\n",
       "      <th>3</th>\n",
       "      <td>2023</td>\n",
       "      <td>1</td>\n",
       "      <td>1</td>\n",
       "      <td>1</td>\n",
       "      <td>56</td>\n",
       "      <td>999</td>\n",
       "      <td>99.0</td>\n",
       "      <td>99.0</td>\n",
       "      <td>1.25</td>\n",
       "      <td>10.53</td>\n",
       "      <td>7.33</td>\n",
       "      <td>268</td>\n",
       "      <td>9999.0</td>\n",
       "      <td>999.0</td>\n",
       "      <td>15.4</td>\n",
       "      <td>999.0</td>\n",
       "      <td>99.0</td>\n",
       "      <td>99.0</td>\n",
       "    </tr>\n",
       "    <tr>\n",
       "      <th>4</th>\n",
       "      <td>2023</td>\n",
       "      <td>1</td>\n",
       "      <td>1</td>\n",
       "      <td>2</td>\n",
       "      <td>26</td>\n",
       "      <td>999</td>\n",
       "      <td>99.0</td>\n",
       "      <td>99.0</td>\n",
       "      <td>1.27</td>\n",
       "      <td>10.53</td>\n",
       "      <td>7.57</td>\n",
       "      <td>268</td>\n",
       "      <td>9999.0</td>\n",
       "      <td>999.0</td>\n",
       "      <td>15.5</td>\n",
       "      <td>999.0</td>\n",
       "      <td>99.0</td>\n",
       "      <td>99.0</td>\n",
       "    </tr>\n",
       "  </tbody>\n",
       "</table>\n",
       "</div>"
      ],
      "text/plain": [
       "     YY  MM  DD  hh  mm  WDIR  WSPD   GST  WVHT    DPD   APD  MWD    PRES  \\\n",
       "0  2023   1   1   0  26   999  99.0  99.0  1.12  12.50  7.69  269  9999.0   \n",
       "1  2023   1   1   0  56   999  99.0  99.0  1.16  11.76  7.34  272  9999.0   \n",
       "2  2023   1   1   1  26   999  99.0  99.0  1.20  12.50  7.08  268  9999.0   \n",
       "3  2023   1   1   1  56   999  99.0  99.0  1.25  10.53  7.33  268  9999.0   \n",
       "4  2023   1   1   2  26   999  99.0  99.0  1.27  10.53  7.57  268  9999.0   \n",
       "\n",
       "    ATMP  WTMP   DEWP   VIS  TIDE  \n",
       "0  999.0  15.3  999.0  99.0  99.0  \n",
       "1  999.0  15.3  999.0  99.0  99.0  \n",
       "2  999.0  15.3  999.0  99.0  99.0  \n",
       "3  999.0  15.4  999.0  99.0  99.0  \n",
       "4  999.0  15.5  999.0  99.0  99.0  "
      ]
     },
     "execution_count": 2,
     "metadata": {},
     "output_type": "execute_result"
    }
   ],
   "source": [
    "fileName = \"xid-92685698_2.txt\" \n",
    "df = pd.read_csv(fileName, delim_whitespace=True) \n",
    "df.head()"
   ]
  },
  {
   "cell_type": "code",
   "execution_count": 3,
   "id": "9254a8ee-d2ca-46c8-887a-4c36eed7382c",
   "metadata": {
    "tags": []
   },
   "outputs": [
    {
     "data": {
      "text/html": [
       "<div>\n",
       "<style scoped>\n",
       "    .dataframe tbody tr th:only-of-type {\n",
       "        vertical-align: middle;\n",
       "    }\n",
       "\n",
       "    .dataframe tbody tr th {\n",
       "        vertical-align: top;\n",
       "    }\n",
       "\n",
       "    .dataframe thead th {\n",
       "        text-align: right;\n",
       "    }\n",
       "</style>\n",
       "<table border=\"1\" class=\"dataframe\">\n",
       "  <thead>\n",
       "    <tr style=\"text-align: right;\">\n",
       "      <th></th>\n",
       "      <th>DPD</th>\n",
       "      <th>APD</th>\n",
       "      <th>MWD</th>\n",
       "      <th>WTMP</th>\n",
       "      <th>WVHT</th>\n",
       "    </tr>\n",
       "  </thead>\n",
       "  <tbody>\n",
       "    <tr>\n",
       "      <th>0</th>\n",
       "      <td>12.50</td>\n",
       "      <td>7.69</td>\n",
       "      <td>269</td>\n",
       "      <td>15.3</td>\n",
       "      <td>1.12</td>\n",
       "    </tr>\n",
       "    <tr>\n",
       "      <th>1</th>\n",
       "      <td>11.76</td>\n",
       "      <td>7.34</td>\n",
       "      <td>272</td>\n",
       "      <td>15.3</td>\n",
       "      <td>1.16</td>\n",
       "    </tr>\n",
       "    <tr>\n",
       "      <th>2</th>\n",
       "      <td>12.50</td>\n",
       "      <td>7.08</td>\n",
       "      <td>268</td>\n",
       "      <td>15.3</td>\n",
       "      <td>1.20</td>\n",
       "    </tr>\n",
       "    <tr>\n",
       "      <th>3</th>\n",
       "      <td>10.53</td>\n",
       "      <td>7.33</td>\n",
       "      <td>268</td>\n",
       "      <td>15.4</td>\n",
       "      <td>1.25</td>\n",
       "    </tr>\n",
       "    <tr>\n",
       "      <th>4</th>\n",
       "      <td>10.53</td>\n",
       "      <td>7.57</td>\n",
       "      <td>268</td>\n",
       "      <td>15.5</td>\n",
       "      <td>1.27</td>\n",
       "    </tr>\n",
       "  </tbody>\n",
       "</table>\n",
       "</div>"
      ],
      "text/plain": [
       "     DPD   APD  MWD  WTMP  WVHT\n",
       "0  12.50  7.69  269  15.3  1.12\n",
       "1  11.76  7.34  272  15.3  1.16\n",
       "2  12.50  7.08  268  15.3  1.20\n",
       "3  10.53  7.33  268  15.4  1.25\n",
       "4  10.53  7.57  268  15.5  1.27"
      ]
     },
     "execution_count": 3,
     "metadata": {},
     "output_type": "execute_result"
    }
   ],
   "source": [
    "df_w = df[[\"DPD\",\"APD\",\"MWD\",\"WTMP\",\"WVHT\"]]\n",
    "df_w.head()"
   ]
  },
  {
   "cell_type": "code",
   "execution_count": 4,
   "id": "ac49821a-e302-46e4-9376-d0467d0bd6e6",
   "metadata": {
    "tags": []
   },
   "outputs": [],
   "source": [
    "df_w1 = df_w.drop(df_w[df_w['DPD'] == 99.0].index)\n",
    "df_w2 = df_w1.drop(df_w1[df_w1['APD'] == 99.0].index)\n",
    "df_w3 = df_w2.drop(df_w2[df_w2['MWD'] == 999.0].index)\n",
    "df_w4 = df_w3.drop(df_w3[df_w3['WTMP'] == 99.0].index)\n",
    "df_w5 = df_w4.drop(df_w4[df_w4['WVHT'] == 99.0].index)"
   ]
  },
  {
   "cell_type": "code",
   "execution_count": 5,
   "id": "0115fb0b-b2b1-48bd-9e44-6c53da7fb521",
   "metadata": {
    "tags": []
   },
   "outputs": [],
   "source": [
    "pca = PCA(n_components=5)\n",
    "features = pca.fit(df_w5)"
   ]
  },
  {
   "cell_type": "code",
   "execution_count": 6,
   "id": "9cb665f6-d5e9-4566-9927-5c1766517aa3",
   "metadata": {
    "tags": []
   },
   "outputs": [
    {
     "name": "stdout",
     "output_type": "stream",
     "text": [
      "[9.90777521e-01 5.67156404e-03 2.48887556e-03 9.73144741e-04\n",
      " 8.88946139e-05]\n"
     ]
    }
   ],
   "source": [
    "print(pca.explained_variance_ratio_)"
   ]
  },
  {
   "cell_type": "code",
   "execution_count": 7,
   "id": "c0d6a4cc-9ddf-41f9-a9ff-8e21bd3d955c",
   "metadata": {
    "tags": []
   },
   "outputs": [
    {
     "name": "stdout",
     "output_type": "stream",
     "text": [
      "[[0.03483275 0.00632252 0.99911854 0.02217264 0.00414966]\n",
      " [0.92292703 0.35324348 0.02653793 0.14807698 0.02817253]\n",
      " [0.14552072 0.03477188 0.02692689 0.98767311 0.03730158]\n",
      " [0.35382026 0.92602029 0.01817485 0.02485407 0.12786551]\n",
      " [0.02504633 0.12828252 0.00158002 0.03828429 0.99068062]]\n"
     ]
    }
   ],
   "source": [
    "print(np.abs(pca.components_))"
   ]
  },
  {
   "cell_type": "code",
   "execution_count": 8,
   "id": "c2a5060e-0f21-43a4-b3a3-43d72388ae75",
   "metadata": {
    "tags": []
   },
   "outputs": [],
   "source": [
    "plotData = pca.transform(df_w5)\n"
   ]
  },
  {
   "cell_type": "code",
   "execution_count": 9,
   "id": "8991c8ea-6b52-48cd-94e1-8764c5e28bc6",
   "metadata": {
    "tags": []
   },
   "outputs": [
    {
     "data": {
      "text/plain": [
       "Text(0, 0.5, 'PC2')"
      ]
     },
     "execution_count": 9,
     "metadata": {},
     "output_type": "execute_result"
    },
    {
     "data": {
      "image/png": "[encoded data removed]",
      "text/plain": [
       "<Figure size 1000x600 with 1 Axes>"
      ]
     },
     "metadata": {},
     "output_type": "display_data"
    }
   ],
   "source": [
    "plt.figure(figsize=(10,6))\n",
    "plt.scatter(plotData[:,0],plotData[:,1])\n",
    "plt.xlabel('PC1')\n",
    "plt.ylabel('PC2')"
   ]
  },
  {
   "cell_type": "code",
   "execution_count": 10,
   "id": "73932350-828b-499f-b412-b5f77e09ac27",
   "metadata": {
    "tags": []
   },
   "outputs": [
    {
     "data": {
      "text/html": [
       "<div>\n",
       "<style scoped>\n",
       "    .dataframe tbody tr th:only-of-type {\n",
       "        vertical-align: middle;\n",
       "    }\n",
       "\n",
       "    .dataframe tbody tr th {\n",
       "        vertical-align: top;\n",
       "    }\n",
       "\n",
       "    .dataframe thead th {\n",
       "        text-align: right;\n",
       "    }\n",
       "</style>\n",
       "<table border=\"1\" class=\"dataframe\">\n",
       "  <thead>\n",
       "    <tr style=\"text-align: right;\">\n",
       "      <th></th>\n",
       "      <th>DPD</th>\n",
       "      <th>APD</th>\n",
       "      <th>MWD</th>\n",
       "      <th>WTMP</th>\n",
       "      <th>WVHT</th>\n",
       "    </tr>\n",
       "  </thead>\n",
       "  <tbody>\n",
       "    <tr>\n",
       "      <th>0</th>\n",
       "      <td>-34.846205</td>\n",
       "      <td>-1.888302</td>\n",
       "      <td>0.849057</td>\n",
       "      <td>0.051732</td>\n",
       "      <td>-0.150008</td>\n",
       "    </tr>\n",
       "    <tr>\n",
       "      <th>1</th>\n",
       "      <td>-37.867290</td>\n",
       "      <td>-1.162442</td>\n",
       "      <td>0.889624</td>\n",
       "      <td>-0.059958</td>\n",
       "      <td>-0.088756</td>\n",
       "    </tr>\n",
       "  </tbody>\n",
       "</table>\n",
       "</div>"
      ],
      "text/plain": [
       "         DPD       APD       MWD      WTMP      WVHT\n",
       "0 -34.846205 -1.888302  0.849057  0.051732 -0.150008\n",
       "1 -37.867290 -1.162442  0.889624 -0.059958 -0.088756"
      ]
     },
     "execution_count": 10,
     "metadata": {},
     "output_type": "execute_result"
    }
   ],
   "source": [
    "scaled_df =pd.DataFrame(plotData,columns=df_w5.columns)\n",
    "scaled_df.head(2)\n"
   ]
  },
  {
   "cell_type": "code",
   "execution_count": 11,
   "id": "9fdbd955-3600-447e-89ad-3ed6e271a3c4",
   "metadata": {
    "tags": []
   },
   "outputs": [],
   "source": [
    "X=scaled_df.values"
   ]
  },
  {
   "cell_type": "code",
   "execution_count": 12,
   "id": "3bbff785-1b4f-4ef1-90eb-5ad4c1d8bd30",
   "metadata": {
    "tags": []
   },
   "outputs": [
    {
     "name": "stderr",
     "output_type": "stream",
     "text": [
      "/Users/disha/anaconda3/envs/pyleo/lib/python3.10/site-packages/sklearn/cluster/_kmeans.py:1416: FutureWarning: The default value of `n_init` will change from 10 to 'auto' in 1.4. Set the value of `n_init` explicitly to suppress the warning\n",
      "  super()._check_params_vs_input(X, default_n_init=10)\n",
      "/Users/disha/anaconda3/envs/pyleo/lib/python3.10/site-packages/sklearn/cluster/_kmeans.py:1416: FutureWarning: The default value of `n_init` will change from 10 to 'auto' in 1.4. Set the value of `n_init` explicitly to suppress the warning\n",
      "  super()._check_params_vs_input(X, default_n_init=10)\n",
      "/Users/disha/anaconda3/envs/pyleo/lib/python3.10/site-packages/sklearn/cluster/_kmeans.py:1416: FutureWarning: The default value of `n_init` will change from 10 to 'auto' in 1.4. Set the value of `n_init` explicitly to suppress the warning\n",
      "  super()._check_params_vs_input(X, default_n_init=10)\n",
      "/Users/disha/anaconda3/envs/pyleo/lib/python3.10/site-packages/sklearn/cluster/_kmeans.py:1416: FutureWarning: The default value of `n_init` will change from 10 to 'auto' in 1.4. Set the value of `n_init` explicitly to suppress the warning\n",
      "  super()._check_params_vs_input(X, default_n_init=10)\n",
      "/Users/disha/anaconda3/envs/pyleo/lib/python3.10/site-packages/sklearn/cluster/_kmeans.py:1416: FutureWarning: The default value of `n_init` will change from 10 to 'auto' in 1.4. Set the value of `n_init` explicitly to suppress the warning\n",
      "  super()._check_params_vs_input(X, default_n_init=10)\n",
      "/Users/disha/anaconda3/envs/pyleo/lib/python3.10/site-packages/sklearn/cluster/_kmeans.py:1416: FutureWarning: The default value of `n_init` will change from 10 to 'auto' in 1.4. Set the value of `n_init` explicitly to suppress the warning\n",
      "  super()._check_params_vs_input(X, default_n_init=10)\n",
      "/Users/disha/anaconda3/envs/pyleo/lib/python3.10/site-packages/sklearn/cluster/_kmeans.py:1416: FutureWarning: The default value of `n_init` will change from 10 to 'auto' in 1.4. Set the value of `n_init` explicitly to suppress the warning\n",
      "  super()._check_params_vs_input(X, default_n_init=10)\n",
      "/Users/disha/anaconda3/envs/pyleo/lib/python3.10/site-packages/sklearn/cluster/_kmeans.py:1416: FutureWarning: The default value of `n_init` will change from 10 to 'auto' in 1.4. Set the value of `n_init` explicitly to suppress the warning\n",
      "  super()._check_params_vs_input(X, default_n_init=10)\n",
      "/Users/disha/anaconda3/envs/pyleo/lib/python3.10/site-packages/sklearn/cluster/_kmeans.py:1416: FutureWarning: The default value of `n_init` will change from 10 to 'auto' in 1.4. Set the value of `n_init` explicitly to suppress the warning\n",
      "  super()._check_params_vs_input(X, default_n_init=10)\n",
      "/Users/disha/anaconda3/envs/pyleo/lib/python3.10/site-packages/sklearn/cluster/_kmeans.py:1416: FutureWarning: The default value of `n_init` will change from 10 to 'auto' in 1.4. Set the value of `n_init` explicitly to suppress the warning\n",
      "  super()._check_params_vs_input(X, default_n_init=10)\n"
     ]
    },
    {
     "data": {
      "image/png": "[encoded data removed]",
      "text/plain": [
       "<Figure size 640x480 with 1 Axes>"
      ]
     },
     "metadata": {},
     "output_type": "display_data"
    }
   ],
   "source": [
    "from sklearn.cluster import KMeans\n",
    "#elbow method to determine number of clusters\n",
    "wcss = {} \n",
    "for i in range(1, 11): \n",
    "    kmeans = KMeans(n_clusters = i, init = 'k-means++', random_state = 0)\n",
    "    kmeans.fit(X) \n",
    "    wcss[i] = kmeans.inertia_\n",
    "     \n",
    "plt.plot(wcss.keys(), wcss.values(), 'gs-')\n",
    "plt.xlabel(\"Values of 'k'\")\n",
    "plt.ylabel('WCSS')\n",
    "plt.show()"
   ]
  },
  {
   "cell_type": "code",
   "execution_count": 13,
   "id": "f9bb6f14-d7f0-4ecd-8ad9-ea18fc83096c",
   "metadata": {
    "tags": []
   },
   "outputs": [
    {
     "name": "stderr",
     "output_type": "stream",
     "text": [
      "/Users/disha/anaconda3/envs/pyleo/lib/python3.10/site-packages/sklearn/cluster/_kmeans.py:1416: FutureWarning: The default value of `n_init` will change from 10 to 'auto' in 1.4. Set the value of `n_init` explicitly to suppress the warning\n",
      "  super()._check_params_vs_input(X, default_n_init=10)\n"
     ]
    },
    {
     "data": {
      "text/html": [
       "<style>#sk-container-id-1 {color: black;}#sk-container-id-1 pre{padding: 0;}#sk-container-id-1 div.sk-toggleable {background-color: white;}#sk-container-id-1 label.sk-toggleable__label {cursor: pointer;display: block;width: 100%;margin-bottom: 0;padding: 0.3em;box-sizing: border-box;text-align: center;}#sk-container-id-1 label.sk-toggleable__label-arrow:before {content: \"▸\";float: left;margin-right: 0.25em;color: #696969;}#sk-container-id-1 label.sk-toggleable__label-arrow:hover:before {color: black;}#sk-container-id-1 div.sk-estimator:hover label.sk-toggleable__label-arrow:before {color: black;}#sk-container-id-1 div.sk-toggleable__content {max-height: 0;max-width: 0;overflow: hidden;text-align: left;background-color: #f0f8ff;}#sk-container-id-1 div.sk-toggleable__content pre {margin: 0.2em;color: black;border-radius: 0.25em;background-color: #f0f8ff;}#sk-container-id-1 input.sk-toggleable__control:checked~div.sk-toggleable__content {max-height: 200px;max-width: 100%;overflow: auto;}#sk-container-id-1 input.sk-toggleable__control:checked~label.sk-toggleable__label-arrow:before {content: \"▾\";}#sk-container-id-1 div.sk-estimator input.sk-toggleable__control:checked~label.sk-toggleable__label {background-color: #d4ebff;}#sk-container-id-1 div.sk-label input.sk-toggleable__control:checked~label.sk-toggleable__label {background-color: #d4ebff;}#sk-container-id-1 input.sk-hidden--visually {border: 0;clip: rect(1px 1px 1px 1px);clip: rect(1px, 1px, 1px, 1px);height: 1px;margin: -1px;overflow: hidden;padding: 0;position: absolute;width: 1px;}#sk-container-id-1 div.sk-estimator {font-family: monospace;background-color: #f0f8ff;border: 1px dotted black;border-radius: 0.25em;box-sizing: border-box;margin-bottom: 0.5em;}#sk-container-id-1 div.sk-estimator:hover {background-color: #d4ebff;}#sk-container-id-1 div.sk-parallel-item::after {content: \"\";width: 100%;border-bottom: 1px solid gray;flex-grow: 1;}#sk-container-id-1 div.sk-label:hover label.sk-toggleable__label {background-color: #d4ebff;}#sk-container-id-1 div.sk-serial::before {content: \"\";position: absolute;border-left: 1px solid gray;box-sizing: border-box;top: 0;bottom: 0;left: 50%;z-index: 0;}#sk-container-id-1 div.sk-serial {display: flex;flex-direction: column;align-items: center;background-color: white;padding-right: 0.2em;padding-left: 0.2em;position: relative;}#sk-container-id-1 div.sk-item {position: relative;z-index: 1;}#sk-container-id-1 div.sk-parallel {display: flex;align-items: stretch;justify-content: center;background-color: white;position: relative;}#sk-container-id-1 div.sk-item::before, #sk-container-id-1 div.sk-parallel-item::before {content: \"\";position: absolute;border-left: 1px solid gray;box-sizing: border-box;top: 0;bottom: 0;left: 50%;z-index: -1;}#sk-container-id-1 div.sk-parallel-item {display: flex;flex-direction: column;z-index: 1;position: relative;background-color: white;}#sk-container-id-1 div.sk-parallel-item:first-child::after {align-self: flex-end;width: 50%;}#sk-container-id-1 div.sk-parallel-item:last-child::after {align-self: flex-start;width: 50%;}#sk-container-id-1 div.sk-parallel-item:only-child::after {width: 0;}#sk-container-id-1 div.sk-dashed-wrapped {border: 1px dashed gray;margin: 0 0.4em 0.5em 0.4em;box-sizing: border-box;padding-bottom: 0.4em;background-color: white;}#sk-container-id-1 div.sk-label label {font-family: monospace;font-weight: bold;display: inline-block;line-height: 1.2em;}#sk-container-id-1 div.sk-label-container {text-align: center;}#sk-container-id-1 div.sk-container {/* jupyter's `normalize.less` sets `[hidden] { display: none; }` but bootstrap.min.css set `[hidden] { display: none !important; }` so we also need the `!important` here to be able to override the default hidden behavior on the sphinx rendered scikit-learn.org. See: https://github.com/scikit-learn/scikit-learn/issues/21755 */display: inline-block !important;position: relative;}#sk-container-id-1 div.sk-text-repr-fallback {display: none;}</style><div id=\"sk-container-id-1\" class=\"sk-top-container\"><div class=\"sk-text-repr-fallback\"><pre>KMeans(n_clusters=2)</pre><b>In a Jupyter environment, please rerun this cell to show the HTML representation or trust the notebook. <br />On GitHub, the HTML representation is unable to render, please try loading this page with nbviewer.org.</b></div><div class=\"sk-container\" hidden><div class=\"sk-item\"><div class=\"sk-estimator sk-toggleable\"><input class=\"sk-toggleable__control sk-hidden--visually\" id=\"sk-estimator-id-1\" type=\"checkbox\" checked><label for=\"sk-estimator-id-1\" class=\"sk-toggleable__label sk-toggleable__label-arrow\">KMeans</label><div class=\"sk-toggleable__content\"><pre>KMeans(n_clusters=2)</pre></div></div></div></div></div>"
      ],
      "text/plain": [
       "KMeans(n_clusters=2)"
      ]
     },
     "execution_count": 13,
     "metadata": {},
     "output_type": "execute_result"
    }
   ],
   "source": [
    "kmeans=KMeans(n_clusters=2)\n",
    "kmeans.fit(X)"
   ]
  },
  {
   "cell_type": "markdown",
   "id": "1d7f420b-27b0-489b-8b10-0873aa5050b5",
   "metadata": {},
   "source": [
    "How many clusters are the right choice, why?\n",
    "- The right choice for the number of clusters is 2. Because the bend of the elbow plot is at 2."
   ]
  },
  {
   "cell_type": "code",
   "execution_count": 14,
   "id": "a73527da-ad25-4ce0-9248-5ab00d757778",
   "metadata": {
    "tags": []
   },
   "outputs": [
    {
     "data": {
      "text/plain": [
       "array([[-3.29170731e+01, -1.13006243e-02, -1.65074449e-02,\n",
       "         1.56883295e-02, -1.48728599e-03],\n",
       "       [ 5.94903618e+01,  2.04233903e-02,  2.98335721e-02,\n",
       "        -2.83532012e-02,  2.68794195e-03]])"
      ]
     },
     "execution_count": 14,
     "metadata": {},
     "output_type": "execute_result"
    }
   ],
   "source": [
    "kmeans.cluster_centers_"
   ]
  },
  {
   "cell_type": "code",
   "execution_count": 15,
   "id": "8d555158-6c38-46ad-a98a-e6e3bf15cceb",
   "metadata": {
    "tags": []
   },
   "outputs": [
    {
     "data": {
      "text/plain": [
       "array([0, 0, 0, ..., 0, 0, 0], dtype=int32)"
      ]
     },
     "execution_count": 15,
     "metadata": {},
     "output_type": "execute_result"
    }
   ],
   "source": [
    "kmeans.labels_"
   ]
  },
  {
   "cell_type": "code",
   "execution_count": 16,
   "id": "017227fd-0dd3-47cf-99ec-4880596d16ce",
   "metadata": {
    "tags": []
   },
   "outputs": [
    {
     "data": {
      "text/html": [
       "<div>\n",
       "<style scoped>\n",
       "    .dataframe tbody tr th:only-of-type {\n",
       "        vertical-align: middle;\n",
       "    }\n",
       "\n",
       "    .dataframe tbody tr th {\n",
       "        vertical-align: top;\n",
       "    }\n",
       "\n",
       "    .dataframe thead th {\n",
       "        text-align: right;\n",
       "    }\n",
       "</style>\n",
       "<table border=\"1\" class=\"dataframe\">\n",
       "  <thead>\n",
       "    <tr style=\"text-align: right;\">\n",
       "      <th></th>\n",
       "      <th>PCA1</th>\n",
       "      <th>PCA2</th>\n",
       "    </tr>\n",
       "  </thead>\n",
       "  <tbody>\n",
       "    <tr>\n",
       "      <th>0</th>\n",
       "      <td>-34.846205</td>\n",
       "      <td>-1.888302</td>\n",
       "    </tr>\n",
       "    <tr>\n",
       "      <th>1</th>\n",
       "      <td>-37.867290</td>\n",
       "      <td>-1.162442</td>\n",
       "    </tr>\n",
       "    <tr>\n",
       "      <th>2</th>\n",
       "      <td>-33.843561</td>\n",
       "      <td>-1.648540</td>\n",
       "    </tr>\n",
       "    <tr>\n",
       "      <th>3</th>\n",
       "      <td>-33.911753</td>\n",
       "      <td>0.094715</td>\n",
       "    </tr>\n",
       "    <tr>\n",
       "      <th>4</th>\n",
       "      <td>-33.911136</td>\n",
       "      <td>0.024181</td>\n",
       "    </tr>\n",
       "  </tbody>\n",
       "</table>\n",
       "</div>"
      ],
      "text/plain": [
       "        PCA1      PCA2\n",
       "0 -34.846205 -1.888302\n",
       "1 -37.867290 -1.162442\n",
       "2 -33.843561 -1.648540\n",
       "3 -33.911753  0.094715\n",
       "4 -33.911136  0.024181"
      ]
     },
     "execution_count": 16,
     "metadata": {},
     "output_type": "execute_result"
    }
   ],
   "source": [
    "pca = PCA(n_components=2)\n",
    "reduced_X=pd.DataFrame(data=pca.fit_transform(X),columns=['PCA1','PCA2'])\n",
    " \n",
    "#Reduced Features\n",
    "reduced_X.head()\n"
   ]
  },
  {
   "cell_type": "code",
   "execution_count": 17,
   "id": "34b3dc2b-d867-4a38-bf97-f14924d0995d",
   "metadata": {
    "tags": []
   },
   "outputs": [
    {
     "data": {
      "text/plain": [
       "array([[-3.29170731e+01, -1.13006243e-02],\n",
       "       [ 5.94903618e+01,  2.04233903e-02]])"
      ]
     },
     "execution_count": 17,
     "metadata": {},
     "output_type": "execute_result"
    }
   ],
   "source": [
    "centers=pca.transform(kmeans.cluster_centers_)\n",
    " \n",
    "# reduced centers\n",
    "centers"
   ]
  },
  {
   "cell_type": "code",
   "execution_count": 18,
   "id": "ea4e99b9-5db7-4335-9920-2e10a63e5c34",
   "metadata": {
    "tags": []
   },
   "outputs": [
    {
     "data": {
      "image/png": "[encoded data removed]",
      "text/plain": [
       "<Figure size 700x500 with 1 Axes>"
      ]
     },
     "metadata": {},
     "output_type": "display_data"
    }
   ],
   "source": [
    "plt.figure(figsize=(7,5))\n",
    " \n",
    "# Scatter plot\n",
    "plt.scatter(reduced_X['PCA1'],reduced_X['PCA2'],c=kmeans.labels_)\n",
    "plt.scatter(centers[:,0],centers[:,1],marker='x',s=100,c='red')\n",
    "plt.xlabel('PC1')\n",
    "plt.ylabel('PC2')\n",
    "plt.tight_layout()"
   ]
  },
  {
   "cell_type": "markdown",
   "id": "8e76b395-4fc5-451e-a9d2-0129a07cb913",
   "metadata": {},
   "source": [
    "Does the clustering make sense with what you can see with your eyes?\n",
    "- The clustering make sense as in it clusters into two separate groups."
   ]
  },
  {
   "cell_type": "code",
   "execution_count": null,
   "id": "3d501c37-8b5b-4656-97c8-1dc627a3de86",
   "metadata": {},
   "outputs": [],
   "source": []
  },
  {
   "cell_type": "code",
   "execution_count": null,
   "id": "0117af81-bba6-4401-9f3f-f2f5bfeed0d0",
   "metadata": {},
   "outputs": [],
   "source": []
  },
  {
   "cell_type": "code",
   "execution_count": null,
   "id": "437e16e1-2532-4e28-a092-48461d45387a",
   "metadata": {},
   "outputs": [],
   "source": []
  },
  {
   "cell_type": "code",
   "execution_count": null,
   "id": "b800d18b-1dc6-4b8f-9743-1059865cd57b",
   "metadata": {},
   "outputs": [],
   "source": []
  },
  {
   "cell_type": "code",
   "execution_count": null,
   "id": "19d85954-f99f-423b-9b78-e6981e47e7d7",
   "metadata": {},
   "outputs": [],
   "source": []
  },
  {
   "cell_type": "code",
   "execution_count": null,
   "id": "7deb4283-22a8-46d6-9d6c-2302057761c3",
   "metadata": {},
   "outputs": [],
   "source": []
  },
  {
   "cell_type": "code",
   "execution_count": null,
   "id": "a65a7fef-cdec-4de2-b679-1e532a15bfca",
   "metadata": {},
   "outputs": [],
   "source": []
  },
  {
   "cell_type": "code",
   "execution_count": null,
   "id": "9883aa74-a7c2-403a-9e22-2ed4e3d35b41",
   "metadata": {},
   "outputs": [],
   "source": []
  }
 ],
 "metadata": {
  "kernelspec": {
   "display_name": "pyleo",
   "language": "python",
   "name": "pyleo"
  },
  "language_info": {
   "codemirror_mode": {
    "name": "ipython",
    "version": 3
   },
   "file_extension": ".py",
   "mimetype": "text/x-python",
   "name": "python",
   "nbconvert_exporter": "python",
   "pygments_lexer": "ipython3",
   "version": "3.10.13"
  }
 },
 "nbformat": 4,
 "nbformat_minor": 5
}
