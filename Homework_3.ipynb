{
 "cells": [
  {
   "cell_type": "code",
   "execution_count": 1,
   "id": "ae3898c5",
   "metadata": {},
   "outputs": [],
   "source": [
    "import pandas as pd\n",
    "import matplotlib.pyplot as plt\n",
    "import seaborn as sns"
   ]
  },
  {
   "cell_type": "code",
   "execution_count": 2,
   "id": "43d05d35",
   "metadata": {},
   "outputs": [],
   "source": [
    "filename = \"LA_AQS_2023.csv\"\n"
   ]
  },
  {
   "cell_type": "markdown",
   "id": "bb00e361",
   "metadata": {},
   "source": [
    "Pandas package reads the data file"
   ]
  },
  {
   "cell_type": "code",
   "execution_count": 3,
   "id": "57bf033a",
   "metadata": {},
   "outputs": [],
   "source": [
    "df = pd.read_csv(filename)"
   ]
  },
  {
   "cell_type": "code",
   "execution_count": 4,
   "id": "d9cdbc5b",
   "metadata": {},
   "outputs": [
    {
     "data": {
      "text/html": [
       "<div>\n",
       "<style scoped>\n",
       "    .dataframe tbody tr th:only-of-type {\n",
       "        vertical-align: middle;\n",
       "    }\n",
       "\n",
       "    .dataframe tbody tr th {\n",
       "        vertical-align: top;\n",
       "    }\n",
       "\n",
       "    .dataframe thead th {\n",
       "        text-align: right;\n",
       "    }\n",
       "</style>\n",
       "<table border=\"1\" class=\"dataframe\">\n",
       "  <thead>\n",
       "    <tr style=\"text-align: right;\">\n",
       "      <th></th>\n",
       "      <th>State Code</th>\n",
       "      <th>County Code</th>\n",
       "      <th>Site Number</th>\n",
       "      <th>Parameter Code</th>\n",
       "      <th>POC</th>\n",
       "      <th>Latitude</th>\n",
       "      <th>Longitude</th>\n",
       "      <th>Datum</th>\n",
       "      <th>Parameter Name</th>\n",
       "      <th>Duration Description</th>\n",
       "      <th>...</th>\n",
       "      <th>AQI</th>\n",
       "      <th>Daily Criteria Indicator</th>\n",
       "      <th>Tribe Name</th>\n",
       "      <th>State Name</th>\n",
       "      <th>County Name</th>\n",
       "      <th>City Name</th>\n",
       "      <th>Local Site Name</th>\n",
       "      <th>Address</th>\n",
       "      <th>MSA or CBSA Name</th>\n",
       "      <th>Data Source</th>\n",
       "    </tr>\n",
       "  </thead>\n",
       "  <tbody>\n",
       "    <tr>\n",
       "      <th>0</th>\n",
       "      <td>6</td>\n",
       "      <td>37</td>\n",
       "      <td>1103</td>\n",
       "      <td>68103</td>\n",
       "      <td>1</td>\n",
       "      <td>34.06659</td>\n",
       "      <td>-118.22688</td>\n",
       "      <td>WGS84</td>\n",
       "      <td>Ambient Min Temperature</td>\n",
       "      <td>24 HOUR</td>\n",
       "      <td>...</td>\n",
       "      <td>.</td>\n",
       "      <td>Y</td>\n",
       "      <td>NaN</td>\n",
       "      <td>California</td>\n",
       "      <td>Los Angeles</td>\n",
       "      <td>Los Angeles</td>\n",
       "      <td>Los Angeles-North Main Street</td>\n",
       "      <td>1630 N MAIN ST, LOS ANGELES</td>\n",
       "      <td>Los Angeles-Long Beach-Anaheim, CA</td>\n",
       "      <td>AQS Data Mart</td>\n",
       "    </tr>\n",
       "    <tr>\n",
       "      <th>1</th>\n",
       "      <td>6</td>\n",
       "      <td>37</td>\n",
       "      <td>1103</td>\n",
       "      <td>42602</td>\n",
       "      <td>3</td>\n",
       "      <td>34.06659</td>\n",
       "      <td>-118.22688</td>\n",
       "      <td>WGS84</td>\n",
       "      <td>Nitrogen dioxide (NO2)</td>\n",
       "      <td>1 HOUR</td>\n",
       "      <td>...</td>\n",
       "      <td>16</td>\n",
       "      <td>Y</td>\n",
       "      <td>NaN</td>\n",
       "      <td>California</td>\n",
       "      <td>Los Angeles</td>\n",
       "      <td>Los Angeles</td>\n",
       "      <td>Los Angeles-North Main Street</td>\n",
       "      <td>1630 N MAIN ST, LOS ANGELES</td>\n",
       "      <td>Los Angeles-Long Beach-Anaheim, CA</td>\n",
       "      <td>AQS Data Mart</td>\n",
       "    </tr>\n",
       "    <tr>\n",
       "      <th>2</th>\n",
       "      <td>6</td>\n",
       "      <td>37</td>\n",
       "      <td>1103</td>\n",
       "      <td>62201</td>\n",
       "      <td>1</td>\n",
       "      <td>34.06659</td>\n",
       "      <td>-118.22688</td>\n",
       "      <td>WGS84</td>\n",
       "      <td>Relative Humidity</td>\n",
       "      <td>1 HOUR</td>\n",
       "      <td>...</td>\n",
       "      <td>.</td>\n",
       "      <td>Y</td>\n",
       "      <td>NaN</td>\n",
       "      <td>California</td>\n",
       "      <td>Los Angeles</td>\n",
       "      <td>Los Angeles</td>\n",
       "      <td>Los Angeles-North Main Street</td>\n",
       "      <td>1630 N MAIN ST, LOS ANGELES</td>\n",
       "      <td>Los Angeles-Long Beach-Anaheim, CA</td>\n",
       "      <td>AQS Data Mart</td>\n",
       "    </tr>\n",
       "    <tr>\n",
       "      <th>3</th>\n",
       "      <td>6</td>\n",
       "      <td>37</td>\n",
       "      <td>1103</td>\n",
       "      <td>62101</td>\n",
       "      <td>1</td>\n",
       "      <td>34.06659</td>\n",
       "      <td>-118.22688</td>\n",
       "      <td>WGS84</td>\n",
       "      <td>Outdoor Temperature</td>\n",
       "      <td>1 HOUR</td>\n",
       "      <td>...</td>\n",
       "      <td>.</td>\n",
       "      <td>Y</td>\n",
       "      <td>NaN</td>\n",
       "      <td>California</td>\n",
       "      <td>Los Angeles</td>\n",
       "      <td>Los Angeles</td>\n",
       "      <td>Los Angeles-North Main Street</td>\n",
       "      <td>1630 N MAIN ST, LOS ANGELES</td>\n",
       "      <td>Los Angeles-Long Beach-Anaheim, CA</td>\n",
       "      <td>AQS Data Mart</td>\n",
       "    </tr>\n",
       "    <tr>\n",
       "      <th>4</th>\n",
       "      <td>6</td>\n",
       "      <td>37</td>\n",
       "      <td>1103</td>\n",
       "      <td>42603</td>\n",
       "      <td>1</td>\n",
       "      <td>34.06659</td>\n",
       "      <td>-118.22688</td>\n",
       "      <td>WGS84</td>\n",
       "      <td>Oxides of nitrogen (NOx)</td>\n",
       "      <td>1 HOUR</td>\n",
       "      <td>...</td>\n",
       "      <td>.</td>\n",
       "      <td>Y</td>\n",
       "      <td>NaN</td>\n",
       "      <td>California</td>\n",
       "      <td>Los Angeles</td>\n",
       "      <td>Los Angeles</td>\n",
       "      <td>Los Angeles-North Main Street</td>\n",
       "      <td>1630 N MAIN ST, LOS ANGELES</td>\n",
       "      <td>Los Angeles-Long Beach-Anaheim, CA</td>\n",
       "      <td>AQS Data Mart</td>\n",
       "    </tr>\n",
       "  </tbody>\n",
       "</table>\n",
       "<p>5 rows × 34 columns</p>\n",
       "</div>"
      ],
      "text/plain": [
       "   State Code  County Code  Site Number  Parameter Code  POC  Latitude  \\\n",
       "0           6           37         1103           68103    1  34.06659   \n",
       "1           6           37         1103           42602    3  34.06659   \n",
       "2           6           37         1103           62201    1  34.06659   \n",
       "3           6           37         1103           62101    1  34.06659   \n",
       "4           6           37         1103           42603    1  34.06659   \n",
       "\n",
       "   Longitude  Datum            Parameter Name Duration Description  ... AQI  \\\n",
       "0 -118.22688  WGS84   Ambient Min Temperature              24 HOUR  ...   .   \n",
       "1 -118.22688  WGS84    Nitrogen dioxide (NO2)               1 HOUR  ...  16   \n",
       "2 -118.22688  WGS84         Relative Humidity               1 HOUR  ...   .   \n",
       "3 -118.22688  WGS84       Outdoor Temperature               1 HOUR  ...   .   \n",
       "4 -118.22688  WGS84  Oxides of nitrogen (NOx)               1 HOUR  ...   .   \n",
       "\n",
       "  Daily Criteria Indicator  Tribe Name  State Name  County Name    City Name  \\\n",
       "0                        Y         NaN  California  Los Angeles  Los Angeles   \n",
       "1                        Y         NaN  California  Los Angeles  Los Angeles   \n",
       "2                        Y         NaN  California  Los Angeles  Los Angeles   \n",
       "3                        Y         NaN  California  Los Angeles  Los Angeles   \n",
       "4                        Y         NaN  California  Los Angeles  Los Angeles   \n",
       "\n",
       "                 Local Site Name                      Address  \\\n",
       "0  Los Angeles-North Main Street  1630 N MAIN ST, LOS ANGELES   \n",
       "1  Los Angeles-North Main Street  1630 N MAIN ST, LOS ANGELES   \n",
       "2  Los Angeles-North Main Street  1630 N MAIN ST, LOS ANGELES   \n",
       "3  Los Angeles-North Main Street  1630 N MAIN ST, LOS ANGELES   \n",
       "4  Los Angeles-North Main Street  1630 N MAIN ST, LOS ANGELES   \n",
       "\n",
       "                     MSA or CBSA Name    Data Source  \n",
       "0  Los Angeles-Long Beach-Anaheim, CA  AQS Data Mart  \n",
       "1  Los Angeles-Long Beach-Anaheim, CA  AQS Data Mart  \n",
       "2  Los Angeles-Long Beach-Anaheim, CA  AQS Data Mart  \n",
       "3  Los Angeles-Long Beach-Anaheim, CA  AQS Data Mart  \n",
       "4  Los Angeles-Long Beach-Anaheim, CA  AQS Data Mart  \n",
       "\n",
       "[5 rows x 34 columns]"
      ]
     },
     "execution_count": 4,
     "metadata": {},
     "output_type": "execute_result"
    }
   ],
   "source": [
    "df.head()"
   ]
  },
  {
   "cell_type": "code",
   "execution_count": 5,
   "id": "1ac9452d",
   "metadata": {},
   "outputs": [
    {
     "data": {
      "text/plain": [
       "0           Ambient Min Temperature\n",
       "1            Nitrogen dioxide (NO2)\n",
       "2                 Relative Humidity\n",
       "3               Outdoor Temperature\n",
       "4          Oxides of nitrogen (NOx)\n",
       "                    ...            \n",
       "22155               Solar radiation\n",
       "22156    Wind Direction - Resultant\n",
       "22157        Wind Speed - Resultant\n",
       "22158             Relative Humidity\n",
       "22159           Outdoor Temperature\n",
       "Name: Parameter Name, Length: 22160, dtype: object"
      ]
     },
     "execution_count": 5,
     "metadata": {},
     "output_type": "execute_result"
    }
   ],
   "source": [
    "df['Parameter Name']"
   ]
  },
  {
   "cell_type": "code",
   "execution_count": 6,
   "id": "f4779f32",
   "metadata": {},
   "outputs": [
    {
     "data": {
      "text/html": [
       "<div>\n",
       "<style scoped>\n",
       "    .dataframe tbody tr th:only-of-type {\n",
       "        vertical-align: middle;\n",
       "    }\n",
       "\n",
       "    .dataframe tbody tr th {\n",
       "        vertical-align: top;\n",
       "    }\n",
       "\n",
       "    .dataframe thead th {\n",
       "        text-align: right;\n",
       "    }\n",
       "</style>\n",
       "<table border=\"1\" class=\"dataframe\">\n",
       "  <thead>\n",
       "    <tr style=\"text-align: right;\">\n",
       "      <th></th>\n",
       "      <th>State Code</th>\n",
       "      <th>County Code</th>\n",
       "      <th>Site Number</th>\n",
       "      <th>Parameter Code</th>\n",
       "      <th>POC</th>\n",
       "      <th>Latitude</th>\n",
       "      <th>Longitude</th>\n",
       "      <th>Datum</th>\n",
       "      <th>Parameter Name</th>\n",
       "      <th>Duration Description</th>\n",
       "      <th>...</th>\n",
       "      <th>AQI</th>\n",
       "      <th>Daily Criteria Indicator</th>\n",
       "      <th>Tribe Name</th>\n",
       "      <th>State Name</th>\n",
       "      <th>County Name</th>\n",
       "      <th>City Name</th>\n",
       "      <th>Local Site Name</th>\n",
       "      <th>Address</th>\n",
       "      <th>MSA or CBSA Name</th>\n",
       "      <th>Data Source</th>\n",
       "    </tr>\n",
       "  </thead>\n",
       "  <tbody>\n",
       "    <tr>\n",
       "      <th>20</th>\n",
       "      <td>6</td>\n",
       "      <td>37</td>\n",
       "      <td>1103</td>\n",
       "      <td>44201</td>\n",
       "      <td>1</td>\n",
       "      <td>34.06659</td>\n",
       "      <td>-118.22688</td>\n",
       "      <td>WGS84</td>\n",
       "      <td>Ozone</td>\n",
       "      <td>1 HOUR</td>\n",
       "      <td>...</td>\n",
       "      <td>.</td>\n",
       "      <td>Y</td>\n",
       "      <td>NaN</td>\n",
       "      <td>California</td>\n",
       "      <td>Los Angeles</td>\n",
       "      <td>Los Angeles</td>\n",
       "      <td>Los Angeles-North Main Street</td>\n",
       "      <td>1630 N MAIN ST, LOS ANGELES</td>\n",
       "      <td>Los Angeles-Long Beach-Anaheim, CA</td>\n",
       "      <td>AQS Data Mart</td>\n",
       "    </tr>\n",
       "    <tr>\n",
       "      <th>64</th>\n",
       "      <td>6</td>\n",
       "      <td>37</td>\n",
       "      <td>1103</td>\n",
       "      <td>44201</td>\n",
       "      <td>1</td>\n",
       "      <td>34.06659</td>\n",
       "      <td>-118.22688</td>\n",
       "      <td>WGS84</td>\n",
       "      <td>Ozone</td>\n",
       "      <td>1 HOUR</td>\n",
       "      <td>...</td>\n",
       "      <td>.</td>\n",
       "      <td>Y</td>\n",
       "      <td>NaN</td>\n",
       "      <td>California</td>\n",
       "      <td>Los Angeles</td>\n",
       "      <td>Los Angeles</td>\n",
       "      <td>Los Angeles-North Main Street</td>\n",
       "      <td>1630 N MAIN ST, LOS ANGELES</td>\n",
       "      <td>Los Angeles-Long Beach-Anaheim, CA</td>\n",
       "      <td>AQS Data Mart</td>\n",
       "    </tr>\n",
       "    <tr>\n",
       "      <th>204</th>\n",
       "      <td>6</td>\n",
       "      <td>37</td>\n",
       "      <td>1103</td>\n",
       "      <td>44201</td>\n",
       "      <td>1</td>\n",
       "      <td>34.06659</td>\n",
       "      <td>-118.22688</td>\n",
       "      <td>WGS84</td>\n",
       "      <td>Ozone</td>\n",
       "      <td>1 HOUR</td>\n",
       "      <td>...</td>\n",
       "      <td>.</td>\n",
       "      <td>Y</td>\n",
       "      <td>NaN</td>\n",
       "      <td>California</td>\n",
       "      <td>Los Angeles</td>\n",
       "      <td>Los Angeles</td>\n",
       "      <td>Los Angeles-North Main Street</td>\n",
       "      <td>1630 N MAIN ST, LOS ANGELES</td>\n",
       "      <td>Los Angeles-Long Beach-Anaheim, CA</td>\n",
       "      <td>AQS Data Mart</td>\n",
       "    </tr>\n",
       "    <tr>\n",
       "      <th>228</th>\n",
       "      <td>6</td>\n",
       "      <td>37</td>\n",
       "      <td>1103</td>\n",
       "      <td>44201</td>\n",
       "      <td>1</td>\n",
       "      <td>34.06659</td>\n",
       "      <td>-118.22688</td>\n",
       "      <td>WGS84</td>\n",
       "      <td>Ozone</td>\n",
       "      <td>1 HOUR</td>\n",
       "      <td>...</td>\n",
       "      <td>.</td>\n",
       "      <td>Y</td>\n",
       "      <td>NaN</td>\n",
       "      <td>California</td>\n",
       "      <td>Los Angeles</td>\n",
       "      <td>Los Angeles</td>\n",
       "      <td>Los Angeles-North Main Street</td>\n",
       "      <td>1630 N MAIN ST, LOS ANGELES</td>\n",
       "      <td>Los Angeles-Long Beach-Anaheim, CA</td>\n",
       "      <td>AQS Data Mart</td>\n",
       "    </tr>\n",
       "    <tr>\n",
       "      <th>271</th>\n",
       "      <td>6</td>\n",
       "      <td>37</td>\n",
       "      <td>1103</td>\n",
       "      <td>44201</td>\n",
       "      <td>1</td>\n",
       "      <td>34.06659</td>\n",
       "      <td>-118.22688</td>\n",
       "      <td>WGS84</td>\n",
       "      <td>Ozone</td>\n",
       "      <td>1 HOUR</td>\n",
       "      <td>...</td>\n",
       "      <td>.</td>\n",
       "      <td>Y</td>\n",
       "      <td>NaN</td>\n",
       "      <td>California</td>\n",
       "      <td>Los Angeles</td>\n",
       "      <td>Los Angeles</td>\n",
       "      <td>Los Angeles-North Main Street</td>\n",
       "      <td>1630 N MAIN ST, LOS ANGELES</td>\n",
       "      <td>Los Angeles-Long Beach-Anaheim, CA</td>\n",
       "      <td>AQS Data Mart</td>\n",
       "    </tr>\n",
       "  </tbody>\n",
       "</table>\n",
       "<p>5 rows × 34 columns</p>\n",
       "</div>"
      ],
      "text/plain": [
       "     State Code  County Code  Site Number  Parameter Code  POC  Latitude  \\\n",
       "20            6           37         1103           44201    1  34.06659   \n",
       "64            6           37         1103           44201    1  34.06659   \n",
       "204           6           37         1103           44201    1  34.06659   \n",
       "228           6           37         1103           44201    1  34.06659   \n",
       "271           6           37         1103           44201    1  34.06659   \n",
       "\n",
       "     Longitude  Datum Parameter Name Duration Description  ... AQI  \\\n",
       "20  -118.22688  WGS84          Ozone               1 HOUR  ...   .   \n",
       "64  -118.22688  WGS84          Ozone               1 HOUR  ...   .   \n",
       "204 -118.22688  WGS84          Ozone               1 HOUR  ...   .   \n",
       "228 -118.22688  WGS84          Ozone               1 HOUR  ...   .   \n",
       "271 -118.22688  WGS84          Ozone               1 HOUR  ...   .   \n",
       "\n",
       "    Daily Criteria Indicator  Tribe Name  State Name  County Name  \\\n",
       "20                         Y         NaN  California  Los Angeles   \n",
       "64                         Y         NaN  California  Los Angeles   \n",
       "204                        Y         NaN  California  Los Angeles   \n",
       "228                        Y         NaN  California  Los Angeles   \n",
       "271                        Y         NaN  California  Los Angeles   \n",
       "\n",
       "       City Name                Local Site Name                      Address  \\\n",
       "20   Los Angeles  Los Angeles-North Main Street  1630 N MAIN ST, LOS ANGELES   \n",
       "64   Los Angeles  Los Angeles-North Main Street  1630 N MAIN ST, LOS ANGELES   \n",
       "204  Los Angeles  Los Angeles-North Main Street  1630 N MAIN ST, LOS ANGELES   \n",
       "228  Los Angeles  Los Angeles-North Main Street  1630 N MAIN ST, LOS ANGELES   \n",
       "271  Los Angeles  Los Angeles-North Main Street  1630 N MAIN ST, LOS ANGELES   \n",
       "\n",
       "                       MSA or CBSA Name    Data Source  \n",
       "20   Los Angeles-Long Beach-Anaheim, CA  AQS Data Mart  \n",
       "64   Los Angeles-Long Beach-Anaheim, CA  AQS Data Mart  \n",
       "204  Los Angeles-Long Beach-Anaheim, CA  AQS Data Mart  \n",
       "228  Los Angeles-Long Beach-Anaheim, CA  AQS Data Mart  \n",
       "271  Los Angeles-Long Beach-Anaheim, CA  AQS Data Mart  \n",
       "\n",
       "[5 rows x 34 columns]"
      ]
     },
     "execution_count": 6,
     "metadata": {},
     "output_type": "execute_result"
    }
   ],
   "source": [
    "df_O3 = df[(df[\"Parameter Name\"]==\"Ozone\") & (df['Duration Description']==\"1 HOUR\")]\n",
    "df_O3.head()"
   ]
  },
  {
   "cell_type": "code",
   "execution_count": 7,
   "id": "f8f1b571",
   "metadata": {},
   "outputs": [
    {
     "data": {
      "text/plain": [
       "20       2023-01-01\n",
       "64       2023-01-02\n",
       "204      2023-01-03\n",
       "228      2023-01-04\n",
       "271      2023-01-05\n",
       "            ...    \n",
       "21122    2023-09-26\n",
       "21168    2023-09-27\n",
       "21218    2023-09-28\n",
       "21261    2023-09-29\n",
       "21305    2023-09-30\n",
       "Name: Date (Local), Length: 273, dtype: object"
      ]
     },
     "execution_count": 7,
     "metadata": {},
     "output_type": "execute_result"
    }
   ],
   "source": [
    "df_O3['Date (Local)']"
   ]
  },
  {
   "cell_type": "code",
   "execution_count": 8,
   "id": "8ee0b548",
   "metadata": {},
   "outputs": [
    {
     "name": "stderr",
     "output_type": "stream",
     "text": [
      "/var/folders/tj/h7yymnk16p1dd895mpk4pc080000gn/T/ipykernel_10360/3843948999.py:2: SettingWithCopyWarning: \n",
      "A value is trying to be set on a copy of a slice from a DataFrame.\n",
      "Try using .loc[row_indexer,col_indexer] = value instead\n",
      "\n",
      "See the caveats in the documentation: https://pandas.pydata.org/pandas-docs/stable/user_guide/indexing.html#returning-a-view-versus-a-copy\n",
      "  df_O3[\"Date (Local)\"] = pd.to_datetime(df_O3[\"Date (Local)\"])\n"
     ]
    }
   ],
   "source": [
    "# Let's make sure 'date' is actually a date in pandas\n",
    "df_O3[\"Date (Local)\"] = pd.to_datetime(df_O3[\"Date (Local)\"])"
   ]
  },
  {
   "cell_type": "code",
   "execution_count": 9,
   "id": "a26499b2",
   "metadata": {},
   "outputs": [
    {
     "data": {
      "text/plain": [
       "20      2023-01-01\n",
       "64      2023-01-02\n",
       "204     2023-01-03\n",
       "228     2023-01-04\n",
       "271     2023-01-05\n",
       "           ...    \n",
       "21122   2023-09-26\n",
       "21168   2023-09-27\n",
       "21218   2023-09-28\n",
       "21261   2023-09-29\n",
       "21305   2023-09-30\n",
       "Name: Date (Local), Length: 273, dtype: datetime64[ns]"
      ]
     },
     "execution_count": 9,
     "metadata": {},
     "output_type": "execute_result"
    }
   ],
   "source": [
    "df_O3['Date (Local)']"
   ]
  },
  {
   "cell_type": "code",
   "execution_count": 10,
   "id": "8038cfe1",
   "metadata": {},
   "outputs": [],
   "source": [
    "date = df_O3[\"Date (Local)\"]\n",
    "value = df_O3[\"Arithmetic Mean\"]"
   ]
  },
  {
   "cell_type": "code",
   "execution_count": 11,
   "id": "e64505bd",
   "metadata": {},
   "outputs": [
    {
     "data": {
      "text/plain": [
       "<Axes: xlabel='Date (Local)', ylabel='Arithmetic Mean'>"
      ]
     },
     "execution_count": 11,
     "metadata": {},
     "output_type": "execute_result"
    },
    {
     "data": {
      "image/png": "[encoded data removed]",
      "text/plain": [
       "<Figure size 1200x600 with 1 Axes>"
      ]
     },
     "metadata": {},
     "output_type": "display_data"
    }
   ],
   "source": [
    "plt.figure(figsize=(12, 6))\n",
    "sns.lineplot( data=df_O3, x=date, y=value)"
   ]
  },
  {
   "cell_type": "markdown",
   "id": "51b5ba7e",
   "metadata": {},
   "source": [
    "a. When is O3 highest at this monitor?\n",
    "\n",
    "\n",
    "b. How many days have O3 concentrations above 35 ppbv?"
   ]
  },
  {
   "cell_type": "code",
   "execution_count": 35,
   "id": "9c86d396",
   "metadata": {},
   "outputs": [
    {
     "name": "stdout",
     "output_type": "stream",
     "text": [
      "12292   2023-05-14\n",
      "Name: Date (Local), dtype: datetime64[ns]\n"
     ]
    }
   ],
   "source": [
    "high_O3 = df_O3['Arithmetic Mean'].max()\n",
    "date = df_O3.loc[df_O3['Arithmetic Mean'] == high_O3, 'Date (Local)']\n",
    "print(date)\n"
   ]
  },
  {
   "cell_type": "markdown",
   "id": "3f182211",
   "metadata": {},
   "source": [
    "The day with highest O3 concentration is 2023-05-14"
   ]
  },
  {
   "cell_type": "code",
   "execution_count": 33,
   "id": "692cfdfc",
   "metadata": {},
   "outputs": [],
   "source": [
    "days = sum(df_O3['Arithmetic Mean']> 0.035)"
   ]
  },
  {
   "cell_type": "code",
   "execution_count": 36,
   "id": "7c526017",
   "metadata": {},
   "outputs": [
    {
     "name": "stdout",
     "output_type": "stream",
     "text": [
      "43\n"
     ]
    }
   ],
   "source": [
    "print(days)"
   ]
  },
  {
   "cell_type": "markdown",
   "id": "bcd668e2",
   "metadata": {},
   "source": [
    "Number days when O3 concentrations was above 35ppbv is 43."
   ]
  }
 ],
 "metadata": {
  "kernelspec": {
   "display_name": "pyleo",
   "language": "python",
   "name": "pyleo"
  },
  "language_info": {
   "codemirror_mode": {
    "name": "ipython",
    "version": 3
   },
   "file_extension": ".py",
   "mimetype": "text/x-python",
   "name": "python",
   "nbconvert_exporter": "python",
   "pygments_lexer": "ipython3",
   "version": "3.10.13"
  }
 },
 "nbformat": 4,
 "nbformat_minor": 5
}
